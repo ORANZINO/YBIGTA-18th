<<<<<<< HEAD
{
 "cells": [
  {
   "cell_type": "markdown",
   "metadata": {
    "id": "mlQz3vXAU2QE"
   },
   "source": [
    "# 과제1: tensorflow를 이용한 NN 밑바닥부터 구현\n",
    "input feature가 100개이고,  \n",
    "hidden layer가 2개이고 neuron이 각각 50,10개이고,  \n",
    "output이 5개인 NN를 구현해 보자  \n",
    "* hidden layer는 relu를 activation function으로, output layer는 softmax를 activation function으로 사용"
   ]
  },
  {
   "cell_type": "code",
   "execution_count": 2,
   "metadata": {
    "id": "CeUa71VCU2QL"
   },
   "outputs": [],
   "source": [
    "import tensorflow as tf\n",
    "import numpy as np"
   ]
  },
  {
   "cell_type": "code",
   "execution_count": 3,
   "metadata": {
    "id": "Kfo6oOn8U2QM"
   },
   "outputs": [],
   "source": [
    "n_x = 100\n",
    "n_h1 = 50\n",
    "n_h2 = 10\n",
    "n_y = 5"
   ]
  },
  {
   "cell_type": "code",
   "execution_count": 5,
   "metadata": {},
   "outputs": [
    {
     "data": {
      "text/plain": [
       "array([3, 0, 2, 1, 3, 4, 4, 1, 1, 1, 2, 2, 4, 0, 1, 0, 4, 1, 4, 1, 2, 0,\n",
       "       4, 3, 0, 3, 3, 3, 2, 0, 0, 4, 3, 1, 4, 0, 3, 1, 4, 4, 4, 2, 0, 3,\n",
       "       3, 4, 0, 4, 2, 0, 2, 0, 3, 0, 2, 0, 1, 2, 1, 2, 3, 4, 1, 4, 4, 2,\n",
       "       0, 2, 2, 2, 2, 4, 2, 0, 0, 3, 3, 2, 1, 2, 1, 3, 2, 3, 2, 2, 1, 4,\n",
       "       1, 1, 2, 4, 0, 1, 1, 1, 2, 1, 4, 3, 0, 0, 2, 0, 4, 3, 0, 4, 3, 2,\n",
       "       1, 2, 4, 4, 0, 4, 4, 0, 1, 1, 4, 3, 2, 1, 4, 2, 4, 0, 1, 1, 4, 4,\n",
       "       3, 2, 1, 0, 2, 2, 2, 3, 4, 2, 3, 1, 1, 1, 1, 0, 1, 0, 1, 0, 2, 4,\n",
       "       2, 1, 4, 4, 0, 1, 2, 3, 1, 1, 0, 1, 2, 1, 0, 3, 2, 4, 3, 0, 2, 4,\n",
       "       2, 0, 3, 1, 1, 2, 4, 3, 3, 3, 3, 2, 1, 2, 1, 0, 3, 2, 3, 4, 1, 1,\n",
       "       3, 4, 1, 2, 4, 2, 1, 2, 3, 2, 4, 2, 3, 0, 3, 1, 1, 1, 3, 2, 0, 4,\n",
       "       2, 0, 2, 1, 4, 4, 0, 2, 3, 0, 0, 3, 0, 0, 1, 2, 1, 3, 1, 1, 3, 2,\n",
       "       3, 3, 1, 2, 3, 1, 1, 1, 1, 4, 4, 2, 0, 2, 1, 1, 4, 3, 1, 4, 1, 4,\n",
       "       0, 4, 3, 4, 2, 2, 3, 1, 2, 1, 3, 2, 4, 4, 4, 0, 2, 2, 3, 4, 4, 1,\n",
       "       3, 1, 4, 3, 2, 2, 2, 2, 3, 0, 1, 4, 4, 3, 3, 2, 1, 2, 4, 0, 0, 4,\n",
       "       2, 3, 1, 2, 0, 2, 2, 2, 1, 1, 4, 0, 4, 3, 2, 4, 0, 2, 0, 1, 3, 3,\n",
       "       1, 2, 4, 4, 0, 0, 3, 1, 1, 2, 2, 0, 3, 3, 1, 4, 1, 4, 4, 4, 3, 2,\n",
       "       1, 0, 4, 2, 1, 2, 2, 3, 0, 3, 0, 3, 0, 4, 2, 1, 3, 4, 1, 3, 1, 4,\n",
       "       0, 4, 3, 2, 3, 0, 0, 3, 1, 0, 1, 4, 0, 2, 4, 4, 3, 0, 0, 2, 1, 0,\n",
       "       0, 2, 4, 3, 1, 3, 4, 0, 4, 2, 0, 3, 4, 3, 2, 2, 0, 3, 1, 4, 0, 4,\n",
       "       4, 4, 0, 3, 4, 2, 1, 2, 2, 3, 2, 2, 2, 2, 0, 1, 3, 0, 0, 3, 3, 1,\n",
       "       0, 4, 4, 4, 1, 1, 0, 4, 0, 1, 0, 4, 4, 1, 4, 2, 1, 2, 0, 3, 2, 4,\n",
       "       3, 0, 1, 0, 3, 3, 4, 1, 1, 0, 0, 0, 3, 1, 2, 4, 2, 0, 4, 2, 1, 3,\n",
       "       2, 2, 1, 1, 1, 4, 1, 2, 3, 0, 0, 3, 4, 1, 4, 0])"
      ]
     },
     "execution_count": 5,
     "metadata": {},
     "output_type": "execute_result"
    }
   ],
   "source": [
    "np.random.randint(n_y,size=500)"
   ]
  },
  {
   "cell_type": "code",
   "execution_count": 6,
   "metadata": {
    "id": "WeNzQkQ-U2QM"
   },
   "outputs": [
    {
     "name": "stdout",
     "output_type": "stream",
     "text": [
      "[[-2.378233    0.03695931 -1.4398161  ...  0.15754664 -0.5957073\n",
      "  -0.42837775]\n",
      " [-1.4999564   0.95203704 -0.46135333 ...  0.8931456  -0.96332365\n",
      "  -1.5480312 ]\n",
      " [-0.21392094 -0.09336247  0.58761036 ...  0.27063033  1.3931605\n",
      "  -1.4683341 ]\n",
      " ...\n",
      " [-0.57062846  0.7616096  -0.8241719  ... -1.6036803   0.31703645\n",
      "   0.952956  ]\n",
      " [-0.8629339   0.64449644 -2.6843019  ...  0.43073025  1.5984033\n",
      "  -0.22502138]\n",
      " [-1.6084266  -0.91132784  0.40598968 ... -0.78830445 -2.432672\n",
      "  -1.19484   ]]\n",
      "[[0. 0. 0. 0. 1.]\n",
      " [0. 1. 0. 0. 0.]\n",
      " [0. 1. 0. 0. 0.]\n",
      " ...\n",
      " [0. 0. 0. 1. 0.]\n",
      " [0. 0. 0. 1. 0.]\n",
      " [1. 0. 0. 0. 0.]]\n"
     ]
    }
   ],
   "source": [
    "# Simulate train set\n",
    "m = 500\n",
    "\n",
    "x_train=np.random.randn(m,n_x).astype(np.float32)\n",
    "y_train=np.zeros((m,n_y)).astype(np.float32)\n",
    "y_train[np.arange(m),np.random.randint(n_y,size=m)]=1\n",
    "\n",
    "print(x_train)\n",
    "print(y_train)"
   ]
  },
  {
   "cell_type": "markdown",
   "metadata": {
    "id": "XO5ck0OrU2QN"
   },
   "source": [
    "* Initialization of weights"
   ]
  },
  {
   "cell_type": "code",
   "execution_count": 7,
   "metadata": {
    "id": "t5gEprk8U2QN"
   },
   "outputs": [],
   "source": [
    "w1=tf.Variable(1e-3*np.random.randn(n_x,n_h1).astype(np.float32),name=\"w1\")\n",
    "## 코드를 작성해 보세요 ##\n",
    "w2=tf.Variable(1e-3*np.random.randn(n_h1,n_h2).astype(np.float32),name=\"w2\")\n",
    "w3=tf.Variable(1e-3*np.random.randn(n_h2,n_y).astype(np.float32),name=\"w3\")"
   ]
  },
  {
   "cell_type": "markdown",
   "metadata": {
    "id": "J0hTdH3IU2QO"
   },
   "source": [
    "* forward propagation을 통해 prediction 값을 구하고, loss를 구하는 function을 만들어 봅시다"
   ]
  },
  {
   "cell_type": "code",
   "execution_count": 9,
   "metadata": {
    "id": "mRZYg6SWU2QO"
   },
   "outputs": [],
   "source": [
    "def forward(x):\n",
    "    z1=tf.matmul(x,w1)\n",
    "    a1=tf.nn.relu(z1)\n",
    "    ## 코드를 작성해 보세요 ##\n",
    "    z2=tf.matmul(a1, w2)\n",
    "    a2=tf.nn.relu(z2)\n",
    "    z3=tf.matmul(a2, w3)\n",
    "    predictions = tf.nn.softmax(z3)\n",
    "    return predictions\n",
    "\n",
    "def loss_fn(predictions, y):\n",
    "    loss= -tf.reduce_sum(y*tf.math.log(predictions))\n",
    "    return loss    "
   ]
  },
  {
   "cell_type": "markdown",
   "metadata": {
    "id": "aiGxU4zYU2QP"
   },
   "source": [
    "* backpropagation & update parameters"
   ]
  },
  {
   "cell_type": "code",
   "execution_count": 12,
   "metadata": {
    "id": "Br-xEdiDU2QP"
   },
   "outputs": [],
   "source": [
    "learning_rate=1e-2\n",
    "optimizer=tf.keras.optimizers.Adam(learning_rate)\n",
    "\n",
    "def train_step(x, y):\n",
    "    with tf.GradientTape() as tape:\n",
    "        predictions = forward(x)\n",
    "        loss = loss_fn(predictions, y)\n",
    "    ## 코드를 작성해 보세요 ## (hint: tape.gradient를 구글링 해보세요)\n",
    "    gradient = tape.gradient(loss, [w1, w2])\n",
    "    # optimizer와 위에서 구한 경사도를 이용해 가중치들을 업데이트 합니다.\n",
    "    optimizer.apply_gradients(zip(gradient, [w1, w2]))\n",
    "    return loss, w1, w2\n"
   ]
  },
  {
   "cell_type": "markdown",
   "metadata": {
    "id": "OU1oHsFoU2QP"
   },
   "source": [
    "* 간단하게 train loop를 작성해 loss가 줄어나가는지 확인해 봅시다."
   ]
  },
  {
   "cell_type": "code",
   "execution_count": 18,
   "metadata": {
    "id": "YIHNHAjPU2QP"
   },
   "outputs": [
    {
     "name": "stdout",
     "output_type": "stream",
     "text": [
      "[0.11037053, 0.110300586, 0.11023035, 0.11016034, 0.110087305, 0.11001605, 0.10994402, 0.10987473, 0.10980377, 0.10973199]\n"
     ]
    }
   ],
   "source": [
    "loss_list = []\n",
    "\n",
    "for step in range(10): \n",
    "    loss, w1, w2 = train_step(x_train, y_train)\n",
    "    loss_list.append(loss.numpy())\n",
    "    \n",
    "print(loss_list)"
   ]
  },
  {
   "cell_type": "markdown",
   "metadata": {
    "id": "MN_pVd5cU2QQ"
   },
   "source": [
    "# 과제2: MNIST 데이터를 나만의 NN model로 95 % 이상의 성능으로 training 시켜보자!\n",
    "\n",
    "\n",
    "## Loading MNIST training data"
   ]
  },
  {
   "cell_type": "code",
   "execution_count": 23,
   "metadata": {
    "id": "hwZNV5MFU2QQ"
   },
   "outputs": [],
   "source": [
    "from tensorflow import keras\n",
    "\n",
    "# import matplotlib\n",
    "import matplotlib.pyplot as plt\n",
    "%matplotlib inline\n",
    "\n",
    "# Loading the data\n",
    "(x_train, y_train), (x_test, y_test) = tf.keras.datasets.mnist.load_data()\n",
    "\n",
    "# Scaling(image data는 min-max scaling 주로 사용)\n",
    "x_train = x_train/255.0\n",
    "x_test = x_test/255.0"
   ]
  },
  {
   "cell_type": "markdown",
   "metadata": {
    "id": "RDU8J2xRU2QQ"
   },
   "source": [
    "## Training Data\n",
    "28 * 28 pixel 값을 가진 총 60000개의 이미지 데이터"
   ]
  },
  {
   "cell_type": "code",
   "execution_count": 20,
   "metadata": {
    "id": "jVvXmjQSU2QQ"
   },
   "outputs": [
    {
     "data": {
      "text/plain": [
       "(60000, 28, 28)"
      ]
     },
     "execution_count": 20,
     "metadata": {},
     "output_type": "execute_result"
    }
   ],
   "source": [
    "x_train.shape "
   ]
  },
  {
   "cell_type": "markdown",
   "metadata": {
    "id": "-VTAAYKSU2QQ"
   },
   "source": [
    "Neural network 모델에 맞게 이미지 데이터를 벡터 형태로 데이터를 reshape 합니다.  \n",
    "(Model을 만들 때 *keras.layers.Flatten(input_shape=(28, 28)) 이용해도 됨)"
   ]
  },
  {
   "cell_type": "code",
   "execution_count": 24,
   "metadata": {},
   "outputs": [
    {
     "data": {
      "image/png": "iVBORw0KGgoAAAANSUhEUgAAAPsAAAD4CAYAAAAq5pAIAAAAOXRFWHRTb2Z0d2FyZQBNYXRwbG90bGliIHZlcnNpb24zLjMuMywgaHR0cHM6Ly9tYXRwbG90bGliLm9yZy/Il7ecAAAACXBIWXMAAAsTAAALEwEAmpwYAAAOTklEQVR4nO3dfYxUZZbH8d8RQVSIQWk7xCHbsxM1MSbTgyVZw0tYxiXIP2AwZkicsJFsT3xJBkPMGDZxfEkMMcuMGM0kPQvCbGYdRwHBxOyihMSQ6GipqIDvpgmNvDRRGSHKLHD2j75MWqx6qqm6Vbfo8/0knaq6p27fQ8GPW3Wfe+sxdxeAke+8ohsA0BqEHQiCsANBEHYgCMIOBHF+Kzc2ceJE7+rqauUmgVD6+vp0+PBhq1RrKOxmNlfSKkmjJP2nu69IPb+rq0vlcrmRTQJIKJVKVWt1v403s1GSnpR0k6RrJC0ys2vq/X0AmquRz+xTJX3i7p+5+98k/UnS/HzaApC3RsJ+haS9Qx73Z8u+w8x6zKxsZuWBgYEGNgegEU0/Gu/uve5ecvdSR0dHszcHoIpGwr5P0uQhj3+QLQPQhhoJ+xuSrjSzH5rZGEk/k7Q5n7YA5K3uoTd3P2Fmd0v6Xw0Ova1x9125dQYgVw2Ns7v7i5JezKkXAE3E6bJAEIQdCIKwA0EQdiAIwg4EQdiBIAg7EARhB4Ig7EAQhB0IgrADQRB2IAjCDgRB2IEgCDsQBGEHgiDsQBCEHQiCsANBEHYgCMIOBEHYgSAIOxAEYQeCIOxAEIQdCIKwA0EQdiAIwg4E0dAsrmh/p06dStaPHz/e1O2vW7euau3YsWPJdXfv3p2sP/bYY8n68uXLq9aeeOKJ5LoXXnhhsr5y5cpk/Y477kjWi9BQ2M2sT9LXkk5KOuHupTyaApC/PPbs/+zuh3P4PQCaiM/sQBCNht0lbTGzN82sp9ITzKzHzMpmVh4YGGhwcwDq1WjYp7v7FEk3SbrLzGae+QR373X3kruXOjo6GtwcgHo1FHZ335fdHpK0UdLUPJoCkL+6w25mF5vZ+NP3Jc2RtDOvxgDkq5Gj8Z2SNprZ6d/z3+7+P7l0NcIcOXIkWT958mSy/s477yTrW7ZsqVr76quvkuv29vYm60Xq6upK1pctW5asr169umrtkksuSa47Y8aMZH327NnJejuqO+zu/pmkH+fYC4AmYugNCIKwA0EQdiAIwg4EQdiBILjENQf9/f3Jend3d7L+5Zdf5tjNueO889L7mtTQmVT7MtQlS5ZUrV1++eXJdceNG5esn4tng7JnB4Ig7EAQhB0IgrADQRB2IAjCDgRB2IEgGGfPwWWXXZasd3Z2JuvtPM4+Z86cZL3Wn33Dhg1VaxdccEFy3VmzZiXrODvs2YEgCDsQBGEHgiDsQBCEHQiCsANBEHYgCMbZc1Druuq1a9cm688991yyfsMNNyTrCxcuTNZTpk+fnqxv2rQpWR8zZkyyfuDAgaq1VatWJddFvtizA0EQdiAIwg4EQdiBIAg7EARhB4Ig7EAQ5u4t21ipVPJyudyy7Z0rjh8/nqzXGstevnx51dqjjz6aXHfbtm3J+syZM5N1tJdSqaRyuWyVajX37Ga2xswOmdnOIcsuNbOXzOzj7HZCng0DyN9w3savlTT3jGX3Sdrq7ldK2po9BtDGaobd3V+R9MUZi+dLWpfdXydpQb5tAchbvQfoOt19f3b/gKSqX7JmZj1mVjaz8sDAQJ2bA9Coho/G++ARvqpH+dy9191L7l46FyfDA0aKesN+0MwmSVJ2eyi/lgA0Q71h3yxpcXZ/saT0dZAAClfzenYze1rSLEkTzaxf0q8lrZD0ZzNbImmPpFub2eRIV+v702uZMKH+kc/HH388WZ8xY0ayblZxSBdtqGbY3X1RldJPc+4FQBNxuiwQBGEHgiDsQBCEHQiCsANB8FXSI8DSpUur1l5//fXkuhs3bkzWd+3alaxfe+21yTraB3t2IAjCDgRB2IEgCDsQBGEHgiDsQBCEHQiCcfYRIPVV0729vcl1t27dmqzPnz8/WV+wYEGyPm3atKq1m2++Obkul8/miz07EARhB4Ig7EAQhB0IgrADQRB2IAjCDgTBlM3B1brefe7cM+f0/K4jR47Uve01a9Yk6wsXLkzWx40bV/e2R6qGpmwGMDIQdiAIwg4EQdiBIAg7EARhB4Ig7EAQXM8e3NSpU5P1Wt8bf8899yTrzz77bNXa7bffnlz3008/TdbvvffeZH38+PHJejQ19+xmtsbMDpnZziHLHjCzfWa2I/uZ19w2ATRqOG/j10qqdBrVb929O/t5Md+2AOStZtjd/RVJX7SgFwBN1MgBurvN7N3sbf6Eak8ysx4zK5tZeWBgoIHNAWhEvWH/naQfSeqWtF/SympPdPdedy+5e6mjo6POzQFoVF1hd/eD7n7S3U9J+r2k9CFdAIWrK+xmNmnIw5sl7az2XADtoeb17Gb2tKRZkiZKOijp19njbkkuqU/SL9x9f62NcT37yPPtt98m66+99lrV2o033phct9a/zVtuuSVZf+aZZ5L1kSh1PXvNk2rcfVGFxasb7gpAS3G6LBAEYQeCIOxAEIQdCIKwA0FwiSsaMnbs2GR91qxZVWujRo1KrnvixIlk/fnnn0/WP/zww6q1q6++OrnuSMSeHQiCsANBEHYgCMIOBEHYgSAIOxAEYQeCYJwdSZ9//nmyvmHDhmT91VdfrVqrNY5ey/XXX5+sX3XVVQ39/pGGPTsQBGEHgiDsQBCEHQiCsANBEHYgCMIOBME4+whXa8qtJ598Mll/6qmnkvX+/v6z7mm4al3v3tXVlaybVfxG5bDYswNBEHYgCMIOBEHYgSAIOxAEYQeCIOxAEIyznwOOHj2arL/wwgtVaw899FBy3Y8++qiunvIwe/bsZH3FihXJ+nXXXZdnOyNezT27mU02s21mttvMdpnZL7Pll5rZS2b2cXY7ofntAqjXcN7Gn5C0zN2vkfRPku4ys2sk3Sdpq7tfKWlr9hhAm6oZdnff7+5vZfe/lvS+pCskzZe0LnvaOkkLmtQjgByc1QE6M+uS9BNJf5HU6e77s9IBSZ1V1ukxs7KZlWudpw2geYYddjMbJ2m9pKXu/tehNXd3SV5pPXfvdfeSu5c6OjoaahZA/YYVdjMbrcGg/9HdT3+d6EEzm5TVJ0k61JwWAeSh5tCbDV4nuFrS++7+myGlzZIWS1qR3W5qSocjwLFjx5L1vXv3Juu33XZbsv7222+fdU95mTNnTrL+4IMPVq3V+ipoLlHN13DG2adJ+rmk98xsR7ZsuQZD/mczWyJpj6Rbm9IhgFzUDLu7b5dU7b/Yn+bbDoBm4XRZIAjCDgRB2IEgCDsQBGEHguAS12H65ptvqtaWLl2aXHf79u3J+gcffFBPS7mYN29esn7//fcn693d3cn66NGjz7YlNAl7diAIwg4EQdiBIAg7EARhB4Ig7EAQhB0IIsw4e19fX7L+yCOPJOsvv/xy1dqePXvqaSk3F110UdXaww8/nFz3zjvvTNbHjBlTV09oP+zZgSAIOxAEYQeCIOxAEIQdCIKwA0EQdiCIMOPs69evT9ZXr17dtG1PmTIlWV+0aFGyfv756b+mnp6eqrWxY8cm10Uc7NmBIAg7EARhB4Ig7EAQhB0IgrADQRB2IAhz9/QTzCZL+oOkTkkuqdfdV5nZA5L+TdJA9tTl7v5i6neVSiUvl8sNNw2gslKppHK5XHHW5eGcVHNC0jJ3f8vMxkt608xeymq/dff/yKtRAM0znPnZ90van93/2szel3RFsxsDkK+z+sxuZl2SfiLpL9miu83sXTNbY2YTqqzTY2ZlMysPDAxUegqAFhh22M1snKT1kpa6+18l/U7SjyR1a3DPv7LSeu7e6+4ldy91dHQ03jGAugwr7GY2WoNB/6O7b5Akdz/o7ifd/ZSk30ua2rw2ATSqZtjNzCStlvS+u/9myPJJQ552s6Sd+bcHIC/DORo/TdLPJb1nZjuyZcslLTKzbg0Ox/VJ+kUT+gOQk+Ecjd8uqdK4XXJMHUB74Qw6IAjCDgRB2IEgCDsQBGEHgiDsQBCEHQiCsANBEHYgCMIOBEHYgSAIOxAEYQeCIOxAEDW/SjrXjZkNSNozZNFESYdb1sDZadfe2rUvid7qlWdv/+DuFb//raVh/97GzcruXiqsgYR27a1d+5LorV6t6o238UAQhB0Iouiw9xa8/ZR27a1d+5LorV4t6a3Qz+wAWqfoPTuAFiHsQBCFhN3M5prZh2b2iZndV0QP1ZhZn5m9Z2Y7zKzQ+aWzOfQOmdnOIcsuNbOXzOzj7LbiHHsF9faAme3LXrsdZjavoN4mm9k2M9ttZrvM7JfZ8kJfu0RfLXndWv6Z3cxGSfpI0r9I6pf0hqRF7r67pY1UYWZ9kkruXvgJGGY2U9JRSX9w92uzZY9K+sLdV2T/UU5w91+1SW8PSDpa9DTe2WxFk4ZOMy5pgaR/VYGvXaKvW9WC162IPftUSZ+4+2fu/jdJf5I0v4A+2p67vyLpizMWz5e0Lru/ToP/WFquSm9twd33u/tb2f2vJZ2eZrzQ1y7RV0sUEfYrJO0d8rhf7TXfu0vaYmZvmllP0c1U0Onu+7P7ByR1FtlMBTWn8W6lM6YZb5vXrp7pzxvFAbrvm+7uUyTdJOmu7O1qW/LBz2DtNHY6rGm8W6XCNON/V+RrV+/0540qIuz7JE0e8vgH2bK24O77sttDkjaq/aaiPnh6Bt3s9lDB/fxdO03jXWmacbXBa1fk9OdFhP0NSVea2Q/NbIykn0naXEAf32NmF2cHTmRmF0uao/abinqzpMXZ/cWSNhXYy3e0yzTe1aYZV8GvXeHTn7t7y38kzdPgEflPJf17ET1U6esfJb2T/ewqujdJT2vwbd3/afDYxhJJl0naKuljSS9LurSNevsvSe9JeleDwZpUUG/TNfgW/V1JO7KfeUW/dom+WvK6cbosEAQH6IAgCDsQBGEHgiDsQBCEHQiCsANBEHYgiP8H/v1TaABfc0YAAAAASUVORK5CYII=\n",
      "text/plain": [
       "<Figure size 432x288 with 1 Axes>"
      ]
     },
     "metadata": {
      "needs_background": "light"
     },
     "output_type": "display_data"
    }
   ],
   "source": [
    "plt.imshow(x_train[0]).set_cmap('Greys')"
   ]
  },
  {
   "cell_type": "code",
   "execution_count": 25,
   "metadata": {
    "id": "dq36yUX8U2QR"
   },
   "outputs": [
    {
     "data": {
      "text/plain": [
       "((60000, 784), (10000, 784))"
      ]
     },
     "execution_count": 25,
     "metadata": {},
     "output_type": "execute_result"
    }
   ],
   "source": [
    "x_train, x_test = x_train.reshape((-1, 28*28)), x_test.reshape((-1, 28*28))\n",
    "x_train.shape, x_test.shape"
   ]
  },
  {
   "cell_type": "markdown",
   "metadata": {
    "id": "0YZXzr-AU2QR"
   },
   "source": [
    "## Training Labels\n",
    "이미지 데이터가 나타내는 숫자값을 label로 가지고 있고, 0부터 9까지의 값을 나타냄  \n",
    "마찬가지로, 60000개의 label이 존재"
   ]
  },
  {
   "cell_type": "code",
   "execution_count": 26,
   "metadata": {
    "id": "V-JVvQcJU2QR"
   },
   "outputs": [
    {
     "data": {
      "text/plain": [
       "(60000,)"
      ]
     },
     "execution_count": 26,
     "metadata": {},
     "output_type": "execute_result"
    }
   ],
   "source": [
    "y_train.shape"
   ]
  },
  {
   "cell_type": "code",
   "execution_count": 27,
   "metadata": {
    "id": "PgAkJK6yU2QR"
   },
   "outputs": [
    {
     "data": {
      "text/plain": [
       "5"
      ]
     },
     "execution_count": 27,
     "metadata": {},
     "output_type": "execute_result"
    }
   ],
   "source": [
    "# show MNIST label for above data\n",
    "y_train[0]"
   ]
  },
  {
   "cell_type": "markdown",
   "metadata": {
    "id": "qaI3Kv_GU2QR"
   },
   "source": [
    "## 나만의 모델을 tensorflow keras API 를 이용해 만들어 봅시다~"
   ]
  },
  {
   "cell_type": "markdown",
   "metadata": {
    "id": "gSshVnt2U2QS"
   },
   "source": [
    "* parameters for model"
   ]
  },
  {
   "cell_type": "code",
   "execution_count": 28,
   "metadata": {
    "id": "coUZ53nKU2QS"
   },
   "outputs": [],
   "source": [
    "activation_list = [\"sigmoid\", \"relu\", \"softmax\", \"tanh\"]\n",
    "\n",
    "loss_list = [\"sparse_categorical_crossentropy\",\n",
    "             \"categorical_crossentropy\", \n",
    "             \"binary_crossentropy\"]\n",
    "\n",
    "optimizer_list = [\"sgd\", \"adam\", \"rmsprop\", \"adagrad\"]\n",
    "\n",
    "initializer_list = [tf.keras.initializers.RandomNormal(), \n",
    "                    tf.keras.initializers.RandomUniform(), \n",
    "                    tf.keras.initializers.he_normal(), \n",
    "                    tf.keras.initializers.he_uniform(), \n",
    "                    tf.keras.initializers.GlorotUniform(),\n",
    "                    tf.keras.initializers.GlorotNormal()]\n",
    "\n",
    "# dropout\n",
    "dropout_rate = 0.3\n",
    "model = tf.keras.Sequential([\n",
    "    tf.keras.layers.Dense(256, input_dim=784, activation = \"sigmoid\"),\n",
    "    tf.keras.layers.Dense(2, activation = \"sigmoid\"),\n",
    "    tf.keras.layers.Dropout(dropout_rate)\n",
    "])\n",
    "\n",
    "\n",
    "# regularizer\n",
    "regularizer = tf.keras.regularizers.l1(1e-3)\n",
    "regularizer = tf.keras.regularizers.l2(1e-3)\n",
    "model = tf.keras.Sequential([\n",
    "    tf.keras.layers.Dense(256, input_dim=784, activation=\"sigmoid\",\n",
    "                          activity_regularizer=regularizer)\n",
    "])\n",
    "\n",
    "# weight initialization\n",
    "model = tf.keras.Sequential([\n",
    "    tf.keras.layers.Dense(256, input_dim=784, activation=\"sigmoid\",\n",
    "                          kernel_initializer=initializer_list[0])\n",
    "])"
   ]
  },
  {
   "cell_type": "markdown",
   "metadata": {
    "id": "d-6ZTz4AU2QS"
   },
   "source": [
    "#### My Own Model "
   ]
  },
  {
   "cell_type": "code",
   "execution_count": 29,
   "metadata": {
    "id": "ziVbGe6sU2QS"
   },
   "outputs": [],
   "source": [
    "#### 자유롭게 Model을 만들고 compile 해봅시다 ####\n",
    "model = tf.keras.Sequential([\n",
    "    tf.keras.layers.Dense(512, input_dim=784, activation=\"relu\", kernel_initializer=initializer_list[4]),\n",
    "    tf.keras.layers.Dropout(dropout_rate), \n",
    "    tf.keras.layers.Dense(256, input_dim=512, activation=\"relu\", kernel_initializer=initializer_list[3]),\n",
    "    tf.keras.layers.Dropout(dropout_rate), \n",
    "    tf.keras.layers.Dense(128, input_dim=256, activation=\"relu\", kernel_initializer=initializer_list[2]),\n",
    "    tf.keras.layers.Dropout(dropout_rate), \n",
    "    tf.keras.layers.Dense(10, input_dim=128, activation=\"softmax\", kernel_initializer=initializer_list[1]),\n",
    "])\n",
    "\n",
    "model.compile(optimizer='adam', loss='sparse_categorical_crossentropy', metrics=['accuracy'])"
   ]
  },
  {
   "cell_type": "markdown",
   "metadata": {
    "id": "PVhLJHJ9U2QT"
   },
   "source": [
    "내가 만든 모델을 확인해 봅시다."
   ]
  },
  {
   "cell_type": "code",
   "execution_count": 30,
   "metadata": {
    "id": "GChgw-8sU2QT"
   },
   "outputs": [
    {
     "name": "stdout",
     "output_type": "stream",
     "text": [
      "Model: \"sequential_3\"\n",
      "_________________________________________________________________\n",
      "Layer (type)                 Output Shape              Param #   \n",
      "=================================================================\n",
      "dense_4 (Dense)              (None, 512)               401920    \n",
      "_________________________________________________________________\n",
      "dropout_1 (Dropout)          (None, 512)               0         \n",
      "_________________________________________________________________\n",
      "dense_5 (Dense)              (None, 256)               131328    \n",
      "_________________________________________________________________\n",
      "dropout_2 (Dropout)          (None, 256)               0         \n",
      "_________________________________________________________________\n",
      "dense_6 (Dense)              (None, 128)               32896     \n",
      "_________________________________________________________________\n",
      "dropout_3 (Dropout)          (None, 128)               0         \n",
      "_________________________________________________________________\n",
      "dense_7 (Dense)              (None, 10)                1290      \n",
      "=================================================================\n",
      "Total params: 567,434\n",
      "Trainable params: 567,434\n",
      "Non-trainable params: 0\n",
      "_________________________________________________________________\n"
     ]
    }
   ],
   "source": [
    "model.summary()"
   ]
  },
  {
   "cell_type": "markdown",
   "metadata": {
    "id": "f9zWRRHIU2QT"
   },
   "source": [
    "model을 자유롭게 train 해봅시다.  "
   ]
  },
  {
   "cell_type": "code",
   "execution_count": 31,
   "metadata": {
    "id": "6uygJ19gU2QT"
   },
   "outputs": [
    {
     "name": "stdout",
     "output_type": "stream",
     "text": [
      "Epoch 1/23\n",
      "1875/1875 [==============================] - 6s 3ms/step - loss: 0.5061 - accuracy: 0.8386\n",
      "Epoch 2/23\n",
      "1875/1875 [==============================] - 5s 3ms/step - loss: 0.1501 - accuracy: 0.9566\n",
      "Epoch 3/23\n",
      "1875/1875 [==============================] - 5s 3ms/step - loss: 0.1124 - accuracy: 0.9672\n",
      "Epoch 4/23\n",
      "1875/1875 [==============================] - 6s 3ms/step - loss: 0.0967 - accuracy: 0.9713\n",
      "Epoch 5/23\n",
      "1875/1875 [==============================] - 6s 3ms/step - loss: 0.0806 - accuracy: 0.9765\n",
      "Epoch 6/23\n",
      "1875/1875 [==============================] - 6s 3ms/step - loss: 0.0746 - accuracy: 0.9777\n",
      "Epoch 7/23\n",
      "1875/1875 [==============================] - 6s 3ms/step - loss: 0.0749 - accuracy: 0.9785\n",
      "Epoch 8/23\n",
      "1875/1875 [==============================] - 6s 3ms/step - loss: 0.0607 - accuracy: 0.9820\n",
      "Epoch 9/23\n",
      "1875/1875 [==============================] - 7s 3ms/step - loss: 0.0602 - accuracy: 0.9821\n",
      "Epoch 10/23\n",
      "1875/1875 [==============================] - 6s 3ms/step - loss: 0.0575 - accuracy: 0.9834\n",
      "Epoch 11/23\n",
      "1875/1875 [==============================] - 7s 4ms/step - loss: 0.0510 - accuracy: 0.9856\n",
      "Epoch 12/23\n",
      "1875/1875 [==============================] - 6s 3ms/step - loss: 0.0525 - accuracy: 0.9840\n",
      "Epoch 13/23\n",
      "1875/1875 [==============================] - 6s 3ms/step - loss: 0.0454 - accuracy: 0.9864\n",
      "Epoch 14/23\n",
      "1875/1875 [==============================] - 7s 4ms/step - loss: 0.0473 - accuracy: 0.9857\n",
      "Epoch 15/23\n",
      "1875/1875 [==============================] - 7s 4ms/step - loss: 0.0419 - accuracy: 0.9880\n",
      "Epoch 16/23\n",
      "1875/1875 [==============================] - 7s 4ms/step - loss: 0.0445 - accuracy: 0.9869\n",
      "Epoch 17/23\n",
      "1875/1875 [==============================] - 7s 4ms/step - loss: 0.0409 - accuracy: 0.9887\n",
      "Epoch 18/23\n",
      "1875/1875 [==============================] - 7s 3ms/step - loss: 0.0421 - accuracy: 0.9879\n",
      "Epoch 19/23\n",
      "1875/1875 [==============================] - 7s 4ms/step - loss: 0.0397 - accuracy: 0.9892\n",
      "Epoch 20/23\n",
      "1875/1875 [==============================] - 7s 4ms/step - loss: 0.0395 - accuracy: 0.9893\n",
      "Epoch 21/23\n",
      "1875/1875 [==============================] - 7s 4ms/step - loss: 0.0352 - accuracy: 0.9896\n",
      "Epoch 22/23\n",
      "1875/1875 [==============================] - 7s 3ms/step - loss: 0.0380 - accuracy: 0.9893\n",
      "Epoch 23/23\n",
      "1875/1875 [==============================] - 6s 3ms/step - loss: 0.0340 - accuracy: 0.9905\n"
     ]
    },
    {
     "data": {
      "text/plain": [
       "<tensorflow.python.keras.callbacks.History at 0x7ff139f3e310>"
      ]
     },
     "execution_count": 31,
     "metadata": {},
     "output_type": "execute_result"
    }
   ],
   "source": [
    "model.fit(x_train, y_train, epochs=23)"
   ]
  },
  {
   "cell_type": "markdown",
   "metadata": {
    "id": "U8A4zKnEU2QT"
   },
   "source": [
    "95%이상의 성능을 가진 모델을 만들면 완성!"
   ]
  },
  {
   "cell_type": "code",
   "execution_count": 32,
   "metadata": {
    "id": "9Xz0qGifU2QU"
   },
   "outputs": [
    {
     "name": "stdout",
     "output_type": "stream",
     "text": [
      "313/313 - 0s - loss: 0.0817 - accuracy: 0.9846\n",
      "\n",
      "Accuracy: 0.9846000075340271\n"
     ]
    }
   ],
   "source": [
    "test_loss, test_acc = model.evaluate(x_test,y_test, verbose=2)\n",
    "\n",
    "print('\\nAccuracy:', test_acc)"
   ]
  },
  {
   "cell_type": "markdown",
   "metadata": {
    "id": "EbcuzK_PU2QU"
   },
   "source": [
    "![](https://www.tensorflow.org/versions/master/images/mnist_tensorboard.png)"
   ]
  }
 ],
 "metadata": {
  "colab": {
   "name": "DL기초 과제.ipynb",
   "provenance": []
  },
  "kernelspec": {
   "display_name": "Python 3",
   "language": "python",
   "name": "python3"
  },
  "language_info": {
   "codemirror_mode": {
    "name": "ipython",
    "version": 3
   },
   "file_extension": ".py",
   "mimetype": "text/x-python",
   "name": "python",
   "nbconvert_exporter": "python",
   "pygments_lexer": "ipython3",
   "version": "3.7.6"
  }
 },
 "nbformat": 4,
 "nbformat_minor": 4
}
=======
{"nbformat":4,"nbformat_minor":0,"metadata":{"kernelspec":{"display_name":"Python 3","language":"python","name":"python3"},"language_info":{"codemirror_mode":{"name":"ipython","version":3},"file_extension":".py","mimetype":"text/x-python","name":"python","nbconvert_exporter":"python","pygments_lexer":"ipython3","version":"3.7.1"},"colab":{"name":"DL기초 과제.ipynb","provenance":[]}},"cells":[{"cell_type":"markdown","metadata":{"id":"mlQz3vXAU2QE"},"source":["# 과제1: tensorflow를 이용한 NN 밑바닥부터 구현\n","input feature가 100개이고,  \n","hidden layer가 2개이고 neuron이 각각 50,10개이고,  \n","output이 5개인 NN를 구현해 보자  \n","* hidden layer는 relu를 activation function으로, output layer는 softmax를 activation function으로 사용"]},{"cell_type":"code","metadata":{"id":"CeUa71VCU2QL"},"source":["import tensorflow as tf\n","import numpy as np"],"execution_count":null,"outputs":[]},{"cell_type":"code","metadata":{"id":"Kfo6oOn8U2QM"},"source":["n_x = 100\n","n_h1 = 50\n","n_h2 = 10\n","n_y = 5"],"execution_count":null,"outputs":[]},{"cell_type":"code","metadata":{"id":"WeNzQkQ-U2QM"},"source":["# Simulate train set\n","m = 500\n","\n","x_train=np.random.randn(m,n_x).astype(np.float32)\n","y_train=np.zeros((m,n_y)).astype(np.float32)\n","y_train[np.arange(m),np.random.randint(n_y,size=m)]=1\n","\n","print(x_train)\n","print(y_train)"],"execution_count":null,"outputs":[]},{"cell_type":"markdown","metadata":{"id":"XO5ck0OrU2QN"},"source":["* Initialization of weights"]},{"cell_type":"code","metadata":{"id":"t5gEprk8U2QN"},"source":["w1=tf.Variable(1e-3*np.random.randn(n_x,n_h1).astype(np.float32),name=\"w1\")\n","## 코드를 작성해 보세요 ##\n","w2=\n","w3= "],"execution_count":null,"outputs":[]},{"cell_type":"markdown","metadata":{"id":"J0hTdH3IU2QO"},"source":["* forward propagation을 통해 prediction 값을 구하고, loss를 구하는 function을 만들어 봅시다"]},{"cell_type":"code","metadata":{"id":"mRZYg6SWU2QO"},"source":["def forward(x):\n","    z1=tf.matmul(x,w1)\n","    a1=tf.nn.relu(a)\n","    ## 코드를 작성해 보세요 ##\n","    z2=\n","    a2=\n","    z3=\n","    predictions = \n","    \n","    return predictions\n","\n","def loss_fn(predictions, y):\n","    loss= -tf.reduce_sum(y*tf.math.log(predictions))\n","    return loss    "],"execution_count":null,"outputs":[]},{"cell_type":"markdown","metadata":{"id":"aiGxU4zYU2QP"},"source":["* backpropagation & update parameters"]},{"cell_type":"code","metadata":{"id":"Br-xEdiDU2QP"},"source":["learning_rate=1e-2\n","optimizer=tf.keras.optimizers.Adam(learning_rate)\n","\n","def train_step(x, y):\n","    with tf.GradientTape() as tape:\n","        predictions = forward(x)\n","        loss = loss_fn(predictions, y)\n","    ## 코드를 작성해 보세요 ## (hint: tape.gradient를 구글링 해보세요)\n","    gradient = \n","    # optimizer와 위에서 구한 경사도를 이용해 가중치들을 업데이트 합니다.\n","    optimizer.apply_gradients(zip(gradient, [w1, w2]))\n","    return loss, w1, w2\n"],"execution_count":null,"outputs":[]},{"cell_type":"markdown","metadata":{"id":"OU1oHsFoU2QP"},"source":["* 간단하게 train loop를 작성해 loss가 줄어나가는지 확인해 봅시다."]},{"cell_type":"code","metadata":{"id":"YIHNHAjPU2QP"},"source":["loss_list = []\n","\n","for step in range(10): \n","    loss, w1, w2 = train_step(x_train, y_train)\n","    loss_list.append(loss.numpy())\n","    \n","print(loss_list)"],"execution_count":null,"outputs":[]},{"cell_type":"markdown","metadata":{"id":"MN_pVd5cU2QQ"},"source":["# 과제2: MNIST 데이터를 나만의 NN model로 95 % 이상의 성능으로 training 시켜보자!\n","\n","\n","## Loading MNIST training data"]},{"cell_type":"code","metadata":{"id":"hwZNV5MFU2QQ"},"source":["from tensorflow import keras\n","\n","# import matplotlib\n","import matplotlib.pyplot as plt\n","%matplotlib inline\n","\n","# Loading the data\n","(x_train, y_train), (x_test, y_test) = tf.keras.datasets.mnist.load_data()\n","\n","# Scaling(image data는 min-max scaling 주로 사용)\n","x_train = x_train/255.0\n","x_test = x_test/255.0"],"execution_count":null,"outputs":[]},{"cell_type":"markdown","metadata":{"id":"RDU8J2xRU2QQ"},"source":["## Training Data\n","28 * 28 pixel 값을 가진 총 60000개의 이미지 데이터"]},{"cell_type":"code","metadata":{"id":"jVvXmjQSU2QQ"},"source":["x_train.shape "],"execution_count":null,"outputs":[]},{"cell_type":"markdown","metadata":{"id":"-VTAAYKSU2QQ"},"source":["Neural network 모델에 맞게 이미지 데이터를 벡터 형태로 데이터를 reshape 합니다.  \n","(Model을 만들 때 *keras.layers.Flatten(input_shape=(28, 28)) 이용해도 됨)"]},{"cell_type":"code","metadata":{"id":"dq36yUX8U2QR"},"source":["x_train, x_test = x_train.reshape((-1, 28*28)), x_test.reshape((-1, 28*28))\n","x_train.shape, x_test.shape"],"execution_count":null,"outputs":[]},{"cell_type":"code","metadata":{"id":"zrQLH9iXU2QR"},"source":["plt.imshow(x_train[0]).set_cmap('Greys')"],"execution_count":null,"outputs":[]},{"cell_type":"markdown","metadata":{"id":"0YZXzr-AU2QR"},"source":["## Training Labels\n","이미지 데이터가 나타내는 숫자값을 label로 가지고 있고, 0부터 9까지의 값을 나타냄  \n","마찬가지로, 60000개의 label이 존재"]},{"cell_type":"code","metadata":{"id":"V-JVvQcJU2QR"},"source":["y_train.shape"],"execution_count":null,"outputs":[]},{"cell_type":"code","metadata":{"id":"PgAkJK6yU2QR"},"source":["# show MNIST label for above data\n","y_train[0]"],"execution_count":null,"outputs":[]},{"cell_type":"markdown","metadata":{"id":"qaI3Kv_GU2QR"},"source":["## 나만의 모델을 tensorflow keras API 를 이용해 만들어 봅시다~"]},{"cell_type":"markdown","metadata":{"id":"gSshVnt2U2QS"},"source":["* parameters for model"]},{"cell_type":"code","metadata":{"id":"coUZ53nKU2QS"},"source":["activation_list = [\"sigmoid\", \"relu\", \"softmax\", \"tanh\"]\n","\n","loss_list = [\"sparse_categorical_crossentropy\",\n","             \"categorical_crossentropy\", \n","             \"binary_crossentropy\"]\n","\n","optimizer_list = [\"sgd\", \"adam\", \"rmsprop\", \"adagrad\"]\n","\n","initializer_list = [tf.keras.initializers.RandomNormal(), \n","                    tf.keras.initializers.RandomUniform(), \n","                    tf.keras.initializers.he_normal(), \n","                    tf.keras.initializers.he_uniform(), \n","                    tf.keras.initializers.GlorotUniform(),\n","                    tf.keras.initializers.GlorotNormal()]\n","\n","# dropout\n","dropout_rate = 0.3\n","model = tf.keras.Sequential([\n","    tf.keras.layers.Dense(256, input_dim=784, activation = \"sigmoid\"),\n","    tf.keras.layers.Dense(2, activation = \"sigmoid\"),\n","    tf.keras.layers.Dropout(dropout_rate)\n","])\n","\n","\n","# regularizer\n","regularizer = tf.keras.regularizers.l1(1e-3)\n","regularizer = tf.keras.regularizers.l2(1e-3)\n","model = tf.keras.Sequential([\n","    tf.keras.layers.Dense(256, input_dim=784, activation=\"sigmoid\",\n","                          activity_regularizer=regularizer)\n","])\n","\n","# weight initialization\n","model = tf.keras.Sequential([\n","    tf.keras.layers.Dense(256, input_dim=784, activation=\"sigmoid\",\n","                          kernel_initializer=initializer_list[0])\n","])"],"execution_count":null,"outputs":[]},{"cell_type":"markdown","metadata":{"id":"d-6ZTz4AU2QS"},"source":["#### My Own Model "]},{"cell_type":"code","metadata":{"id":"ziVbGe6sU2QS"},"source":["#### 자유롭게 Model을 만들고 compile 해봅시다 ####\n","model = "],"execution_count":null,"outputs":[]},{"cell_type":"markdown","metadata":{"id":"PVhLJHJ9U2QT"},"source":["내가 만든 모델을 확인해 봅시다."]},{"cell_type":"code","metadata":{"id":"GChgw-8sU2QT"},"source":["model.summary()"],"execution_count":null,"outputs":[]},{"cell_type":"markdown","metadata":{"id":"f9zWRRHIU2QT"},"source":["model을 자유롭게 train 해봅시다.  "]},{"cell_type":"code","metadata":{"id":"6uygJ19gU2QT"},"source":["model.fit()"],"execution_count":null,"outputs":[]},{"cell_type":"markdown","metadata":{"id":"U8A4zKnEU2QT"},"source":["95%이상의 성능을 가진 모델을 만들면 완성!"]},{"cell_type":"code","metadata":{"id":"9Xz0qGifU2QU"},"source":["test_loss, test_acc = model.evaluate(x_test,y_test, verbose=2)\n","\n","print('\\nAccuracy:', test_acc)"],"execution_count":null,"outputs":[]},{"cell_type":"markdown","metadata":{"collapsed":true,"id":"EbcuzK_PU2QU"},"source":["![](https://www.tensorflow.org/versions/master/images/mnist_tensorboard.png)"]}]}
>>>>>>> f9ce24276c756a0df0afb741a286ee51fae40c10
