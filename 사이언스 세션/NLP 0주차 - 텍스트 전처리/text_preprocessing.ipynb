{
 "cells": [
  {
   "cell_type": "markdown",
   "metadata": {
    "id": "ElgZm29LLBEt"
   },
   "source": [
    "# 텍스트 전처리"
   ]
  },
  {
   "cell_type": "markdown",
   "metadata": {
    "id": "FkjeW_sELE78"
   },
   "source": [
    "## 1. 토큰화(Tokenization)"
   ]
  },
  {
   "cell_type": "markdown",
   "metadata": {
    "id": "9HOwDbTXLgVa"
   },
   "source": [
    "## 1) 문장 토큰화"
   ]
  },
  {
   "cell_type": "code",
   "execution_count": 1,
   "metadata": {
    "executionInfo": {
     "elapsed": 2758,
     "status": "ok",
     "timestamp": 1615007716278,
     "user": {
      "displayName": "Si young Rho",
      "photoUrl": "",
      "userId": "04487764503714934157"
     },
     "user_tz": -540
    },
    "id": "rte6wz1KU61y"
   },
   "outputs": [],
   "source": [
    "from nltk.tokenize import sent_tokenize"
   ]
  },
  {
   "cell_type": "code",
   "execution_count": 2,
   "metadata": {
    "colab": {
     "base_uri": "https://localhost:8080/"
    },
    "executionInfo": {
     "elapsed": 1207,
     "status": "ok",
     "timestamp": 1614955974044,
     "user": {
      "displayName": "Si young Rho",
      "photoUrl": "",
      "userId": "04487764503714934157"
     },
     "user_tz": -540
    },
    "id": "1QRLu0tlVCkA",
    "outputId": "74c56bb9-8ada-48a9-9ff7-6d4c132e1ffa"
   },
   "outputs": [
    {
     "name": "stdout",
     "output_type": "stream",
     "text": [
      "[nltk_data] Downloading package punkt to /root/nltk_data...\n",
      "[nltk_data]   Unzipping tokenizers/punkt.zip.\n"
     ]
    },
    {
     "data": {
      "text/plain": [
       "True"
      ]
     },
     "execution_count": 2,
     "metadata": {
      "tags": []
     },
     "output_type": "execute_result"
    }
   ],
   "source": [
    "import nltk\r\n",
    "nltk.download('punkt')"
   ]
  },
  {
   "cell_type": "code",
   "execution_count": 3,
   "metadata": {
    "colab": {
     "base_uri": "https://localhost:8080/"
    },
    "executionInfo": {
     "elapsed": 682,
     "status": "ok",
     "timestamp": 1614955983173,
     "user": {
      "displayName": "Si young Rho",
      "photoUrl": "",
      "userId": "04487764503714934157"
     },
     "user_tz": -540
    },
    "id": "wfBB-tuUH-uU",
    "outputId": "8262d923-b233-4ccc-a610-d81dcdd4d82b"
   },
   "outputs": [
    {
     "data": {
      "text/plain": [
       "['His barber kept his word.',\n",
       " 'But keeping such a huge secret to himself was driving him crazy.',\n",
       " 'Finally, the barber went up a mountain and almost to the edge of a cliff.',\n",
       " 'He dug a hole in the midst of some reeds.',\n",
       " 'He looked about, to make sure no one was near.']"
      ]
     },
     "execution_count": 3,
     "metadata": {
      "tags": []
     },
     "output_type": "execute_result"
    }
   ],
   "source": [
    "text=\"His barber kept his word. But keeping such a huge secret to himself was driving him crazy. Finally, the barber went up a mountain and almost to the edge of a cliff. He dug a hole in the midst of some reeds. He looked about, to make sure no one was near.\"\r\n",
    "sent_tokenize(text)"
   ]
  },
  {
   "cell_type": "code",
   "execution_count": 4,
   "metadata": {
    "colab": {
     "base_uri": "https://localhost:8080/"
    },
    "executionInfo": {
     "elapsed": 627,
     "status": "ok",
     "timestamp": 1614955993432,
     "user": {
      "displayName": "Si young Rho",
      "photoUrl": "",
      "userId": "04487764503714934157"
     },
     "user_tz": -540
    },
    "id": "qtDWfDPMH-qx",
    "outputId": "da4fb124-a019-4038-9d06-ceb3abb44536"
   },
   "outputs": [
    {
     "data": {
      "text/plain": [
       "['I am actively looking for Ph.D. students.', 'and you are a Ph.D student.']"
      ]
     },
     "execution_count": 4,
     "metadata": {
      "tags": []
     },
     "output_type": "execute_result"
    }
   ],
   "source": [
    "text=\"I am actively looking for Ph.D. students. and you are a Ph.D student.\"\r\n",
    "sent_tokenize(text)\r\n",
    "\r\n",
    "# NLTK가 단순히 마침표를 기준으로 하지 않은 것을 알 수 있음"
   ]
  },
  {
   "cell_type": "code",
   "execution_count": 5,
   "metadata": {
    "colab": {
     "base_uri": "https://localhost:8080/"
    },
    "executionInfo": {
     "elapsed": 3848,
     "status": "ok",
     "timestamp": 1614956002801,
     "user": {
      "displayName": "Si young Rho",
      "photoUrl": "",
      "userId": "04487764503714934157"
     },
     "user_tz": -540
    },
    "id": "kWacpbRMH-jG",
    "outputId": "9706bb89-5703-4162-ce69-b2117b8bbfd6"
   },
   "outputs": [
    {
     "name": "stdout",
     "output_type": "stream",
     "text": [
      "Collecting kss\n",
      "\u001b[?25l  Downloading https://files.pythonhosted.org/packages/c9/e2/43ac92280810437a552111db85a0379dfaa5ca8ccd81d27a547e9091e5d5/kss-2.5.0-py3-none-any.whl (68kB)\n",
      "\u001b[K     |████████████████████████████████| 71kB 5.3MB/s eta 0:00:011\n",
      "\u001b[?25hInstalling collected packages: kss\n",
      "Successfully installed kss-2.5.0\n"
     ]
    }
   ],
   "source": [
    "!pip install kss\r\n",
    "import kss"
   ]
  },
  {
   "cell_type": "code",
   "execution_count": 6,
   "metadata": {
    "colab": {
     "base_uri": "https://localhost:8080/"
    },
    "executionInfo": {
     "elapsed": 699,
     "status": "ok",
     "timestamp": 1614956014603,
     "user": {
      "displayName": "Si young Rho",
      "photoUrl": "",
      "userId": "04487764503714934157"
     },
     "user_tz": -540
    },
    "id": "WJdR9Jw0VhzA",
    "outputId": "ccf15407-0485-4154-99da-b9ad01ac5a56"
   },
   "outputs": [
    {
     "data": {
      "text/plain": [
       "['딥 러닝 자연어 처리가 재미있기는 합니다.',\n",
       " '그런데 문제는 영어보다 한국어로 할 때 너무 어려워요.',\n",
       " '농담아니에요.',\n",
       " '이제 해보면 알걸요?']"
      ]
     },
     "execution_count": 6,
     "metadata": {
      "tags": []
     },
     "output_type": "execute_result"
    }
   ],
   "source": [
    "text='딥 러닝 자연어 처리가 재미있기는 합니다. 그런데 문제는 영어보다 한국어로 할 때 너무 어려워요. 농담아니에요. 이제 해보면 알걸요?'\r\n",
    "kss.split_sentences(text)"
   ]
  },
  {
   "cell_type": "markdown",
   "metadata": {
    "id": "EblYwXoaLZ3i"
   },
   "source": [
    "### 2) 단어 토큰화"
   ]
  },
  {
   "cell_type": "code",
   "execution_count": 7,
   "metadata": {
    "colab": {
     "base_uri": "https://localhost:8080/"
    },
    "executionInfo": {
     "elapsed": 728,
     "status": "ok",
     "timestamp": 1614956022177,
     "user": {
      "displayName": "Si young Rho",
      "photoUrl": "",
      "userId": "04487764503714934157"
     },
     "user_tz": -540
    },
    "id": "HnhLGoOcH-2l",
    "outputId": "187b0ddc-5c6e-42af-a797-34a345a04c58"
   },
   "outputs": [
    {
     "name": "stdout",
     "output_type": "stream",
     "text": [
      "['Do', \"n't\", 'be', 'fooled', 'by', 'the', 'dark', 'sounding', 'name', ',', 'Mr.', 'Jone', \"'s\", 'Orphanage', 'is', 'as', 'cheery', 'as', 'cheery', 'goes', 'for', 'a', 'pastry', 'shop', '.']\n"
     ]
    }
   ],
   "source": [
    "from nltk.tokenize import word_tokenize  \r\n",
    "print(word_tokenize(\"Don't be fooled by the dark sounding name, Mr. Jone's Orphanage is as cheery as cheery goes for a pastry shop.\"))  "
   ]
  },
  {
   "cell_type": "code",
   "execution_count": 8,
   "metadata": {
    "colab": {
     "base_uri": "https://localhost:8080/"
    },
    "executionInfo": {
     "elapsed": 574,
     "status": "ok",
     "timestamp": 1614956025243,
     "user": {
      "displayName": "Si young Rho",
      "photoUrl": "",
      "userId": "04487764503714934157"
     },
     "user_tz": -540
    },
    "id": "g9HnHfINH-0f",
    "outputId": "9099ef42-1ece-4e9f-ab79-830dd369785e"
   },
   "outputs": [
    {
     "name": "stdout",
     "output_type": "stream",
     "text": [
      "['Don', \"'\", 't', 'be', 'fooled', 'by', 'the', 'dark', 'sounding', 'name', ',', 'Mr', '.', 'Jone', \"'\", 's', 'Orphanage', 'is', 'as', 'cheery', 'as', 'cheery', 'goes', 'for', 'a', 'pastry', 'shop', '.']\n"
     ]
    }
   ],
   "source": [
    "from nltk.tokenize import WordPunctTokenizer  \r\n",
    "print(WordPunctTokenizer().tokenize(\"Don't be fooled by the dark sounding name, Mr. Jone's Orphanage is as cheery as cheery goes for a pastry shop.\"))\r\n",
    "# 토큰화 모듈에 따라 결과가 조금씩 다르다."
   ]
  },
  {
   "cell_type": "code",
   "execution_count": 9,
   "metadata": {
    "colab": {
     "base_uri": "https://localhost:8080/"
    },
    "executionInfo": {
     "elapsed": 2233,
     "status": "ok",
     "timestamp": 1614956031303,
     "user": {
      "displayName": "Si young Rho",
      "photoUrl": "",
      "userId": "04487764503714934157"
     },
     "user_tz": -540
    },
    "id": "Nvd-a1NeH-xU",
    "outputId": "894aa4ec-ee33-485c-b0b7-a77f905ea6ed"
   },
   "outputs": [
    {
     "name": "stdout",
     "output_type": "stream",
     "text": [
      "[\"don't\", 'be', 'fooled', 'by', 'the', 'dark', 'sounding', 'name', 'mr', \"jone's\", 'orphanage', 'is', 'as', 'cheery', 'as', 'cheery', 'goes', 'for', 'a', 'pastry', 'shop']\n"
     ]
    }
   ],
   "source": [
    "from tensorflow.keras.preprocessing.text import text_to_word_sequence\r\n",
    "print(text_to_word_sequence(\"Don't be fooled by the dark sounding name, Mr. Jone's Orphanage is as cheery as cheery goes for a pastry shop.\"))"
   ]
  },
  {
   "cell_type": "code",
   "execution_count": 10,
   "metadata": {
    "colab": {
     "base_uri": "https://localhost:8080/"
    },
    "executionInfo": {
     "elapsed": 622,
     "status": "ok",
     "timestamp": 1614956545411,
     "user": {
      "displayName": "Si young Rho",
      "photoUrl": "",
      "userId": "04487764503714934157"
     },
     "user_tz": -540
    },
    "id": "ZIWs_okLV4mT",
    "outputId": "5307b3c3-4154-4d2e-8c64-899c197c06cf"
   },
   "outputs": [
    {
     "name": "stdout",
     "output_type": "stream",
     "text": [
      "[nltk_data] Downloading package averaged_perceptron_tagger to\n",
      "[nltk_data]     /root/nltk_data...\n",
      "[nltk_data]   Unzipping taggers/averaged_perceptron_tagger.zip.\n"
     ]
    }
   ],
   "source": [
    "nltk.download('averaged_perceptron_tagger')\r\n",
    "from nltk.tag import pos_tag"
   ]
  },
  {
   "cell_type": "code",
   "execution_count": 11,
   "metadata": {
    "colab": {
     "base_uri": "https://localhost:8080/"
    },
    "executionInfo": {
     "elapsed": 771,
     "status": "ok",
     "timestamp": 1614956550515,
     "user": {
      "displayName": "Si young Rho",
      "photoUrl": "",
      "userId": "04487764503714934157"
     },
     "user_tz": -540
    },
    "id": "9WQXG-m5Qqr9",
    "outputId": "e84545e2-64b3-436b-967b-d64912b84035"
   },
   "outputs": [
    {
     "data": {
      "text/plain": [
       "[('Do', 'VBP'),\n",
       " (\"n't\", 'RB'),\n",
       " ('be', 'VB'),\n",
       " ('fooled', 'VBN'),\n",
       " ('by', 'IN'),\n",
       " ('the', 'DT'),\n",
       " ('dark', 'NN'),\n",
       " ('sounding', 'VBG'),\n",
       " ('name', 'NN'),\n",
       " (',', ','),\n",
       " ('Mr.', 'NNP'),\n",
       " ('Jone', 'NNP'),\n",
       " (\"'s\", 'POS'),\n",
       " ('Orphanage', 'NN'),\n",
       " ('is', 'VBZ'),\n",
       " ('as', 'RB'),\n",
       " ('cheery', 'JJ'),\n",
       " ('as', 'IN'),\n",
       " ('cheery', 'NN'),\n",
       " ('goes', 'VBZ'),\n",
       " ('for', 'IN'),\n",
       " ('a', 'DT'),\n",
       " ('pastry', 'NN'),\n",
       " ('shop', 'NN'),\n",
       " ('.', '.')]"
      ]
     },
     "execution_count": 11,
     "metadata": {
      "tags": []
     },
     "output_type": "execute_result"
    }
   ],
   "source": [
    "# 품사 태깅\r\n",
    "x=word_tokenize(\"Don't be fooled by the dark sounding name, Mr. Jone's Orphanage is as cheery as cheery goes for a pastry shop.\")\r\n",
    "pos_tag(x)"
   ]
  },
  {
   "cell_type": "code",
   "execution_count": 12,
   "metadata": {
    "colab": {
     "base_uri": "https://localhost:8080/"
    },
    "executionInfo": {
     "elapsed": 5596,
     "status": "ok",
     "timestamp": 1614956560628,
     "user": {
      "displayName": "Si young Rho",
      "photoUrl": "",
      "userId": "04487764503714934157"
     },
     "user_tz": -540
    },
    "id": "EYxlBFCqRUSW",
    "outputId": "cf0bd0a8-5985-4ae6-caf6-b746044609a7"
   },
   "outputs": [
    {
     "name": "stdout",
     "output_type": "stream",
     "text": [
      "Collecting konlpy\n",
      "\u001b[?25l  Downloading https://files.pythonhosted.org/packages/85/0e/f385566fec837c0b83f216b2da65db9997b35dd675e107752005b7d392b1/konlpy-0.5.2-py2.py3-none-any.whl (19.4MB)\n",
      "\u001b[K     |████████████████████████████████| 19.4MB 1.3MB/s \n",
      "\u001b[?25hRequirement already satisfied: lxml>=4.1.0 in /usr/local/lib/python3.7/dist-packages (from konlpy) (4.2.6)\n",
      "Collecting JPype1>=0.7.0\n",
      "\u001b[?25l  Downloading https://files.pythonhosted.org/packages/cd/a5/9781e2ef4ca92d09912c4794642c1653aea7607f473e156cf4d423a881a1/JPype1-1.2.1-cp37-cp37m-manylinux2010_x86_64.whl (457kB)\n",
      "\u001b[K     |████████████████████████████████| 460kB 46.1MB/s \n",
      "\u001b[?25hRequirement already satisfied: numpy>=1.6 in /usr/local/lib/python3.7/dist-packages (from konlpy) (1.19.5)\n",
      "Collecting colorama\n",
      "  Downloading https://files.pythonhosted.org/packages/44/98/5b86278fbbf250d239ae0ecb724f8572af1c91f4a11edf4d36a206189440/colorama-0.4.4-py2.py3-none-any.whl\n",
      "Collecting beautifulsoup4==4.6.0\n",
      "\u001b[?25l  Downloading https://files.pythonhosted.org/packages/9e/d4/10f46e5cfac773e22707237bfcd51bbffeaf0a576b0a847ec7ab15bd7ace/beautifulsoup4-4.6.0-py3-none-any.whl (86kB)\n",
      "\u001b[K     |████████████████████████████████| 92kB 12.2MB/s \n",
      "\u001b[?25hRequirement already satisfied: tweepy>=3.7.0 in /usr/local/lib/python3.7/dist-packages (from konlpy) (3.10.0)\n",
      "Requirement already satisfied: typing-extensions; python_version < \"3.8\" in /usr/local/lib/python3.7/dist-packages (from JPype1>=0.7.0->konlpy) (3.7.4.3)\n",
      "Requirement already satisfied: requests-oauthlib>=0.7.0 in /usr/local/lib/python3.7/dist-packages (from tweepy>=3.7.0->konlpy) (1.3.0)\n",
      "Requirement already satisfied: requests[socks]>=2.11.1 in /usr/local/lib/python3.7/dist-packages (from tweepy>=3.7.0->konlpy) (2.23.0)\n",
      "Requirement already satisfied: six>=1.10.0 in /usr/local/lib/python3.7/dist-packages (from tweepy>=3.7.0->konlpy) (1.15.0)\n",
      "Requirement already satisfied: oauthlib>=3.0.0 in /usr/local/lib/python3.7/dist-packages (from requests-oauthlib>=0.7.0->tweepy>=3.7.0->konlpy) (3.1.0)\n",
      "Requirement already satisfied: urllib3!=1.25.0,!=1.25.1,<1.26,>=1.21.1 in /usr/local/lib/python3.7/dist-packages (from requests[socks]>=2.11.1->tweepy>=3.7.0->konlpy) (1.24.3)\n",
      "Requirement already satisfied: certifi>=2017.4.17 in /usr/local/lib/python3.7/dist-packages (from requests[socks]>=2.11.1->tweepy>=3.7.0->konlpy) (2020.12.5)\n",
      "Requirement already satisfied: idna<3,>=2.5 in /usr/local/lib/python3.7/dist-packages (from requests[socks]>=2.11.1->tweepy>=3.7.0->konlpy) (2.10)\n",
      "Requirement already satisfied: chardet<4,>=3.0.2 in /usr/local/lib/python3.7/dist-packages (from requests[socks]>=2.11.1->tweepy>=3.7.0->konlpy) (3.0.4)\n",
      "Requirement already satisfied: PySocks!=1.5.7,>=1.5.6; extra == \"socks\" in /usr/local/lib/python3.7/dist-packages (from requests[socks]>=2.11.1->tweepy>=3.7.0->konlpy) (1.7.1)\n",
      "Installing collected packages: JPype1, colorama, beautifulsoup4, konlpy\n",
      "  Found existing installation: beautifulsoup4 4.6.3\n",
      "    Uninstalling beautifulsoup4-4.6.3:\n",
      "      Successfully uninstalled beautifulsoup4-4.6.3\n",
      "Successfully installed JPype1-1.2.1 beautifulsoup4-4.6.0 colorama-0.4.4 konlpy-0.5.2\n"
     ]
    }
   ],
   "source": [
    "!pip install konlpy"
   ]
  },
  {
   "cell_type": "code",
   "execution_count": 13,
   "metadata": {
    "colab": {
     "base_uri": "https://localhost:8080/"
    },
    "executionInfo": {
     "elapsed": 9062,
     "status": "ok",
     "timestamp": 1614956753271,
     "user": {
      "displayName": "Si young Rho",
      "photoUrl": "",
      "userId": "04487764503714934157"
     },
     "user_tz": -540
    },
    "id": "Kmao6J3JQ9xi",
    "outputId": "833873cf-d492-401b-9c1f-d01dd81f4a2d"
   },
   "outputs": [
    {
     "name": "stdout",
     "output_type": "stream",
     "text": [
      "['열심히', '코딩', '한', '당신', ',', '연휴', '에는', '여행', '을', '가봐요']\n",
      "['코딩', '당신', '연휴', '여행']\n"
     ]
    }
   ],
   "source": [
    "from konlpy.tag import Okt  \r\n",
    "okt=Okt()  \r\n",
    "text= \"열심히 코딩한 당신, 연휴에는 여행을 가봐요\"\r\n",
    "print(okt.morphs(text))\r\n",
    "print(okt.nouns(text))  "
   ]
  },
  {
   "cell_type": "code",
   "execution_count": 15,
   "metadata": {
    "colab": {
     "base_uri": "https://localhost:8080/"
    },
    "executionInfo": {
     "elapsed": 651,
     "status": "ok",
     "timestamp": 1614956900880,
     "user": {
      "displayName": "Si young Rho",
      "photoUrl": "",
      "userId": "04487764503714934157"
     },
     "user_tz": -540
    },
    "id": "SWyxrCpgRaCG",
    "outputId": "6e73d631-b81e-4c8e-d921-c3dd4b09daed"
   },
   "outputs": [
    {
     "name": "stdout",
     "output_type": "stream",
     "text": [
      "['열심히', '코딩', '하', 'ㄴ', '당신', ',', '연휴', '에', '는', '여행', '을', '가보', '아요']\n",
      "[('열심히', 'MAG'), ('코딩', 'NNG'), ('하', 'XSV'), ('ㄴ', 'ETD'), ('당신', 'NP'), (',', 'SP'), ('연휴', 'NNG'), ('에', 'JKM'), ('는', 'JX'), ('여행', 'NNG'), ('을', 'JKO'), ('가보', 'VV'), ('아요', 'EFN')]\n",
      "['코딩', '당신', '연휴', '여행']\n"
     ]
    }
   ],
   "source": [
    "from konlpy.tag import Kkma  \r\n",
    "kkma=Kkma() \r\n",
    "text= \"열심히 코딩한 당신, 연휴에는 여행을 가봐요\"\r\n",
    "print(kkma.morphs(text))\r\n",
    "print(kkma.pos(text))  \r\n",
    "print(kkma.nouns(text))  "
   ]
  },
  {
   "cell_type": "markdown",
   "metadata": {
    "id": "cqa4NB3ZT_ft"
   },
   "source": [
    "## 2. 정규화"
   ]
  },
  {
   "cell_type": "markdown",
   "metadata": {
    "id": "38XRaZoaSGZM"
   },
   "source": [
    "### 1) 대/소문자 통합"
   ]
  },
  {
   "cell_type": "code",
   "execution_count": 16,
   "metadata": {
    "colab": {
     "base_uri": "https://localhost:8080/",
     "height": 34
    },
    "executionInfo": {
     "elapsed": 668,
     "status": "ok",
     "timestamp": 1614956917197,
     "user": {
      "displayName": "Si young Rho",
      "photoUrl": "",
      "userId": "04487764503714934157"
     },
     "user_tz": -540
    },
    "id": "GKRIka93P2tR",
    "outputId": "ccd25b36-4a33-437a-d863-914f55c18322"
   },
   "outputs": [
    {
     "data": {
      "application/vnd.google.colaboratory.intrinsic+json": {
       "type": "string"
      },
      "text/plain": [
       "'do not go gentle into that good night'"
      ]
     },
     "execution_count": 16,
     "metadata": {
      "tags": []
     },
     "output_type": "execute_result"
    }
   ],
   "source": [
    "def lowertext(text):\r\n",
    "    return text.lower()\r\n",
    "\r\n",
    "text = \"Do Not Go Gentle Into That Good Night\"\r\n",
    "lowertext(text)"
   ]
  },
  {
   "cell_type": "markdown",
   "metadata": {
    "id": "80mX1qfmS0Vw"
   },
   "source": [
    "### 2) 불필요한 단어의 제거\r\n",
    "- 등장 빈도가 적은 단어\r\n",
    "- 길이가 짧은 단어"
   ]
  },
  {
   "cell_type": "code",
   "execution_count": 17,
   "metadata": {
    "colab": {
     "base_uri": "https://localhost:8080/"
    },
    "executionInfo": {
     "elapsed": 583,
     "status": "ok",
     "timestamp": 1614956945957,
     "user": {
      "displayName": "Si young Rho",
      "photoUrl": "",
      "userId": "04487764503714934157"
     },
     "user_tz": -540
    },
    "id": "YEblEIVzTGC7",
    "outputId": "20f2b686-0513-44d2-83fa-e1cc047f1d86"
   },
   "outputs": [
    {
     "name": "stdout",
     "output_type": "stream",
     "text": [
      " was wondering anyone out there could enlighten this car.\n"
     ]
    }
   ],
   "source": [
    "# 길이가 1~2인 단어들을 정규 표현식을 이용하여 삭제\r\n",
    "import re\r\n",
    "text = \"I was wondering if anyone out there could enlighten me on this car.\"\r\n",
    "shortword = re.compile(r'\\W*\\b\\w{1,2}\\b') # \\b: 경계(boundary)\r\n",
    "print(shortword.sub('', text))"
   ]
  },
  {
   "cell_type": "markdown",
   "metadata": {
    "id": "i_YLLnhjTrF1"
   },
   "source": [
    "### 3) 표제어 추출(Lemmatization)"
   ]
  },
  {
   "cell_type": "code",
   "execution_count": 18,
   "metadata": {
    "colab": {
     "base_uri": "https://localhost:8080/"
    },
    "executionInfo": {
     "elapsed": 1036,
     "status": "ok",
     "timestamp": 1614956950793,
     "user": {
      "displayName": "Si young Rho",
      "photoUrl": "",
      "userId": "04487764503714934157"
     },
     "user_tz": -540
    },
    "id": "roqjxM0dWXym",
    "outputId": "d91f24a1-0b11-4dad-f38f-2b6a4c44f838"
   },
   "outputs": [
    {
     "name": "stdout",
     "output_type": "stream",
     "text": [
      "[nltk_data] Downloading package wordnet to /root/nltk_data...\n",
      "[nltk_data]   Unzipping corpora/wordnet.zip.\n"
     ]
    },
    {
     "data": {
      "text/plain": [
       "True"
      ]
     },
     "execution_count": 18,
     "metadata": {
      "tags": []
     },
     "output_type": "execute_result"
    }
   ],
   "source": [
    "import nltk\r\n",
    "nltk.download('wordnet')"
   ]
  },
  {
   "cell_type": "code",
   "execution_count": 19,
   "metadata": {
    "colab": {
     "base_uri": "https://localhost:8080/"
    },
    "executionInfo": {
     "elapsed": 2074,
     "status": "ok",
     "timestamp": 1614956956129,
     "user": {
      "displayName": "Si young Rho",
      "photoUrl": "",
      "userId": "04487764503714934157"
     },
     "user_tz": -540
    },
    "id": "gvj2-uCOP96L",
    "outputId": "8cb6b81c-5148-4c3b-b570-5adb59f8d831"
   },
   "outputs": [
    {
     "name": "stdout",
     "output_type": "stream",
     "text": [
      "['policy', 'doing', 'organization', 'have', 'going', 'love', 'life', 'fly', 'dy', 'watched', 'ha', 'starting']\n"
     ]
    }
   ],
   "source": [
    "from nltk.stem import WordNetLemmatizer\r\n",
    "n=WordNetLemmatizer()\r\n",
    "words=['policy', 'doing', 'organization', 'have', 'going', 'love', 'lives', 'fly', 'dies', 'watched', 'has', 'starting']\r\n",
    "print([n.lemmatize(w) for w in words])"
   ]
  },
  {
   "cell_type": "code",
   "execution_count": 20,
   "metadata": {
    "colab": {
     "base_uri": "https://localhost:8080/"
    },
    "executionInfo": {
     "elapsed": 589,
     "status": "ok",
     "timestamp": 1614956960549,
     "user": {
      "displayName": "Si young Rho",
      "photoUrl": "",
      "userId": "04487764503714934157"
     },
     "user_tz": -540
    },
    "id": "83m4VgxzP-Ay",
    "outputId": "e09c53ba-2ae9-48fe-e50c-999fc77d7a5b"
   },
   "outputs": [
    {
     "name": "stdout",
     "output_type": "stream",
     "text": [
      "die\n",
      "watch\n",
      "watch\n",
      "fly\n",
      "fly\n"
     ]
    }
   ],
   "source": [
    "print(n.lemmatize('dies', 'v'))\r\n",
    "print(n.lemmatize('watched', 'v'))\r\n",
    "print(n.lemmatize('watched', 'v'))\r\n",
    "print(n.lemmatize('flies', 'n'))\r\n",
    "print(n.lemmatize('flies', 'v'))"
   ]
  },
  {
   "cell_type": "markdown",
   "metadata": {
    "id": "A_FaUgy4UkLF"
   },
   "source": [
    "### 4) 어간 추출(Stemming)"
   ]
  },
  {
   "cell_type": "code",
   "execution_count": 21,
   "metadata": {
    "colab": {
     "base_uri": "https://localhost:8080/"
    },
    "executionInfo": {
     "elapsed": 729,
     "status": "ok",
     "timestamp": 1614956965391,
     "user": {
      "displayName": "Si young Rho",
      "photoUrl": "",
      "userId": "04487764503714934157"
     },
     "user_tz": -540
    },
    "id": "ZCukpBOPUeVn",
    "outputId": "89cf714b-05fc-4a48-d821-1e6b6c4d0f47"
   },
   "outputs": [
    {
     "name": "stdout",
     "output_type": "stream",
     "text": [
      "['This', 'was', 'not', 'the', 'map', 'we', 'found', 'in', 'Billy', 'Bones', \"'s\", 'chest', ',', 'but', 'an', 'accurate', 'copy', ',', 'complete', 'in', 'all', 'things', '--', 'names', 'and', 'heights', 'and', 'soundings', '--', 'with', 'the', 'single', 'exception', 'of', 'the', 'red', 'crosses', 'and', 'the', 'written', 'notes', '.']\n"
     ]
    }
   ],
   "source": [
    "from nltk.stem import PorterStemmer\r\n",
    "from nltk.tokenize import word_tokenize\r\n",
    "\r\n",
    "s = PorterStemmer()\r\n",
    "text=\"This was not the map we found in Billy Bones's chest, but an accurate copy, complete in all things--names and heights and soundings--with the single exception of the red crosses and the written notes.\"\r\n",
    "words=word_tokenize(text)\r\n",
    "print(words)"
   ]
  },
  {
   "cell_type": "code",
   "execution_count": 22,
   "metadata": {
    "colab": {
     "base_uri": "https://localhost:8080/"
    },
    "executionInfo": {
     "elapsed": 679,
     "status": "ok",
     "timestamp": 1614956968751,
     "user": {
      "displayName": "Si young Rho",
      "photoUrl": "",
      "userId": "04487764503714934157"
     },
     "user_tz": -540
    },
    "id": "vj2R7Lz-UqSP",
    "outputId": "45408311-711c-4884-8b1b-e41f9461c9b5"
   },
   "outputs": [
    {
     "name": "stdout",
     "output_type": "stream",
     "text": [
      "['thi', 'wa', 'not', 'the', 'map', 'we', 'found', 'in', 'billi', 'bone', \"'s\", 'chest', ',', 'but', 'an', 'accur', 'copi', ',', 'complet', 'in', 'all', 'thing', '--', 'name', 'and', 'height', 'and', 'sound', '--', 'with', 'the', 'singl', 'except', 'of', 'the', 'red', 'cross', 'and', 'the', 'written', 'note', '.']\n"
     ]
    }
   ],
   "source": [
    "print([s.stem(w) for w in words])"
   ]
  },
  {
   "cell_type": "code",
   "execution_count": 23,
   "metadata": {
    "colab": {
     "base_uri": "https://localhost:8080/"
    },
    "executionInfo": {
     "elapsed": 659,
     "status": "ok",
     "timestamp": 1614956971894,
     "user": {
      "displayName": "Si young Rho",
      "photoUrl": "",
      "userId": "04487764503714934157"
     },
     "user_tz": -540
    },
    "id": "S0UodRLqUs_W",
    "outputId": "69f7ddb5-1bb6-4a88-e876-63d4929ca406"
   },
   "outputs": [
    {
     "name": "stdout",
     "output_type": "stream",
     "text": [
      "['formal', 'allow', 'electric']\n"
     ]
    }
   ],
   "source": [
    "words=['formalize', 'allowance', 'electricical']\r\n",
    "print([s.stem(w) for w in words])"
   ]
  },
  {
   "cell_type": "code",
   "execution_count": 24,
   "metadata": {
    "colab": {
     "base_uri": "https://localhost:8080/"
    },
    "executionInfo": {
     "elapsed": 707,
     "status": "ok",
     "timestamp": 1614956974663,
     "user": {
      "displayName": "Si young Rho",
      "photoUrl": "",
      "userId": "04487764503714934157"
     },
     "user_tz": -540
    },
    "id": "Roc17dcMUtC9",
    "outputId": "9aa81810-9f12-4fa3-e693-d337536828f3"
   },
   "outputs": [
    {
     "name": "stdout",
     "output_type": "stream",
     "text": [
      "['polici', 'do', 'organ', 'have', 'go', 'love', 'live', 'fli', 'die', 'watch', 'ha', 'start']\n"
     ]
    }
   ],
   "source": [
    "from nltk.stem import PorterStemmer\r\n",
    "s=PorterStemmer()\r\n",
    "words=['policy', 'doing', 'organization', 'have', 'going', 'love', 'lives', 'fly', 'dies', 'watched', 'has', 'starting']\r\n",
    "print([s.stem(w) for w in words])"
   ]
  },
  {
   "cell_type": "code",
   "execution_count": 25,
   "metadata": {
    "colab": {
     "base_uri": "https://localhost:8080/"
    },
    "executionInfo": {
     "elapsed": 699,
     "status": "ok",
     "timestamp": 1614956984995,
     "user": {
      "displayName": "Si young Rho",
      "photoUrl": "",
      "userId": "04487764503714934157"
     },
     "user_tz": -540
    },
    "id": "MZ3oU8AeUvkX",
    "outputId": "00f71d77-45a8-4df2-b43e-d8ff8c825453"
   },
   "outputs": [
    {
     "name": "stdout",
     "output_type": "stream",
     "text": [
      "['policy', 'doing', 'org', 'hav', 'going', 'lov', 'liv', 'fly', 'die', 'watch', 'has', 'start']\n"
     ]
    }
   ],
   "source": [
    "from nltk.stem import LancasterStemmer\r\n",
    "l=LancasterStemmer()\r\n",
    "words=['policy', 'doing', 'organization', 'have', 'going', 'love', 'lives', 'fly', 'dies', 'watched', 'has', 'starting']\r\n",
    "print([l.stem(w) for w in words])"
   ]
  },
  {
   "cell_type": "markdown",
   "metadata": {
    "id": "ATQC0e0TZQu0"
   },
   "source": [
    "### 5) [정규표현식](#cell-id)"
   ]
  },
  {
   "cell_type": "markdown",
   "metadata": {
    "id": "VEhI515zU_e4"
   },
   "source": [
    "## 3. 정제"
   ]
  },
  {
   "cell_type": "markdown",
   "metadata": {
    "id": "RywkNOS7VBZt"
   },
   "source": [
    "### 1) 맞춤법 검사"
   ]
  },
  {
   "cell_type": "code",
   "execution_count": 26,
   "metadata": {
    "colab": {
     "base_uri": "https://localhost:8080/"
    },
    "executionInfo": {
     "elapsed": 4945,
     "status": "ok",
     "timestamp": 1614956999060,
     "user": {
      "displayName": "Si young Rho",
      "photoUrl": "",
      "userId": "04487764503714934157"
     },
     "user_tz": -540
    },
    "id": "e4lBXuFnPVA7",
    "outputId": "5ffe63e4-d292-45ab-c7d5-26ff6b0f44f3"
   },
   "outputs": [
    {
     "name": "stdout",
     "output_type": "stream",
     "text": [
      "Collecting git+https://github.com/ssut/py-hanspell.git\n",
      "  Cloning https://github.com/ssut/py-hanspell.git to /tmp/pip-req-build-m91a9u7u\n",
      "  Running command git clone -q https://github.com/ssut/py-hanspell.git /tmp/pip-req-build-m91a9u7u\n",
      "Requirement already satisfied: requests in /usr/local/lib/python3.7/dist-packages (from py-hanspell==1.1) (2.23.0)\n",
      "Requirement already satisfied: chardet<4,>=3.0.2 in /usr/local/lib/python3.7/dist-packages (from requests->py-hanspell==1.1) (3.0.4)\n",
      "Requirement already satisfied: idna<3,>=2.5 in /usr/local/lib/python3.7/dist-packages (from requests->py-hanspell==1.1) (2.10)\n",
      "Requirement already satisfied: certifi>=2017.4.17 in /usr/local/lib/python3.7/dist-packages (from requests->py-hanspell==1.1) (2020.12.5)\n",
      "Requirement already satisfied: urllib3!=1.25.0,!=1.25.1,<1.26,>=1.21.1 in /usr/local/lib/python3.7/dist-packages (from requests->py-hanspell==1.1) (1.24.3)\n",
      "Building wheels for collected packages: py-hanspell\n",
      "  Building wheel for py-hanspell (setup.py) ... \u001b[?25l\u001b[?25hdone\n",
      "  Created wheel for py-hanspell: filename=py_hanspell-1.1-cp37-none-any.whl size=4854 sha256=27e6aa19ca54f73ec60dd8d6c2c5b97e2f78730c8357d688e8e87f7a78ab5299\n",
      "  Stored in directory: /tmp/pip-ephem-wheel-cache-i349it6l/wheels/0a/25/d1/e5e96476dbb1c318cc26c992dd493394fe42b0c204b3e65588\n",
      "Successfully built py-hanspell\n",
      "Installing collected packages: py-hanspell\n",
      "Successfully installed py-hanspell-1.1\n"
     ]
    }
   ],
   "source": [
    "!pip install git+https://github.com/ssut/py-hanspell.git\r\n",
    "from hanspell import spell_checker"
   ]
  },
  {
   "cell_type": "code",
   "execution_count": 27,
   "metadata": {
    "colab": {
     "base_uri": "https://localhost:8080/"
    },
    "executionInfo": {
     "elapsed": 1434,
     "status": "ok",
     "timestamp": 1614957006105,
     "user": {
      "displayName": "Si young Rho",
      "photoUrl": "",
      "userId": "04487764503714934157"
     },
     "user_tz": -540
    },
    "id": "7nasDqksPbzw",
    "outputId": "57c79048-e957-4b32-9414-961d32b9d7e3"
   },
   "outputs": [
    {
     "name": "stdout",
     "output_type": "stream",
     "text": [
      "맞춤법 틀리면 왜 안돼? 쓰고 싶은 대로 쓰면 되지\n"
     ]
    }
   ],
   "source": [
    "sent = \"맞춤법 틀리면 외 않되? 쓰고싶은대로쓰면돼지 \"\r\n",
    "spelled_sent = spell_checker.check(sent)\r\n",
    "\r\n",
    "hanspell_sent = spelled_sent.checked\r\n",
    "print(hanspell_sent)"
   ]
  },
  {
   "cell_type": "markdown",
   "metadata": {
    "id": "mzGmuOEQVETX"
   },
   "source": [
    "### 2) 불용어 처리"
   ]
  },
  {
   "cell_type": "code",
   "execution_count": 28,
   "metadata": {
    "colab": {
     "base_uri": "https://localhost:8080/"
    },
    "executionInfo": {
     "elapsed": 561,
     "status": "ok",
     "timestamp": 1614957010808,
     "user": {
      "displayName": "Si young Rho",
      "photoUrl": "",
      "userId": "04487764503714934157"
     },
     "user_tz": -540
    },
    "id": "gn6FB-FaVGU9",
    "outputId": "75c29e66-86b1-499f-8a7c-20760a8e755d"
   },
   "outputs": [
    {
     "name": "stdout",
     "output_type": "stream",
     "text": [
      "[nltk_data] Downloading package stopwords to /root/nltk_data...\n",
      "[nltk_data]   Unzipping corpora/stopwords.zip.\n"
     ]
    },
    {
     "data": {
      "text/plain": [
       "['i', 'me', 'my', 'myself', 'we', 'our', 'ours', 'ourselves', 'you', \"you're\"]"
      ]
     },
     "execution_count": 28,
     "metadata": {
      "tags": []
     },
     "output_type": "execute_result"
    }
   ],
   "source": [
    "nltk.download('stopwords')\r\n",
    "\r\n",
    "from nltk.corpus import stopwords  \r\n",
    "stopwords.words('english')[:10]  "
   ]
  },
  {
   "cell_type": "code",
   "execution_count": 29,
   "metadata": {
    "colab": {
     "base_uri": "https://localhost:8080/"
    },
    "executionInfo": {
     "elapsed": 763,
     "status": "ok",
     "timestamp": 1614957016550,
     "user": {
      "displayName": "Si young Rho",
      "photoUrl": "",
      "userId": "04487764503714934157"
     },
     "user_tz": -540
    },
    "id": "1fbXog0tVKwn",
    "outputId": "faece56f-e2b0-42d0-a6ce-0f94b3fa6b62"
   },
   "outputs": [
    {
     "name": "stdout",
     "output_type": "stream",
     "text": [
      "['Family', 'is', 'not', 'an', 'important', 'thing', '.', 'It', \"'s\", 'everything', '.']\n",
      "['Family', 'important', 'thing', '.', 'It', \"'s\", 'everything', '.']\n"
     ]
    }
   ],
   "source": [
    "from nltk.corpus import stopwords \r\n",
    "from nltk.tokenize import word_tokenize \r\n",
    "\r\n",
    "example = \"Family is not an important thing. It's everything.\"\r\n",
    "stop_words = set(stopwords.words('english')) \r\n",
    "\r\n",
    "word_tokens = word_tokenize(example)\r\n",
    "\r\n",
    "result = []\r\n",
    "for w in word_tokens: \r\n",
    "    if w not in stop_words: \r\n",
    "        result.append(w) \r\n",
    "\r\n",
    "print(word_tokens) \r\n",
    "print(result) "
   ]
  },
  {
   "cell_type": "code",
   "execution_count": 30,
   "metadata": {
    "colab": {
     "base_uri": "https://localhost:8080/"
    },
    "executionInfo": {
     "elapsed": 645,
     "status": "ok",
     "timestamp": 1614957023254,
     "user": {
      "displayName": "Si young Rho",
      "photoUrl": "",
      "userId": "04487764503714934157"
     },
     "user_tz": -540
    },
    "id": "0APlMRmYVK1l",
    "outputId": "f6d7690e-400c-4e7b-c5bb-f85dc545ea10"
   },
   "outputs": [
    {
     "name": "stdout",
     "output_type": "stream",
     "text": [
      "['고기를', '아무렇게나', '구우려고', '하면', '안', '돼', '.', '고기라고', '다', '같은', '게', '아니거든', '.', '예컨대', '삼겹살을', '구울', '때는', '중요한', '게', '있지', '.']\n",
      "['고기를', '구우려고', '안', '돼', '.', '고기라고', '다', '같은', '게', '.', '삼겹살을', '구울', '때는', '중요한', '게', '있지', '.']\n"
     ]
    }
   ],
   "source": [
    "from nltk.corpus import stopwords \r\n",
    "from nltk.tokenize import word_tokenize \r\n",
    "\r\n",
    "example = \"고기를 아무렇게나 구우려고 하면 안 돼. 고기라고 다 같은 게 아니거든. 예컨대 삼겹살을 구울 때는 중요한 게 있지.\"\r\n",
    "\r\n",
    "# 불용어 입력\r\n",
    "stop_words = \"아무거나 아무렇게나 어찌하든지 같다 비슷하다 예컨대 이럴정도로 하면 아니거든\"\r\n",
    "\r\n",
    "stop_words=stop_words.split(' ')\r\n",
    "word_tokens = word_tokenize(example)\r\n",
    "\r\n",
    "result = [] \r\n",
    "for w in word_tokens: \r\n",
    "    if w not in stop_words: \r\n",
    "        result.append(w) \r\n",
    "\r\n",
    "# result=[word for word in word_tokens if not word in stop_words]\r\n",
    "\r\n",
    "print(word_tokens) \r\n",
    "print(result)"
   ]
  },
  {
   "cell_type": "markdown",
   "metadata": {
    "id": "66XA8t13WFw2"
   },
   "source": [
    "## 4. 인코딩"
   ]
  },
  {
   "cell_type": "markdown",
   "metadata": {
    "id": "vzbFISE6XG2E"
   },
   "source": [
    "### 1) 정수 인코딩"
   ]
  },
  {
   "cell_type": "code",
   "execution_count": 31,
   "metadata": {
    "executionInfo": {
     "elapsed": 681,
     "status": "ok",
     "timestamp": 1614957082571,
     "user": {
      "displayName": "Si young Rho",
      "photoUrl": "",
      "userId": "04487764503714934157"
     },
     "user_tz": -540
    },
    "id": "qJB5gC8JXJ_y"
   },
   "outputs": [],
   "source": [
    "from nltk.tokenize import sent_tokenize\r\n",
    "from nltk.tokenize import word_tokenize\r\n",
    "from nltk.corpus import stopwords"
   ]
  },
  {
   "cell_type": "code",
   "execution_count": 32,
   "metadata": {
    "colab": {
     "base_uri": "https://localhost:8080/"
    },
    "executionInfo": {
     "elapsed": 649,
     "status": "ok",
     "timestamp": 1614957084542,
     "user": {
      "displayName": "Si young Rho",
      "photoUrl": "",
      "userId": "04487764503714934157"
     },
     "user_tz": -540
    },
    "id": "C4EK-gJWXRVV",
    "outputId": "e3c84757-e550-420f-813d-35cbb84b63bd"
   },
   "outputs": [
    {
     "name": "stdout",
     "output_type": "stream",
     "text": [
      "['A barber is a person.', 'a barber is good person.', 'a barber is huge person.', 'he Knew A Secret!', 'The Secret He Kept is huge secret.', 'Huge secret.', 'His barber kept his word.', 'a barber kept his word.', 'His barber kept his secret.', 'But keeping and keeping such a huge secret to himself was driving the barber crazy.', 'the barber went up a huge mountain.']\n"
     ]
    }
   ],
   "source": [
    "text = \"A barber is a person. a barber is good person. a barber is huge person. he Knew A Secret! The Secret He Kept is huge secret. Huge secret. His barber kept his word. a barber kept his word. His barber kept his secret. But keeping and keeping such a huge secret to himself was driving the barber crazy. the barber went up a huge mountain.\"\r\n",
    "\r\n",
    "text = sent_tokenize(text)\r\n",
    "print(text)"
   ]
  },
  {
   "cell_type": "code",
   "execution_count": 33,
   "metadata": {
    "colab": {
     "base_uri": "https://localhost:8080/"
    },
    "executionInfo": {
     "elapsed": 679,
     "status": "ok",
     "timestamp": 1614957089590,
     "user": {
      "displayName": "Si young Rho",
      "photoUrl": "",
      "userId": "04487764503714934157"
     },
     "user_tz": -540
    },
    "id": "llszSzyFXRZy",
    "outputId": "3847602c-3a44-4336-ffe6-279b9818270b"
   },
   "outputs": [
    {
     "name": "stdout",
     "output_type": "stream",
     "text": [
      "[['barber', 'person'], ['barber', 'good', 'person'], ['barber', 'huge', 'person'], ['knew', 'secret'], ['secret', 'kept', 'huge', 'secret'], ['huge', 'secret'], ['barber', 'kept', 'word'], ['barber', 'kept', 'word'], ['barber', 'kept', 'secret'], ['keeping', 'keeping', 'huge', 'secret', 'driving', 'barber', 'crazy'], ['barber', 'went', 'huge', 'mountain']]\n"
     ]
    }
   ],
   "source": [
    "# 정제와 단어 토큰화\r\n",
    "vocab = {} # 파이썬의 dictionary 자료형\r\n",
    "sentences = []\r\n",
    "stop_words = set(stopwords.words('english'))\r\n",
    "\r\n",
    "for i in text:\r\n",
    "    sentence = word_tokenize(i) # 단어 토큰화를 수행합니다.\r\n",
    "    result = []\r\n",
    "\r\n",
    "    for word in sentence: \r\n",
    "        word = word.lower() # 모든 단어를 소문자화하여 단어의 개수를 줄입니다.\r\n",
    "        if word not in stop_words: # 단어 토큰화 된 결과에 대해서 불용어를 제거합니다.\r\n",
    "            if len(word) > 2: # 단어 길이가 2이하인 경우에 대하여 추가로 단어를 제거합니다.\r\n",
    "                result.append(word)\r\n",
    "                if word not in vocab:\r\n",
    "                    vocab[word] = 0 \r\n",
    "                vocab[word] += 1\r\n",
    "    sentences.append(result) \r\n",
    "print(sentences)"
   ]
  },
  {
   "cell_type": "code",
   "execution_count": 34,
   "metadata": {
    "colab": {
     "base_uri": "https://localhost:8080/"
    },
    "executionInfo": {
     "elapsed": 672,
     "status": "ok",
     "timestamp": 1614957093781,
     "user": {
      "displayName": "Si young Rho",
      "photoUrl": "",
      "userId": "04487764503714934157"
     },
     "user_tz": -540
    },
    "id": "JxPK_bHaXRdY",
    "outputId": "ab2411df-da91-46cb-9a0a-589b905b7210"
   },
   "outputs": [
    {
     "name": "stdout",
     "output_type": "stream",
     "text": [
      "{'barber': 8, 'person': 3, 'good': 1, 'huge': 5, 'knew': 1, 'secret': 6, 'kept': 4, 'word': 2, 'keeping': 2, 'driving': 1, 'crazy': 1, 'went': 1, 'mountain': 1}\n",
      "8\n"
     ]
    }
   ],
   "source": [
    "print(vocab)\r\n",
    "print(vocab[\"barber\"])"
   ]
  },
  {
   "cell_type": "code",
   "execution_count": 35,
   "metadata": {
    "colab": {
     "base_uri": "https://localhost:8080/"
    },
    "executionInfo": {
     "elapsed": 742,
     "status": "ok",
     "timestamp": 1614957097357,
     "user": {
      "displayName": "Si young Rho",
      "photoUrl": "",
      "userId": "04487764503714934157"
     },
     "user_tz": -540
    },
    "id": "4syPE_ajXRgf",
    "outputId": "886652af-7273-4dcf-e4ad-a119781d574a"
   },
   "outputs": [
    {
     "name": "stdout",
     "output_type": "stream",
     "text": [
      "[('barber', 8), ('secret', 6), ('huge', 5), ('kept', 4), ('person', 3), ('word', 2), ('keeping', 2), ('good', 1), ('knew', 1), ('driving', 1), ('crazy', 1), ('went', 1), ('mountain', 1)]\n"
     ]
    }
   ],
   "source": [
    "vocab_sorted = sorted(vocab.items(), key = lambda x:x[1], reverse = True)\r\n",
    "print(vocab_sorted)"
   ]
  },
  {
   "cell_type": "code",
   "execution_count": 36,
   "metadata": {
    "colab": {
     "base_uri": "https://localhost:8080/"
    },
    "executionInfo": {
     "elapsed": 735,
     "status": "ok",
     "timestamp": 1614957100524,
     "user": {
      "displayName": "Si young Rho",
      "photoUrl": "",
      "userId": "04487764503714934157"
     },
     "user_tz": -540
    },
    "id": "hESefMpcXgBw",
    "outputId": "e3bbb2d2-ce75-4882-e53b-27f495bb38ce"
   },
   "outputs": [
    {
     "name": "stdout",
     "output_type": "stream",
     "text": [
      "{'barber': 1, 'secret': 2, 'huge': 3, 'kept': 4, 'person': 5, 'word': 6, 'keeping': 7}\n"
     ]
    }
   ],
   "source": [
    "word_to_index = {}\r\n",
    "i=0\r\n",
    "for (word, frequency) in vocab_sorted :\r\n",
    "    if frequency > 1 : # 정제(Cleaning) 챕터에서 언급했듯이 빈도수가 적은 단어는 제외한다.\r\n",
    "        i=i+1\r\n",
    "        word_to_index[word] = i\r\n",
    "print(word_to_index)"
   ]
  },
  {
   "cell_type": "code",
   "execution_count": 37,
   "metadata": {
    "colab": {
     "base_uri": "https://localhost:8080/"
    },
    "executionInfo": {
     "elapsed": 701,
     "status": "ok",
     "timestamp": 1614957104258,
     "user": {
      "displayName": "Si young Rho",
      "photoUrl": "",
      "userId": "04487764503714934157"
     },
     "user_tz": -540
    },
    "id": "g9rJTG3JXgF4",
    "outputId": "1ca4998d-34cf-4a07-d872-dc45b120797a"
   },
   "outputs": [
    {
     "name": "stdout",
     "output_type": "stream",
     "text": [
      "{'barber': 1, 'secret': 2, 'huge': 3, 'kept': 4, 'person': 5}\n"
     ]
    }
   ],
   "source": [
    "vocab_size = 5\r\n",
    "words_frequency = [w for w,c in word_to_index.items() if c >= vocab_size + 1] # 인덱스가 5 초과인 단어 제거\r\n",
    "for w in words_frequency:\r\n",
    "    del word_to_index[w] # 해당 단어에 대한 인덱스 정보를 삭제\r\n",
    "print(word_to_index)"
   ]
  },
  {
   "cell_type": "code",
   "execution_count": 38,
   "metadata": {
    "executionInfo": {
     "elapsed": 656,
     "status": "ok",
     "timestamp": 1614957109024,
     "user": {
      "displayName": "Si young Rho",
      "photoUrl": "",
      "userId": "04487764503714934157"
     },
     "user_tz": -540
    },
    "id": "wa_SZagyXgIo"
   },
   "outputs": [],
   "source": [
    "# Out-Of-Vocabulary(단어 집합에 없는 단어)\r\n",
    "word_to_index['OOV'] = len(word_to_index) + 1"
   ]
  },
  {
   "cell_type": "code",
   "execution_count": 39,
   "metadata": {
    "colab": {
     "base_uri": "https://localhost:8080/"
    },
    "executionInfo": {
     "elapsed": 562,
     "status": "ok",
     "timestamp": 1614957112799,
     "user": {
      "displayName": "Si young Rho",
      "photoUrl": "",
      "userId": "04487764503714934157"
     },
     "user_tz": -540
    },
    "id": "lvHAGcOqXtaX",
    "outputId": "8258e892-b421-460b-b486-3ddf242cf906"
   },
   "outputs": [
    {
     "name": "stdout",
     "output_type": "stream",
     "text": [
      "[[1, 5], [1, 6, 5], [1, 3, 5], [6, 2], [2, 4, 3, 2], [3, 2], [1, 4, 6], [1, 4, 6], [1, 4, 2], [6, 6, 3, 2, 6, 1, 6], [1, 6, 3, 6]]\n"
     ]
    }
   ],
   "source": [
    "encoded = []\r\n",
    "for s in sentences:\r\n",
    "    temp = []\r\n",
    "    for w in s:\r\n",
    "        try:\r\n",
    "            temp.append(word_to_index[w])\r\n",
    "        except KeyError:\r\n",
    "            temp.append(word_to_index['OOV'])\r\n",
    "    encoded.append(temp)\r\n",
    "print(encoded)"
   ]
  },
  {
   "cell_type": "code",
   "execution_count": 40,
   "metadata": {
    "colab": {
     "base_uri": "https://localhost:8080/"
    },
    "executionInfo": {
     "elapsed": 667,
     "status": "ok",
     "timestamp": 1614957329400,
     "user": {
      "displayName": "Si young Rho",
      "photoUrl": "",
      "userId": "04487764503714934157"
     },
     "user_tz": -540
    },
    "id": "9zWCgApTXteI",
    "outputId": "8ccbafd0-b0bc-4fcc-865c-778844093b2f"
   },
   "outputs": [
    {
     "name": "stdout",
     "output_type": "stream",
     "text": [
      "Counter({'barber': 8, 'secret': 6, 'huge': 5, 'kept': 4, 'person': 3, 'word': 2, 'keeping': 2, 'good': 1, 'knew': 1, 'driving': 1, 'crazy': 1, 'went': 1, 'mountain': 1})\n",
      "{'barber': 1, 'secret': 2, 'huge': 3, 'kept': 4, 'person': 5}\n"
     ]
    }
   ],
   "source": [
    "# collections 패키지를 이용한 방법\r\n",
    "from collections import Counter\r\n",
    "\r\n",
    "# flatten\r\n",
    "words = sum(sentences, [])\r\n",
    "\r\n",
    "\r\n",
    "vocab = Counter(words) # 파이썬의 Counter 모듈을 이용하면 단어의 모든 빈도를 쉽게 계산할 수 있습니다.\r\n",
    "print(vocab)\r\n",
    "\r\n",
    "\r\n",
    "vocab_size = 5\r\n",
    "vocab = vocab.most_common(vocab_size) # 등장 빈도수가 높은 상위 5개의 단어만 저장\r\n",
    "\r\n",
    "word_to_index = {}\r\n",
    "i = 0\r\n",
    "for (word, frequency) in vocab :\r\n",
    "    i = i+1\r\n",
    "    word_to_index[word] = i\r\n",
    "print(word_to_index)"
   ]
  },
  {
   "cell_type": "markdown",
   "metadata": {
    "id": "Vm7paQGZXMZ5"
   },
   "source": [
    "### 2) 패딩"
   ]
  },
  {
   "cell_type": "code",
   "execution_count": 41,
   "metadata": {
    "executionInfo": {
     "elapsed": 746,
     "status": "ok",
     "timestamp": 1614957333126,
     "user": {
      "displayName": "Si young Rho",
      "photoUrl": "",
      "userId": "04487764503714934157"
     },
     "user_tz": -540
    },
    "id": "SYWk49mUXNbO"
   },
   "outputs": [],
   "source": [
    "import numpy as np\r\n",
    "from tensorflow.keras.preprocessing.text import Tokenizer"
   ]
  },
  {
   "cell_type": "code",
   "execution_count": 42,
   "metadata": {
    "executionInfo": {
     "elapsed": 659,
     "status": "ok",
     "timestamp": 1614957336051,
     "user": {
      "displayName": "Si young Rho",
      "photoUrl": "",
      "userId": "04487764503714934157"
     },
     "user_tz": -540
    },
    "id": "3Qqar-tGYL8h"
   },
   "outputs": [],
   "source": [
    "sentences = [['barber', 'person'], ['barber', 'good', 'person'], ['barber', 'huge', 'person'], ['knew', 'secret'], ['secret', 'kept', 'huge', 'secret'], ['huge', 'secret'], ['barber', 'kept', 'word'], ['barber', 'kept', 'word'], ['barber', 'kept', 'secret'], ['keeping', 'keeping', 'huge', 'secret', 'driving', 'barber', 'crazy'], ['barber', 'went', 'huge', 'mountain']]"
   ]
  },
  {
   "cell_type": "code",
   "execution_count": 43,
   "metadata": {
    "colab": {
     "base_uri": "https://localhost:8080/"
    },
    "executionInfo": {
     "elapsed": 716,
     "status": "ok",
     "timestamp": 1614957339334,
     "user": {
      "displayName": "Si young Rho",
      "photoUrl": "",
      "userId": "04487764503714934157"
     },
     "user_tz": -540
    },
    "id": "7PQFpMfNYMAs",
    "outputId": "dd07b90b-ad8e-43c3-b494-07ac5e9e28ac"
   },
   "outputs": [
    {
     "name": "stdout",
     "output_type": "stream",
     "text": [
      "[[1, 5], [1, 8, 5], [1, 3, 5], [9, 2], [2, 4, 3, 2], [3, 2], [1, 4, 6], [1, 4, 6], [1, 4, 2], [7, 7, 3, 2, 10, 1, 11], [1, 12, 3, 13]]\n"
     ]
    }
   ],
   "source": [
    "# 정수 인코딩\r\n",
    "tokenizer = Tokenizer()\r\n",
    "tokenizer.fit_on_texts(sentences) # fit_on_texts()안에 코퍼스를 입력으로 하면 빈도수를 기준으로 단어 집합을 생성한다.\r\n",
    "\r\n",
    "encoded = tokenizer.texts_to_sequences(sentences)\r\n",
    "print(encoded)"
   ]
  },
  {
   "cell_type": "code",
   "execution_count": 44,
   "metadata": {
    "colab": {
     "base_uri": "https://localhost:8080/"
    },
    "executionInfo": {
     "elapsed": 686,
     "status": "ok",
     "timestamp": 1614957342291,
     "user": {
      "displayName": "Si young Rho",
      "photoUrl": "",
      "userId": "04487764503714934157"
     },
     "user_tz": -540
    },
    "id": "ZwZBkXBbYMDR",
    "outputId": "6c9ae48f-bd6c-44a6-9189-5d51c88de12d"
   },
   "outputs": [
    {
     "name": "stdout",
     "output_type": "stream",
     "text": [
      "7\n"
     ]
    }
   ],
   "source": [
    "# 최대 길이 계산\r\n",
    "max_len = max(len(item) for item in encoded)\r\n",
    "print(max_len)"
   ]
  },
  {
   "cell_type": "code",
   "execution_count": 45,
   "metadata": {
    "colab": {
     "base_uri": "https://localhost:8080/"
    },
    "executionInfo": {
     "elapsed": 662,
     "status": "ok",
     "timestamp": 1614957344975,
     "user": {
      "displayName": "Si young Rho",
      "photoUrl": "",
      "userId": "04487764503714934157"
     },
     "user_tz": -540
    },
    "id": "LmmFq1kJYVdj",
    "outputId": "074a01fc-c9cc-431e-f7b7-9c40c0536663"
   },
   "outputs": [
    {
     "data": {
      "text/plain": [
       "array([[ 1,  5,  0,  0,  0,  0,  0],\n",
       "       [ 1,  8,  5,  0,  0,  0,  0],\n",
       "       [ 1,  3,  5,  0,  0,  0,  0],\n",
       "       [ 9,  2,  0,  0,  0,  0,  0],\n",
       "       [ 2,  4,  3,  2,  0,  0,  0],\n",
       "       [ 3,  2,  0,  0,  0,  0,  0],\n",
       "       [ 1,  4,  6,  0,  0,  0,  0],\n",
       "       [ 1,  4,  6,  0,  0,  0,  0],\n",
       "       [ 1,  4,  2,  0,  0,  0,  0],\n",
       "       [ 7,  7,  3,  2, 10,  1, 11],\n",
       "       [ 1, 12,  3, 13,  0,  0,  0]])"
      ]
     },
     "execution_count": 45,
     "metadata": {
      "tags": []
     },
     "output_type": "execute_result"
    }
   ],
   "source": [
    "for item in encoded: # 각 문장에 대해서\r\n",
    "    while len(item) < max_len:   # max_len보다 작으면\r\n",
    "        item.append(0) # 패딩\r\n",
    "\r\n",
    "padded_np = np.array(encoded)\r\n",
    "padded_np"
   ]
  },
  {
   "cell_type": "code",
   "execution_count": 46,
   "metadata": {
    "colab": {
     "base_uri": "https://localhost:8080/"
    },
    "executionInfo": {
     "elapsed": 671,
     "status": "ok",
     "timestamp": 1614957348559,
     "user": {
      "displayName": "Si young Rho",
      "photoUrl": "",
      "userId": "04487764503714934157"
     },
     "user_tz": -540
    },
    "id": "wXHKEB2sYboY",
    "outputId": "f9ca1c80-fc95-4e03-d8d9-9fe18e214423"
   },
   "outputs": [
    {
     "name": "stdout",
     "output_type": "stream",
     "text": [
      "[[1, 5], [1, 8, 5], [1, 3, 5], [9, 2], [2, 4, 3, 2], [3, 2], [1, 4, 6], [1, 4, 6], [1, 4, 2], [7, 7, 3, 2, 10, 1, 11], [1, 12, 3, 13]]\n"
     ]
    },
    {
     "data": {
      "text/plain": [
       "array([[ 1,  5,  0,  0,  0],\n",
       "       [ 1,  8,  5,  0,  0],\n",
       "       [ 1,  3,  5,  0,  0],\n",
       "       [ 9,  2,  0,  0,  0],\n",
       "       [ 2,  4,  3,  2,  0],\n",
       "       [ 3,  2,  0,  0,  0],\n",
       "       [ 1,  4,  6,  0,  0],\n",
       "       [ 1,  4,  6,  0,  0],\n",
       "       [ 1,  4,  2,  0,  0],\n",
       "       [ 3,  2, 10,  1, 11],\n",
       "       [ 1, 12,  3, 13,  0]], dtype=int32)"
      ]
     },
     "execution_count": 46,
     "metadata": {
      "tags": []
     },
     "output_type": "execute_result"
    }
   ],
   "source": [
    "# 케라스를 이용한 방법\r\n",
    "from tensorflow.keras.preprocessing.sequence import pad_sequences\r\n",
    "\r\n",
    "encoded = tokenizer.texts_to_sequences(sentences)\r\n",
    "print(encoded)\r\n",
    "\r\n",
    "padded = pad_sequences(encoded, padding = 'post', maxlen = 5)\r\n",
    "padded\r\n"
   ]
  },
  {
   "cell_type": "markdown",
   "metadata": {
    "id": "Lwp8ZEO5XKTJ"
   },
   "source": [
    "### 3) 원-핫 인코딩"
   ]
  },
  {
   "cell_type": "code",
   "execution_count": 47,
   "metadata": {
    "colab": {
     "base_uri": "https://localhost:8080/"
    },
    "executionInfo": {
     "elapsed": 617,
     "status": "ok",
     "timestamp": 1614957359510,
     "user": {
      "displayName": "Si young Rho",
      "photoUrl": "",
      "userId": "04487764503714934157"
     },
     "user_tz": -540
    },
    "id": "p2KUoojhVK-5",
    "outputId": "2bec3fcc-419e-49ff-8f15-98e6c74907d5"
   },
   "outputs": [
    {
     "name": "stdout",
     "output_type": "stream",
     "text": [
      "['나', '는', '자연어', '처리', '를', '배운다']\n"
     ]
    }
   ],
   "source": [
    "from konlpy.tag import Okt  \r\n",
    "okt=Okt()  \r\n",
    "token=okt.morphs(\"나는 자연어 처리를 배운다\")  \r\n",
    "print(token)"
   ]
  },
  {
   "cell_type": "code",
   "execution_count": 48,
   "metadata": {
    "colab": {
     "base_uri": "https://localhost:8080/"
    },
    "executionInfo": {
     "elapsed": 825,
     "status": "ok",
     "timestamp": 1614957363109,
     "user": {
      "displayName": "Si young Rho",
      "photoUrl": "",
      "userId": "04487764503714934157"
     },
     "user_tz": -540
    },
    "id": "MK5cKpkkWRGI",
    "outputId": "4d8e10e2-1763-4859-9960-52d1de4e87a4"
   },
   "outputs": [
    {
     "name": "stdout",
     "output_type": "stream",
     "text": [
      "{'나': 0, '는': 1, '자연어': 2, '처리': 3, '를': 4, '배운다': 5}\n"
     ]
    }
   ],
   "source": [
    "word2index={}\r\n",
    "for voca in token:\r\n",
    "     if voca not in word2index.keys():\r\n",
    "       word2index[voca]=len(word2index)\r\n",
    "print(word2index)"
   ]
  },
  {
   "cell_type": "code",
   "execution_count": 49,
   "metadata": {
    "executionInfo": {
     "elapsed": 569,
     "status": "ok",
     "timestamp": 1614957366064,
     "user": {
      "displayName": "Si young Rho",
      "photoUrl": "",
      "userId": "04487764503714934157"
     },
     "user_tz": -540
    },
    "id": "SYmyrzPDWSqH"
   },
   "outputs": [],
   "source": [
    "def one_hot_encoding(word, word2index):\r\n",
    "       one_hot_vector = [0]*(len(word2index))\r\n",
    "       index=word2index[word]\r\n",
    "       one_hot_vector[index]=1\r\n",
    "       return one_hot_vector"
   ]
  },
  {
   "cell_type": "code",
   "execution_count": 50,
   "metadata": {
    "colab": {
     "base_uri": "https://localhost:8080/"
    },
    "executionInfo": {
     "elapsed": 663,
     "status": "ok",
     "timestamp": 1614957368296,
     "user": {
      "displayName": "Si young Rho",
      "photoUrl": "",
      "userId": "04487764503714934157"
     },
     "user_tz": -540
    },
    "id": "OxS3Le41WUNl",
    "outputId": "04842f99-a6b1-474f-c229-874b869db21b"
   },
   "outputs": [
    {
     "data": {
      "text/plain": [
       "[0, 0, 1, 0, 0, 0]"
      ]
     },
     "execution_count": 50,
     "metadata": {
      "tags": []
     },
     "output_type": "execute_result"
    }
   ],
   "source": [
    "one_hot_encoding(\"자연어\",word2index)"
   ]
  },
  {
   "cell_type": "code",
   "execution_count": 51,
   "metadata": {
    "colab": {
     "base_uri": "https://localhost:8080/"
    },
    "executionInfo": {
     "elapsed": 826,
     "status": "ok",
     "timestamp": 1614957371695,
     "user": {
      "displayName": "Si young Rho",
      "photoUrl": "",
      "userId": "04487764503714934157"
     },
     "user_tz": -540
    },
    "id": "vtIhxlAcWV-Q",
    "outputId": "93cfe879-ef6f-412c-c225-061754c50e6a"
   },
   "outputs": [
    {
     "name": "stdout",
     "output_type": "stream",
     "text": [
      "{'갈래': 1, '점심': 2, '햄버거': 3, '나랑': 4, '먹으러': 5, '메뉴는': 6, '최고야': 7}\n"
     ]
    }
   ],
   "source": [
    "from tensorflow.keras.preprocessing.text import Tokenizer\r\n",
    "from tensorflow.keras.utils import to_categorical\r\n",
    "\r\n",
    "text=\"나랑 점심 먹으러 갈래 점심 메뉴는 햄버거 갈래 갈래 햄버거 최고야\"\r\n",
    "\r\n",
    "t = Tokenizer()\r\n",
    "t.fit_on_texts([text])\r\n",
    "print(t.word_index) # 각 단어에 대한 인코딩 결과 출력."
   ]
  },
  {
   "cell_type": "code",
   "execution_count": 52,
   "metadata": {
    "colab": {
     "base_uri": "https://localhost:8080/"
    },
    "executionInfo": {
     "elapsed": 696,
     "status": "ok",
     "timestamp": 1614957374969,
     "user": {
      "displayName": "Si young Rho",
      "photoUrl": "",
      "userId": "04487764503714934157"
     },
     "user_tz": -540
    },
    "id": "wdoo954PWdPf",
    "outputId": "f7ca8683-8678-40a3-f01a-65134610d1fd"
   },
   "outputs": [
    {
     "name": "stdout",
     "output_type": "stream",
     "text": [
      "[2, 5, 1, 6, 3, 7]\n"
     ]
    }
   ],
   "source": [
    "sub_text=\"점심 먹으러 갈래 메뉴는 햄버거 최고야\"\r\n",
    "encoded=t.texts_to_sequences([sub_text])[0]\r\n",
    "print(encoded)"
   ]
  },
  {
   "cell_type": "code",
   "execution_count": 53,
   "metadata": {
    "colab": {
     "base_uri": "https://localhost:8080/"
    },
    "executionInfo": {
     "elapsed": 567,
     "status": "ok",
     "timestamp": 1614957379884,
     "user": {
      "displayName": "Si young Rho",
      "photoUrl": "",
      "userId": "04487764503714934157"
     },
     "user_tz": -540
    },
    "id": "Ud-drUK8Wek3",
    "outputId": "65589ce2-c665-4976-8e90-9c64c0375ccb"
   },
   "outputs": [
    {
     "name": "stdout",
     "output_type": "stream",
     "text": [
      "[[0. 0. 1. 0. 0. 0. 0. 0.]\n",
      " [0. 0. 0. 0. 0. 1. 0. 0.]\n",
      " [0. 1. 0. 0. 0. 0. 0. 0.]\n",
      " [0. 0. 0. 0. 0. 0. 1. 0.]\n",
      " [0. 0. 0. 1. 0. 0. 0. 0.]\n",
      " [0. 0. 0. 0. 0. 0. 0. 1.]]\n"
     ]
    }
   ],
   "source": [
    "one_hot = to_categorical(encoded)\r\n",
    "print(one_hot)"
   ]
  },
  {
   "cell_type": "markdown",
   "metadata": {
    "id": "26YrdyQbkzms"
   },
   "source": [
    "-------------------------\r\n",
    "<a name=\"cell-id\"></a>\r\n",
    "## +)정규표현식(Regular Expression)\r\n",
    "- https://regexr.com/\r\n",
    " \r\n",
    "주요 함수\r\n",
    "- re.search: 패턴이 일치하는 첫번째 문자열만 반환 (결과값은 1개) \r\n",
    "- re.match: 주어진 문자열의 첫글자부터 일치하는 패턴 문자열을 반환 (결과값은 1개)\r\n",
    "- re.findall: 패턴이 일치하는 문자열을 **모두** 찾아서 반환한다.\r\n",
    "- re.sub: 특정 패턴을 찾아서 다른 문자열로 변경\r\n",
    "- re.compile: 패턴을 **반복**적으로 적용하는 경우 효율적이다.\r\n",
    "```\r\n",
    "# compile 사용\r\n",
    "객체 = re.compile('패턴')\r\n",
    "객체.match('문자열1')\r\n",
    "객체.match('문자열2')\r\n",
    "객체.match('문자열3')\r\n",
    ".\r\n",
    "# compile 사용x\r\n",
    "re.match(패턴, '문자열1')\r\n",
    "re.match(패턴, '문자열2')\r\n",
    "re.match(패턴, '문자열3')\r\n",
    "```\r\n"
   ]
  },
  {
   "cell_type": "code",
   "execution_count": 54,
   "metadata": {
    "colab": {
     "base_uri": "https://localhost:8080/"
    },
    "executionInfo": {
     "elapsed": 554,
     "status": "ok",
     "timestamp": 1614957387135,
     "user": {
      "displayName": "Si young Rho",
      "photoUrl": "",
      "userId": "04487764503714934157"
     },
     "user_tz": -540
    },
    "id": "GpMe1vu-A7Ea",
    "outputId": "6938ffa1-dd9b-4177-bdef-b5208b535faa"
   },
   "outputs": [
    {
     "name": "stdout",
     "output_type": "stream",
     "text": [
      "<re.Match object; span=(24, 27), match='니다.'>\n",
      "<re.Match object; span=(31, 34), match='니다.'>\n",
      "None\n"
     ]
    }
   ],
   "source": [
    "input_text_1 = \"계절이 지나가는 하늘에는 가을로 가득차 있습니다.\"\r\n",
    "input_text_2 = \"나는 아무 걱정도 없이 가을 속의 별들을 다 헤일 듯 합니다.\"\r\n",
    "input_text_3 = \"별 하나에 추억과\"\r\n",
    "\r\n",
    "p = re.compile('니다.$')\r\n",
    "\r\n",
    "print(p.search(input_text_1))\r\n",
    "print(p.search(input_text_2))\r\n",
    "print(p.search(input_text_3))"
   ]
  },
  {
   "cell_type": "markdown",
   "metadata": {
    "id": "BHJdsWiZk4qu"
   },
   "source": [
    "### 1. 특정 패턴 찾기\r\n",
    "- 1개 문자열 찾기"
   ]
  },
  {
   "cell_type": "markdown",
   "metadata": {
    "id": "QjMQtZMepOOr"
   },
   "source": [
    "#### 1) 숫자: \\d"
   ]
  },
  {
   "cell_type": "code",
   "execution_count": 55,
   "metadata": {
    "executionInfo": {
     "elapsed": 688,
     "status": "ok",
     "timestamp": 1614957402408,
     "user": {
      "displayName": "Si young Rho",
      "photoUrl": "",
      "userId": "04487764503714934157"
     },
     "user_tz": -540
    },
    "id": "ENMa23Nq4n4S"
   },
   "outputs": [],
   "source": [
    "import re"
   ]
  },
  {
   "cell_type": "code",
   "execution_count": null,
   "metadata": {
    "colab": {
     "base_uri": "https://localhost:8080/"
    },
    "executionInfo": {
     "elapsed": 925,
     "status": "ok",
     "timestamp": 1614653199356,
     "user": {
      "displayName": "mj yoon",
      "photoUrl": "https://lh3.googleusercontent.com/a-/AOh14GjPfaqh9-Any5X7weZ9BJ9HAxsJDTPncMg-5XbTRg=s64",
      "userId": "15463938512742760907"
     },
     "user_tz": -540
    },
    "id": "9FlRqE3jkyKM",
    "outputId": "1e0041f9-c600-449c-e040-c5d0a4586559"
   },
   "outputs": [
    {
     "name": "stdout",
     "output_type": "stream",
     "text": [
      "['1', '2', '3', '4', '5', '6', '7', '8', '9', '0']\n"
     ]
    }
   ],
   "source": [
    "input_text = \"english\\t한글 漢字 1234567890!@#$%^&*()\"\r\n",
    "regex = \"\\d\"\r\n",
    "print(re.findall(regex, input_text))"
   ]
  },
  {
   "cell_type": "markdown",
   "metadata": {
    "id": "TH4ScJlephgO"
   },
   "source": [
    "#### 2) 숫자가 아닌 모든 문자열: \\D"
   ]
  },
  {
   "cell_type": "code",
   "execution_count": 56,
   "metadata": {
    "colab": {
     "base_uri": "https://localhost:8080/"
    },
    "executionInfo": {
     "elapsed": 699,
     "status": "ok",
     "timestamp": 1614958072161,
     "user": {
      "displayName": "Si young Rho",
      "photoUrl": "",
      "userId": "04487764503714934157"
     },
     "user_tz": -540
    },
    "id": "8kSrf08ilnw3",
    "outputId": "7eccd782-0db1-4961-f8b8-734eeebdd669"
   },
   "outputs": [
    {
     "name": "stdout",
     "output_type": "stream",
     "text": [
      "['e', 'n', 'g', 'l', 'i', 's', 'h', '\\t', '한', '글', ' ', '漢', '字', ' ', '!', '@', '#', '$', '%', '^', '&', '*', '(', ')']\n"
     ]
    }
   ],
   "source": [
    "input_text = \"english\\t한글 漢字 1234567890!@#$%^&*()\"\r\n",
    "regex = \"\\D\"\r\n",
    "print(re.findall(regex, input_text))"
   ]
  },
  {
   "cell_type": "markdown",
   "metadata": {
    "id": "Xn1jOrwOpwl1"
   },
   "source": [
    "#### 3) 띄어쓰기, 탭, 줄바꿈 등의 공백문자: \\s"
   ]
  },
  {
   "cell_type": "code",
   "execution_count": 57,
   "metadata": {
    "colab": {
     "base_uri": "https://localhost:8080/"
    },
    "executionInfo": {
     "elapsed": 801,
     "status": "ok",
     "timestamp": 1614958092637,
     "user": {
      "displayName": "Si young Rho",
      "photoUrl": "",
      "userId": "04487764503714934157"
     },
     "user_tz": -540
    },
    "id": "emrI8xptl31b",
    "outputId": "2aed42e3-3f08-4dbf-d397-209856f8c2a7"
   },
   "outputs": [
    {
     "name": "stdout",
     "output_type": "stream",
     "text": [
      "['\\t', ' ', ' ']\n"
     ]
    }
   ],
   "source": [
    "input_text = \"english\\t한글 漢字 1234567890!@#$%^&*()\"\r\n",
    "regex = \"\\s\"\r\n",
    "print(re.findall(regex, input_text))"
   ]
  },
  {
   "cell_type": "markdown",
   "metadata": {
    "id": "Hlr9E_CRqAoc"
   },
   "source": [
    "#### 4) 공백문자가 아닌 모든 문자열: \\S"
   ]
  },
  {
   "cell_type": "code",
   "execution_count": 58,
   "metadata": {
    "colab": {
     "base_uri": "https://localhost:8080/"
    },
    "executionInfo": {
     "elapsed": 719,
     "status": "ok",
     "timestamp": 1614958097859,
     "user": {
      "displayName": "Si young Rho",
      "photoUrl": "",
      "userId": "04487764503714934157"
     },
     "user_tz": -540
    },
    "id": "IQ81xekvl-eQ",
    "outputId": "70bb905e-3e01-4701-ac43-e7f671430add"
   },
   "outputs": [
    {
     "name": "stdout",
     "output_type": "stream",
     "text": [
      "['e', 'n', 'g', 'l', 'i', 's', 'h', '한', '글', '漢', '字', '1', '2', '3', '4', '5', '6', '7', '8', '9', '0', '!', '@', '#', '$', '%', '^', '&', '*', '(', ')']\n"
     ]
    }
   ],
   "source": [
    "input_text = \"english\\t한글 漢字 1234567890!@#$%^&*()\"\r\n",
    "regex = \"\\S\" \r\n",
    "print(re.findall(regex, input_text))"
   ]
  },
  {
   "cell_type": "markdown",
   "metadata": {
    "id": "HuVXu-_QqDh0"
   },
   "source": [
    "#### 5) # 문자 또는 숫자: \\w"
   ]
  },
  {
   "cell_type": "code",
   "execution_count": 59,
   "metadata": {
    "colab": {
     "base_uri": "https://localhost:8080/"
    },
    "executionInfo": {
     "elapsed": 696,
     "status": "ok",
     "timestamp": 1614958102224,
     "user": {
      "displayName": "Si young Rho",
      "photoUrl": "",
      "userId": "04487764503714934157"
     },
     "user_tz": -540
    },
    "id": "Ot8MzycimDzW",
    "outputId": "6807fcb8-7070-48bf-f12c-09acf419bae6"
   },
   "outputs": [
    {
     "name": "stdout",
     "output_type": "stream",
     "text": [
      "['e', 'n', 'g', 'l', 'i', 's', 'h', '한', '글', '漢', '字', '1', '2', '3', '4', '5', '6', '7', '8', '9', '0']\n"
     ]
    }
   ],
   "source": [
    "input_text = \"english\\t한글 漢字 1234567890!@#$%^&*()\"\r\n",
    "regex = \"\\w\" \r\n",
    "print(re.findall(regex, input_text))"
   ]
  },
  {
   "cell_type": "markdown",
   "metadata": {
    "id": "M_ljCvIIqGyT"
   },
   "source": [
    "#### 6) 문자 또는 숫자가 아닌 모든 문자열: \\W"
   ]
  },
  {
   "cell_type": "code",
   "execution_count": 60,
   "metadata": {
    "colab": {
     "base_uri": "https://localhost:8080/"
    },
    "executionInfo": {
     "elapsed": 843,
     "status": "ok",
     "timestamp": 1614958106458,
     "user": {
      "displayName": "Si young Rho",
      "photoUrl": "",
      "userId": "04487764503714934157"
     },
     "user_tz": -540
    },
    "id": "vy9o6GVRmJIg",
    "outputId": "0953f220-413c-4ed1-e9cc-12f57b5a7bd1"
   },
   "outputs": [
    {
     "name": "stdout",
     "output_type": "stream",
     "text": [
      "['\\t', ' ', ' ', '!', '@', '#', '$', '%', '^', '&', '*', '(', ')']\n"
     ]
    }
   ],
   "source": [
    "input_text = \"english\\t한글 漢字 1234567890!@#$%^&*()\"\r\n",
    "regex = \"\\W\" \r\n",
    "print(re.findall(regex, input_text))"
   ]
  },
  {
   "cell_type": "markdown",
   "metadata": {
    "id": "eBX2gRYoqI1v"
   },
   "source": [
    "#### 7) 줄바꿈을 제외한 모든 문자열: ."
   ]
  },
  {
   "cell_type": "code",
   "execution_count": 61,
   "metadata": {
    "colab": {
     "base_uri": "https://localhost:8080/"
    },
    "executionInfo": {
     "elapsed": 696,
     "status": "ok",
     "timestamp": 1614958899713,
     "user": {
      "displayName": "Si young Rho",
      "photoUrl": "",
      "userId": "04487764503714934157"
     },
     "user_tz": -540
    },
    "id": "Ofkz18YEmShf",
    "outputId": "aeb7ad51-a21c-46ef-b148-88af43519b7e"
   },
   "outputs": [
    {
     "name": "stdout",
     "output_type": "stream",
     "text": [
      "['e', 'n', 'g', 'l', 'i', 's', 'h', '\\t', '한', '글', ' ', '漢', '字', ' ', '1', '2', '3', '4', '5', '6', '7', '8', '9', '0', '!', '@', '#', '$', '%', '^', '&', '*', '(', ')']\n"
     ]
    }
   ],
   "source": [
    "input_text = \"english\\t한글 漢字 1234567890!@#$%^&*()\"\r\n",
    "regex = \".\" \r\n",
    "print(re.findall(regex, input_text))"
   ]
  },
  {
   "cell_type": "markdown",
   "metadata": {
    "id": "y-driQyZmmo9"
   },
   "source": [
    "### 2. 특정 패턴 찾기-2\r\n",
    "- 여러개로 이루어진 문자열 찾기"
   ]
  },
  {
   "cell_type": "markdown",
   "metadata": {
    "id": "5CBGZNdu8rQ0"
   },
   "source": [
    "#### 0) 앞/뒤 문자열로 판단하기\r\n",
    "- 맨 앞에 특정 문자열이 오는 경우: ^문자열\r\n",
    "- 맨 뒤에 특정 문자열이 오는 경우: 문자열$"
   ]
  },
  {
   "cell_type": "code",
   "execution_count": 62,
   "metadata": {
    "colab": {
     "base_uri": "https://localhost:8080/"
    },
    "executionInfo": {
     "elapsed": 544,
     "status": "ok",
     "timestamp": 1614959030149,
     "user": {
      "displayName": "Si young Rho",
      "photoUrl": "",
      "userId": "04487764503714934157"
     },
     "user_tz": -540
    },
    "id": "OUhrAbrv88QM",
    "outputId": "9ef474d9-e599-473f-a2af-23befba19ebd"
   },
   "outputs": [
    {
     "name": "stdout",
     "output_type": "stream",
     "text": [
      "True\n"
     ]
    }
   ],
   "source": [
    "input_text = \"중요한 메일 놓치지 않기. 내가 메일을 놓치지 않고 처리할 수 있도록 후속 조치를 하고 답장을 보내라고 Gmail에서 알려줍니다.\"\r\n",
    "regex = \"^중요한\"\r\n",
    "print(bool(re.search(regex, input_text)))"
   ]
  },
  {
   "cell_type": "code",
   "execution_count": 63,
   "metadata": {
    "colab": {
     "base_uri": "https://localhost:8080/"
    },
    "executionInfo": {
     "elapsed": 593,
     "status": "ok",
     "timestamp": 1614959053415,
     "user": {
      "displayName": "Si young Rho",
      "photoUrl": "",
      "userId": "04487764503714934157"
     },
     "user_tz": -540
    },
    "id": "jFQKr_MO9SSu",
    "outputId": "e1ac789b-cc68-412b-8092-aec7a2c08c71"
   },
   "outputs": [
    {
     "name": "stdout",
     "output_type": "stream",
     "text": [
      "False\n"
     ]
    }
   ],
   "source": [
    "input_text = \"중요한 메일 놓치지 않기. 내가 메일을 놓치지 않고 처리할 수 있도록 후속 조치를 하고 답장을 보내라고 Gmail에서 알려줍니다.\"\r\n",
    "regex = \"^안녕하세요\"\r\n",
    "print(bool(re.search(regex, input_text)))"
   ]
  },
  {
   "cell_type": "code",
   "execution_count": 64,
   "metadata": {
    "colab": {
     "base_uri": "https://localhost:8080/"
    },
    "executionInfo": {
     "elapsed": 651,
     "status": "ok",
     "timestamp": 1614959057817,
     "user": {
      "displayName": "Si young Rho",
      "photoUrl": "",
      "userId": "04487764503714934157"
     },
     "user_tz": -540
    },
    "id": "shWRjQoP9UrF",
    "outputId": "70c664fe-25d3-41c5-ac9e-0665d9bae279"
   },
   "outputs": [
    {
     "name": "stdout",
     "output_type": "stream",
     "text": [
      "True\n"
     ]
    }
   ],
   "source": [
    "input_text = \"중요한 메일 놓치지 않기. 내가 메일을 놓치지 않고 처리할 수 있도록 후속 조치를 하고 답장을 보내라고 Gmail에서 알려줍니다.\"\r\n",
    "regex = \"알려줍니다.$\"\r\n",
    "print(bool(re.search(regex, input_text)))"
   ]
  },
  {
   "cell_type": "markdown",
   "metadata": {
    "id": "v4gCQDNP1yiT"
   },
   "source": [
    "#### 1) Zero or many: *"
   ]
  },
  {
   "cell_type": "code",
   "execution_count": 65,
   "metadata": {
    "colab": {
     "base_uri": "https://localhost:8080/"
    },
    "executionInfo": {
     "elapsed": 559,
     "status": "ok",
     "timestamp": 1614959081547,
     "user": {
      "displayName": "Si young Rho",
      "photoUrl": "",
      "userId": "04487764503714934157"
     },
     "user_tz": -540
    },
    "id": "K9pNxOd6nEhW",
    "outputId": "03230ec7-09d6-46aa-e987-074fb476df5d"
   },
   "outputs": [
    {
     "name": "stdout",
     "output_type": "stream",
     "text": [
      "['전화번호', '지역번호', '번호']\n"
     ]
    }
   ],
   "source": [
    "input_text = \"전화번호(Phone Number)는 02-123-5678 처럼 \\\"지역번호-3~4자리-4자리\\\" 번호패턴을 가집니다.\"\r\n",
    "regex = \"\\w*번호\"\r\n",
    "print(re.findall(regex, input_text))"
   ]
  },
  {
   "cell_type": "markdown",
   "metadata": {
    "id": "MzSUFa7y1mKe"
   },
   "source": [
    "#### 2) One or many: + "
   ]
  },
  {
   "cell_type": "code",
   "execution_count": 66,
   "metadata": {
    "colab": {
     "base_uri": "https://localhost:8080/"
    },
    "executionInfo": {
     "elapsed": 650,
     "status": "ok",
     "timestamp": 1614959174563,
     "user": {
      "displayName": "Si young Rho",
      "photoUrl": "",
      "userId": "04487764503714934157"
     },
     "user_tz": -540
    },
    "id": "hmttLit3nET3",
    "outputId": "e3a77d7d-df0c-4a5b-896c-5a3ff96c64dd"
   },
   "outputs": [
    {
     "name": "stdout",
     "output_type": "stream",
     "text": [
      "['전화번호', '지역번호']\n"
     ]
    }
   ],
   "source": [
    "input_text = \"전화번호(Phone Number)는 02-123-5678 처럼 \\\"지역번호-3~4자리-4자리\\\" 번호패턴을 가집니다.\"\r\n",
    "regex = \"\\w+번호\"\r\n",
    "print(re.findall(regex, input_text))"
   ]
  },
  {
   "cell_type": "markdown",
   "metadata": {
    "id": "XJUoAPf12GmS"
   },
   "source": [
    "#### 3) zero or one: ?"
   ]
  },
  {
   "cell_type": "code",
   "execution_count": 67,
   "metadata": {
    "colab": {
     "base_uri": "https://localhost:8080/"
    },
    "executionInfo": {
     "elapsed": 698,
     "status": "ok",
     "timestamp": 1614959198521,
     "user": {
      "displayName": "Si young Rho",
      "photoUrl": "",
      "userId": "04487764503714934157"
     },
     "user_tz": -540
    },
    "id": "XGBclYgE2moF",
    "outputId": "47c0cf86-5657-45c4-e188-b95a00c52ca9"
   },
   "outputs": [
    {
     "name": "stdout",
     "output_type": "stream",
     "text": [
      "['Phone']\n"
     ]
    }
   ],
   "source": [
    "input_text = \"전화번호(Phone Number)는 02-123-5678 처럼 \\\"지역번호-3~4자리-4자리\\\" 번호패턴을 가집니다.\"\r\n",
    "regex = \"Phon\\w?\"\r\n",
    "print(re.findall(regex, input_text))"
   ]
  },
  {
   "cell_type": "markdown",
   "metadata": {
    "id": "C7s0q1a33EWx"
   },
   "source": [
    "#### 4) 패턴 반복\r\n",
    "- {n}: 앞 패턴이 n번 반복\r\n",
    "- {n,m}:앞 패턴이 n~m번 반복\r\n"
   ]
  },
  {
   "cell_type": "code",
   "execution_count": 68,
   "metadata": {
    "colab": {
     "base_uri": "https://localhost:8080/"
    },
    "executionInfo": {
     "elapsed": 655,
     "status": "ok",
     "timestamp": 1614959224024,
     "user": {
      "displayName": "Si young Rho",
      "photoUrl": "",
      "userId": "04487764503714934157"
     },
     "user_tz": -540
    },
    "id": "kIATfk5LnEkZ",
    "outputId": "77355221-093a-4e3b-ce29-496cd3d36979"
   },
   "outputs": [
    {
     "name": "stdout",
     "output_type": "stream",
     "text": [
      "['5678']\n"
     ]
    }
   ],
   "source": [
    "input_text = \"전화번호(Phone Number)는 02-123-5678 처럼 \\\"지역번호-3~4자리-4자리\\\" 번호패턴을 가집니다.\"\r\n",
    "regex = \"\\d{4}\"\r\n",
    "print(re.findall(regex, input_text))"
   ]
  },
  {
   "cell_type": "code",
   "execution_count": 69,
   "metadata": {
    "colab": {
     "base_uri": "https://localhost:8080/"
    },
    "executionInfo": {
     "elapsed": 595,
     "status": "ok",
     "timestamp": 1614959238948,
     "user": {
      "displayName": "Si young Rho",
      "photoUrl": "",
      "userId": "04487764503714934157"
     },
     "user_tz": -540
    },
    "id": "mPvkfxhynEnw",
    "outputId": "8a7c6c98-47b0-4b9e-bca8-8662b70aa1ae"
   },
   "outputs": [
    {
     "name": "stdout",
     "output_type": "stream",
     "text": [
      "['02', '123', '5678']\n"
     ]
    }
   ],
   "source": [
    "input_text = \"전화번호(Phone Number)는 02-123-5678 처럼 \\\"지역번호-3~4자리-4자리\\\" 번호패턴을 가집니다.\"\r\n",
    "regex = \"\\d{2,4}\"\r\n",
    "print(re.findall(regex, input_text))"
   ]
  },
  {
   "cell_type": "markdown",
   "metadata": {
    "id": "dRhtv6Ji3jUe"
   },
   "source": [
    "#### 5) 범위 지정\r\n",
    "- []: 지정한 범위 내에서 1개 문자열\r\n",
    "- -: 범위를 나타낼 때 사용. []와 함께 사용됨. \r\n",
    "- |: or\r\n",
    "- ^: ~이외의\r\n",
    "   \r\n",
    "** 1에서 정리한 패턴들은 범위 지정을 통해 나타낼 수도 있습니다.\r\n",
    "<img src=\"https://t1.daumcdn.net/cfile/tistory/99D7D73A5AC895F31A?download\">"
   ]
  },
  {
   "cell_type": "code",
   "execution_count": 70,
   "metadata": {
    "colab": {
     "base_uri": "https://localhost:8080/"
    },
    "executionInfo": {
     "elapsed": 669,
     "status": "ok",
     "timestamp": 1614959246827,
     "user": {
      "displayName": "Si young Rho",
      "photoUrl": "",
      "userId": "04487764503714934157"
     },
     "user_tz": -540
    },
    "id": "roAr4UESnEqZ",
    "outputId": "1a5596dd-7a3e-45fd-ddb8-ac8ecbf89230"
   },
   "outputs": [
    {
     "name": "stdout",
     "output_type": "stream",
     "text": [
      "['hone', 'umber']\n"
     ]
    }
   ],
   "source": [
    "input_text = \"전화번호(Phone Number)는 02-123-5678 처럼 \\\"지역번호-3~4자리-4자리\\\" 번호패턴을 가집니다.\"\r\n",
    "regex = \"[a-z]+\"\r\n",
    "print(re.findall(regex, input_text))"
   ]
  },
  {
   "cell_type": "code",
   "execution_count": 71,
   "metadata": {
    "colab": {
     "base_uri": "https://localhost:8080/"
    },
    "executionInfo": {
     "elapsed": 659,
     "status": "ok",
     "timestamp": 1614959257104,
     "user": {
      "displayName": "Si young Rho",
      "photoUrl": "",
      "userId": "04487764503714934157"
     },
     "user_tz": -540
    },
    "id": "H2AAFRmEnjGc",
    "outputId": "0e151c62-2e90-4c43-c2ee-b8434a30c3a2"
   },
   "outputs": [
    {
     "name": "stdout",
     "output_type": "stream",
     "text": [
      "['P', 'N']\n"
     ]
    }
   ],
   "source": [
    "input_text = \"전화번호(Phone Number)는 02-123-5678 처럼 \\\"지역번호-3~4자리-4자리\\\" 번호패턴을 가집니다.\"\r\n",
    "regex = \"[A-Z]+\"\r\n",
    "print(re.findall(regex, input_text))"
   ]
  },
  {
   "cell_type": "code",
   "execution_count": 72,
   "metadata": {
    "colab": {
     "base_uri": "https://localhost:8080/"
    },
    "executionInfo": {
     "elapsed": 711,
     "status": "ok",
     "timestamp": 1614959260888,
     "user": {
      "displayName": "Si young Rho",
      "photoUrl": "",
      "userId": "04487764503714934157"
     },
     "user_tz": -540
    },
    "id": "CWxK2O2xnpAn",
    "outputId": "90b612be-f813-4445-d996-438ba5d58575"
   },
   "outputs": [
    {
     "name": "stdout",
     "output_type": "stream",
     "text": [
      "['Phone', 'Number']\n"
     ]
    }
   ],
   "source": [
    "input_text = \"전화번호(Phone Number)는 02-123-5678 처럼 \\\"지역번호-3~4자리-4자리\\\" 번호패턴을 가집니다.\"\r\n",
    "regex = \"[a-zA-Z]+\"\r\n",
    "print(re.findall(regex, input_text))"
   ]
  },
  {
   "cell_type": "code",
   "execution_count": 73,
   "metadata": {
    "colab": {
     "base_uri": "https://localhost:8080/"
    },
    "executionInfo": {
     "elapsed": 692,
     "status": "ok",
     "timestamp": 1614959264388,
     "user": {
      "displayName": "Si young Rho",
      "photoUrl": "",
      "userId": "04487764503714934157"
     },
     "user_tz": -540
    },
    "id": "MHkh78frnq5S",
    "outputId": "d16a86f3-5d68-439d-fc64-ce3e3cc41c57"
   },
   "outputs": [
    {
     "name": "stdout",
     "output_type": "stream",
     "text": [
      "['전화번호', '는', '처럼', '지역번호', '자리', '자리', '번호패턴을', '가집니다']\n"
     ]
    }
   ],
   "source": [
    "input_text = \"전화번호(Phone Number)는 02-123-5678 처럼 \\\"지역번호-3~4자리-4자리\\\" 번호패턴을 가집니다.\"\r\n",
    "regex = \"[가-힣]+\"\r\n",
    "print(re.findall(regex, input_text))"
   ]
  },
  {
   "cell_type": "code",
   "execution_count": 74,
   "metadata": {
    "colab": {
     "base_uri": "https://localhost:8080/"
    },
    "executionInfo": {
     "elapsed": 1159,
     "status": "ok",
     "timestamp": 1614959268066,
     "user": {
      "displayName": "Si young Rho",
      "photoUrl": "",
      "userId": "04487764503714934157"
     },
     "user_tz": -540
    },
    "id": "yEvy2IVUnv0T",
    "outputId": "a928d5a0-7c08-4d87-abe2-91e4c7e4a9ba"
   },
   "outputs": [
    {
     "name": "stdout",
     "output_type": "stream",
     "text": [
      "['Phone', 'Number', '02', '123', '5678', '3', '4', '4']\n"
     ]
    }
   ],
   "source": [
    "input_text = \"전화번호(Phone Number)는 02-123-5678 처럼 \\\"지역번호-3~4자리-4자리\\\" 번호패턴을 가집니다.\"\r\n",
    "regex = \"[0-9|a-zA-Z]+\"\r\n",
    "print(re.findall(regex, input_text))"
   ]
  },
  {
   "cell_type": "code",
   "execution_count": 75,
   "metadata": {
    "colab": {
     "base_uri": "https://localhost:8080/"
    },
    "executionInfo": {
     "elapsed": 1165,
     "status": "ok",
     "timestamp": 1614959271981,
     "user": {
      "displayName": "Si young Rho",
      "photoUrl": "",
      "userId": "04487764503714934157"
     },
     "user_tz": -540
    },
    "id": "3GjrFo-Fnylm",
    "outputId": "b0be5789-e7f6-40b8-eced-8d9270298d26"
   },
   "outputs": [
    {
     "name": "stdout",
     "output_type": "stream",
     "text": [
      "['전화번호(Phone Number)는 ', '-', '-', ' 처럼 \"지역번호-', '~', '자리-', '자리\" 번호패턴을 가집니다.']\n"
     ]
    }
   ],
   "source": [
    "input_text = \"전화번호(Phone Number)는 02-123-5678 처럼 \\\"지역번호-3~4자리-4자리\\\" 번호패턴을 가집니다.\"\r\n",
    "regex = \"[^0-9]+\"\r\n",
    "print(re.findall(regex, input_text))"
   ]
  },
  {
   "cell_type": "markdown",
   "metadata": {
    "id": "e0ZVOxsyiash"
   },
   "source": [
    "### 3. 다른 문자열로 대체하기"
   ]
  },
  {
   "cell_type": "code",
   "execution_count": null,
   "metadata": {
    "colab": {
     "base_uri": "https://localhost:8080/"
    },
    "executionInfo": {
     "elapsed": 903,
     "status": "ok",
     "timestamp": 1614664451713,
     "user": {
      "displayName": "mj yoon",
      "photoUrl": "https://lh3.googleusercontent.com/a-/AOh14GjPfaqh9-Any5X7weZ9BJ9HAxsJDTPncMg-5XbTRg=s64",
      "userId": "15463938512742760907"
     },
     "user_tz": -540
    },
    "id": "hMJJQhxIrO-h",
    "outputId": "2556ea75-d352-4785-9f21-2c96e189107d"
   },
   "outputs": [
    {
     "name": "stdout",
     "output_type": "stream",
     "text": [
      "[XXXX-08-01 공지] SNS에 자신의 전화번호를 '내전번 010-XXXX-XXXX 통화ㄱㄱ'과 같이 댓글로 남기는 것은 매우 위험합니다.\n"
     ]
    }
   ],
   "source": [
    "input_text = \"[2019-08-01 공지] SNS에 자신의 전화번호를 '내전번 010-1234-5678 통화ㄱㄱ'과 같이 댓글로 남기는 것은 매우 위험합니다.\"\r\n",
    "regex = \"\\d{4}\"\r\n",
    "result = re.sub(regex, 'XXXX', input_text)\r\n",
    "print(result)"
   ]
  },
  {
   "cell_type": "code",
   "execution_count": 76,
   "metadata": {
    "colab": {
     "base_uri": "https://localhost:8080/"
    },
    "executionInfo": {
     "elapsed": 976,
     "status": "ok",
     "timestamp": 1614959310263,
     "user": {
      "displayName": "Si young Rho",
      "photoUrl": "",
      "userId": "04487764503714934157"
     },
     "user_tz": -540
    },
    "id": "bEa_cgoMiasj",
    "outputId": "67403e17-efbf-48da-b243-edd6ad52456b"
   },
   "outputs": [
    {
     "name": "stdout",
     "output_type": "stream",
     "text": [
      "전화번호(Phone Number)는 02-123-5678 처럼 \"지역번호-3~4자리-4자리\" 번호패턴을 가집니다.\n"
     ]
    }
   ],
   "source": [
    "result = re.sub('(\\d{4})-(\\d{4})', '****-****', input_text)\n",
    "print(result)"
   ]
  },
  {
   "cell_type": "markdown",
   "metadata": {
    "id": "U6IZGiZnnx3X"
   },
   "source": [
    "### 4. 퀴즈"
   ]
  },
  {
   "cell_type": "markdown",
   "metadata": {
    "id": "tymnF455qlPu"
   },
   "source": [
    "#### 1) 이메일 주소 검사하기\r\n",
    "- 이메일 형식\r\n",
    "```\r\n",
    "계정@도메인.최상위도메인\r\n",
    "```"
   ]
  },
  {
   "cell_type": "code",
   "execution_count": null,
   "metadata": {
    "id": "Zxu9KyYQnzY7"
   },
   "outputs": [],
   "source": [
    "emails = ['python@mail.example.com', 'python+kr@example.com',              # 올바른 형식\r\n",
    "          'python-dojang@example.co.kr', 'python_10@example.info',         # 올바른 형식\r\n",
    "          'python.dojang@e-xample.com',                                    # 올바른 형식\r\n",
    "          '@example.com', 'python@example', 'python@example-com']          # 잘못된 형식 "
   ]
  },
  {
   "cell_type": "code",
   "execution_count": null,
   "metadata": {
    "id": "E8Rbfv1yoDv2"
   },
   "outputs": [],
   "source": [
    "p = re.compile(#####) # 이곳을 채워주세요!"
   ]
  },
  {
   "cell_type": "code",
   "execution_count": null,
   "metadata": {
    "colab": {
     "base_uri": "https://localhost:8080/"
    },
    "executionInfo": {
     "elapsed": 540,
     "status": "ok",
     "timestamp": 1614667447115,
     "user": {
      "displayName": "mj yoon",
      "photoUrl": "https://lh3.googleusercontent.com/a-/AOh14GjPfaqh9-Any5X7weZ9BJ9HAxsJDTPncMg-5XbTRg=s64",
      "userId": "15463938512742760907"
     },
     "user_tz": -540
    },
    "id": "FhurxJ6RpTS3",
    "outputId": "eecbb5a7-7575-4a84-9abd-944e2afcb375"
   },
   "outputs": [
    {
     "name": "stdout",
     "output_type": "stream",
     "text": [
      "True\n",
      "True\n",
      "True\n",
      "True\n",
      "True\n",
      "False\n",
      "False\n",
      "False\n"
     ]
    }
   ],
   "source": [
    "for i in emails:\r\n",
    "  print(bool(p.search(i))) # 순서대로 True 5개 , False 3개개"
   ]
  },
  {
   "cell_type": "markdown",
   "metadata": {
    "id": "ZWVdXdeHruEN"
   },
   "source": [
    "<details>\r\n",
    "    <summary>Solution</summary>\r\n",
    "    <div>\r\n",
    "        '^\\S+@\\S+\\.\\S+$'\r\n",
    "    </div>\r\n",
    "</details>"
   ]
  },
  {
   "cell_type": "markdown",
   "metadata": {
    "id": "BIcVz_qirodo"
   },
   "source": [
    "#### 2) URL 검사하기\r\n",
    "- URL 형식\r\n",
    "```\r\n",
    "http:// 또는 https://로 시작\r\n",
    "도메인은 도메인.최상위도메인 형식이며 영문 대소문자, 숫자, -로 되어 있어야 함\r\n",
    "도메인 이하 경로는 /로 구분하고, 영문 대소문자, 숫자, -, _, ., ?, =을 사용함\r\n",
    "```"
   ]
  },
  {
   "cell_type": "code",
   "execution_count": null,
   "metadata": {
    "id": "04kr16RepdCg"
   },
   "outputs": [],
   "source": [
    "def check_url(url):\r\n",
    "  p = re.compile(#####) # 이곳을 채워주세요!\r\n",
    "  return bool(p.search(url))"
   ]
  },
  {
   "cell_type": "code",
   "execution_count": null,
   "metadata": {
    "colab": {
     "base_uri": "https://localhost:8080/"
    },
    "executionInfo": {
     "elapsed": 660,
     "status": "ok",
     "timestamp": 1614670084159,
     "user": {
      "displayName": "mj yoon",
      "photoUrl": "https://lh3.googleusercontent.com/a-/AOh14GjPfaqh9-Any5X7weZ9BJ9HAxsJDTPncMg-5XbTRg=s64",
      "userId": "15463938512742760907"
     },
     "user_tz": -540
    },
    "id": "EQ71XWVlx54H",
    "outputId": "cdc3d2e8-463a-4a28-da00-2e9ec3ee664f"
   },
   "outputs": [
    {
     "data": {
      "text/plain": [
       "True"
      ]
     },
     "execution_count": 166,
     "metadata": {
      "tags": []
     },
     "output_type": "execute_result"
    }
   ],
   "source": [
    "url = 'http://www.example.com/hello/world.do?key=python'\r\n",
    "check_url(url) # True"
   ]
  },
  {
   "cell_type": "code",
   "execution_count": null,
   "metadata": {
    "colab": {
     "base_uri": "https://localhost:8080/"
    },
    "executionInfo": {
     "elapsed": 652,
     "status": "ok",
     "timestamp": 1614670085256,
     "user": {
      "displayName": "mj yoon",
      "photoUrl": "https://lh3.googleusercontent.com/a-/AOh14GjPfaqh9-Any5X7weZ9BJ9HAxsJDTPncMg-5XbTRg=s64",
      "userId": "15463938512742760907"
     },
     "user_tz": -540
    },
    "id": "Lb09nidC0ZP7",
    "outputId": "19641089-bd88-4fc7-ba4a-52b6d14738e3"
   },
   "outputs": [
    {
     "data": {
      "text/plain": [
       "False"
      ]
     },
     "execution_count": 167,
     "metadata": {
      "tags": []
     },
     "output_type": "execute_result"
    }
   ],
   "source": [
    "url = 'https://example/hello/world.html'\r\n",
    "check_url(url) # False"
   ]
  },
  {
   "cell_type": "markdown",
   "metadata": {
    "id": "9fpToC7u3K2g"
   },
   "source": [
    "<details>\r\n",
    "    <summary>Solution</summary>\r\n",
    "    <div>\r\n",
    "        '(^http://|https://)[a-zA-Z0-9-]+\\.[a-zA-Z0-9-]+\\/*[a-zA-Z0-9-_.?=]*'\r\n",
    "    </div>\r\n",
    "</details>"
   ]
  },
  {
   "cell_type": "code",
   "execution_count": null,
   "metadata": {
    "id": "qfhJL0zJT9FI"
   },
   "outputs": [],
   "source": []
  }
 ],
 "metadata": {
  "colab": {
   "collapsed_sections": [],
   "name": "text_preprocessing",
   "provenance": [
    {
     "file_id": "https://github.com/fingeredman/text-mining-for-practice/blob/master/practice-note/week_02/W02-5_text-mining-for-practice_python-regex.ipynb",
     "timestamp": 1614648302261
    }
   ],
   "toc_visible": true
  },
  "kernelspec": {
   "display_name": "Python 3",
   "language": "python",
   "name": "python3"
  },
  "language_info": {
   "codemirror_mode": {
    "name": "ipython",
    "version": 3
   },
   "file_extension": ".py",
   "mimetype": "text/x-python",
   "name": "python",
   "nbconvert_exporter": "python",
   "pygments_lexer": "ipython3",
   "version": "3.7.6"
  }
 },
 "nbformat": 4,
 "nbformat_minor": 4
}
