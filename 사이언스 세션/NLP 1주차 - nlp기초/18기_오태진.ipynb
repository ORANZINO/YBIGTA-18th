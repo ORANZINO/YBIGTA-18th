{
 "cells": [
  {
   "cell_type": "markdown",
   "metadata": {
    "id": "EbO1rwcHXUjd"
   },
   "source": [
    "# N-Gram 모델 학습하기\n",
    "- 영화 대본 데이터를 이용하요 N-gram 모델학습\n",
    "- 모델 학습 후 단어 10개짜리 문장 3개 생성\n",
    "- 결과 출력된 .ipynb 파일 드라이브에 업로드\n",
    "- 업로드시 파일 이름은 본인 이름과 기수 표기\n",
    "- 예) 18기_000.ipynb"
   ]
  },
  {
   "cell_type": "code",
   "execution_count": 1,
   "metadata": {
    "id": "nFlpycVwXUjn"
   },
   "outputs": [],
   "source": [
    "from nltk.util import pad_sequence\n",
    "from nltk.util import bigrams\n",
    "from nltk.util import ngrams\n",
    "from nltk.util import everygrams\n",
    "from nltk.lm.preprocessing import pad_both_ends\n",
    "from nltk.lm.preprocessing import flatten\n",
    "from nltk import word_tokenize, sent_tokenize\n",
    "import pandas as pd"
   ]
  },
  {
   "cell_type": "code",
   "execution_count": 8,
   "metadata": {
    "id": "JN5CYBH5XUjo",
    "outputId": "b5f63693-4fdc-4684-d63a-d7456b609853"
   },
   "outputs": [
    {
     "data": {
      "text/html": [
       "<div>\n",
       "<style scoped>\n",
       "    .dataframe tbody tr th:only-of-type {\n",
       "        vertical-align: middle;\n",
       "    }\n",
       "\n",
       "    .dataframe tbody tr th {\n",
       "        vertical-align: top;\n",
       "    }\n",
       "\n",
       "    .dataframe thead th {\n",
       "        text-align: right;\n",
       "    }\n",
       "</style>\n",
       "<table border=\"1\" class=\"dataframe\">\n",
       "  <thead>\n",
       "    <tr style=\"text-align: right;\">\n",
       "      <th></th>\n",
       "      <th>lineID</th>\n",
       "      <th>characterID</th>\n",
       "      <th>movieID</th>\n",
       "      <th>characterName</th>\n",
       "      <th>text</th>\n",
       "    </tr>\n",
       "  </thead>\n",
       "  <tbody>\n",
       "    <tr>\n",
       "      <th>0</th>\n",
       "      <td>L1045</td>\n",
       "      <td>u0</td>\n",
       "      <td>m0</td>\n",
       "      <td>BIANCA</td>\n",
       "      <td>They do not!</td>\n",
       "    </tr>\n",
       "    <tr>\n",
       "      <th>1</th>\n",
       "      <td>L1044</td>\n",
       "      <td>u2</td>\n",
       "      <td>m0</td>\n",
       "      <td>CAMERON</td>\n",
       "      <td>They do to!</td>\n",
       "    </tr>\n",
       "    <tr>\n",
       "      <th>2</th>\n",
       "      <td>L985</td>\n",
       "      <td>u0</td>\n",
       "      <td>m0</td>\n",
       "      <td>BIANCA</td>\n",
       "      <td>I hope so.</td>\n",
       "    </tr>\n",
       "    <tr>\n",
       "      <th>3</th>\n",
       "      <td>L984</td>\n",
       "      <td>u2</td>\n",
       "      <td>m0</td>\n",
       "      <td>CAMERON</td>\n",
       "      <td>She okay?</td>\n",
       "    </tr>\n",
       "    <tr>\n",
       "      <th>4</th>\n",
       "      <td>L925</td>\n",
       "      <td>u0</td>\n",
       "      <td>m0</td>\n",
       "      <td>BIANCA</td>\n",
       "      <td>Let's go.</td>\n",
       "    </tr>\n",
       "    <tr>\n",
       "      <th>...</th>\n",
       "      <td>...</td>\n",
       "      <td>...</td>\n",
       "      <td>...</td>\n",
       "      <td>...</td>\n",
       "      <td>...</td>\n",
       "    </tr>\n",
       "    <tr>\n",
       "      <th>293363</th>\n",
       "      <td>L666371</td>\n",
       "      <td>u9030</td>\n",
       "      <td>m616</td>\n",
       "      <td>DURNFORD</td>\n",
       "      <td>Lord Chelmsford seems to want me to stay back ...</td>\n",
       "    </tr>\n",
       "    <tr>\n",
       "      <th>293364</th>\n",
       "      <td>L666370</td>\n",
       "      <td>u9034</td>\n",
       "      <td>m616</td>\n",
       "      <td>VEREKER</td>\n",
       "      <td>I'm to take the Sikali with the main column to...</td>\n",
       "    </tr>\n",
       "    <tr>\n",
       "      <th>293365</th>\n",
       "      <td>L666369</td>\n",
       "      <td>u9030</td>\n",
       "      <td>m616</td>\n",
       "      <td>DURNFORD</td>\n",
       "      <td>Your orders Mr Vereker?</td>\n",
       "    </tr>\n",
       "    <tr>\n",
       "      <th>293366</th>\n",
       "      <td>L666257</td>\n",
       "      <td>u9030</td>\n",
       "      <td>m616</td>\n",
       "      <td>DURNFORD</td>\n",
       "      <td>Good ones yes Mr Vereker. Gentlemen who can ri...</td>\n",
       "    </tr>\n",
       "    <tr>\n",
       "      <th>293367</th>\n",
       "      <td>L666256</td>\n",
       "      <td>u9034</td>\n",
       "      <td>m616</td>\n",
       "      <td>VEREKER</td>\n",
       "      <td>Colonel Durnford... William Vereker. I hear yo...</td>\n",
       "    </tr>\n",
       "  </tbody>\n",
       "</table>\n",
       "<p>293368 rows × 5 columns</p>\n",
       "</div>"
      ],
      "text/plain": [
       "         lineID characterID movieID characterName  \\\n",
       "0         L1045          u0      m0        BIANCA   \n",
       "1         L1044          u2      m0       CAMERON   \n",
       "2          L985          u0      m0        BIANCA   \n",
       "3          L984          u2      m0       CAMERON   \n",
       "4          L925          u0      m0        BIANCA   \n",
       "...         ...         ...     ...           ...   \n",
       "293363  L666371       u9030    m616      DURNFORD   \n",
       "293364  L666370       u9034    m616       VEREKER   \n",
       "293365  L666369       u9030    m616      DURNFORD   \n",
       "293366  L666257       u9030    m616      DURNFORD   \n",
       "293367  L666256       u9034    m616       VEREKER   \n",
       "\n",
       "                                                     text  \n",
       "0                                            They do not!  \n",
       "1                                             They do to!  \n",
       "2                                              I hope so.  \n",
       "3                                               She okay?  \n",
       "4                                               Let's go.  \n",
       "...                                                   ...  \n",
       "293363  Lord Chelmsford seems to want me to stay back ...  \n",
       "293364  I'm to take the Sikali with the main column to...  \n",
       "293365                            Your orders Mr Vereker?  \n",
       "293366  Good ones yes Mr Vereker. Gentlemen who can ri...  \n",
       "293367  Colonel Durnford... William Vereker. I hear yo...  \n",
       "\n",
       "[293368 rows x 5 columns]"
      ]
     },
     "execution_count": 8,
     "metadata": {},
     "output_type": "execute_result"
    }
   ],
   "source": [
    "import pandas as pd\n",
    "\n",
    "# 구글 Colab에서 하는 경우 mount 후에 실행\n",
    "df = pd.read_csv('./data/movie_lines.tsv', sep='\\t', names=['lineID', 'characterID', 'movieID', 'characterName', 'text'])\n",
    "df"
   ]
  },
  {
   "cell_type": "code",
   "execution_count": 12,
   "metadata": {
    "id": "6GS0S2v-XUjq"
   },
   "outputs": [
    {
     "name": "stdout",
     "output_type": "stream",
     "text": [
      "<class 'pandas.core.frame.DataFrame'>\n",
      "Int64Index: 288780 entries, 0 to 293367\n",
      "Data columns (total 5 columns):\n",
      " #   Column         Non-Null Count   Dtype \n",
      "---  ------         --------------   ----- \n",
      " 0   lineID         288780 non-null  object\n",
      " 1   characterID    288780 non-null  object\n",
      " 2   movieID        288780 non-null  object\n",
      " 3   characterName  288780 non-null  object\n",
      " 4   text           288780 non-null  object\n",
      "dtypes: object(5)\n",
      "memory usage: 13.2+ MB\n"
     ]
    }
   ],
   "source": [
    "df.dropna(inplace=True)\n",
    "df.info()"
   ]
  },
  {
   "cell_type": "code",
   "execution_count": 13,
   "metadata": {
    "id": "HMPB9PZHXUjr"
   },
   "outputs": [],
   "source": [
    "movie_corpus = list(df['text'].apply(word_tokenize))"
   ]
  },
  {
   "cell_type": "code",
   "execution_count": 16,
   "metadata": {
    "id": "-5SyXaAvXUjs"
   },
   "outputs": [
    {
     "name": "stdout",
     "output_type": "stream",
     "text": [
      "0    They do not!\n",
      "1     They do to!\n",
      "2      I hope so.\n",
      "3       She okay?\n",
      "4       Let's go.\n",
      "Name: text, dtype: object\n",
      "[['They', 'do', 'not', '!'], ['They', 'do', 'to', '!'], ['I', 'hope', 'so', '.'], ['She', 'okay', '?'], ['Let', \"'s\", 'go', '.']]\n"
     ]
    }
   ],
   "source": [
    "print(df['text'][:5])\n",
    "print(movie_corpus[:5])"
   ]
  },
  {
   "cell_type": "code",
   "execution_count": 18,
   "metadata": {},
   "outputs": [],
   "source": [
    "from nltk.lm import MLE\n",
    "from nltk.lm.preprocessing import padded_everygram_pipeline\n",
    "\n",
    "n = 3\n",
    "model = MLE(n)\n",
    "train_data, padded_sents = padded_everygram_pipeline(n, movie_corpus)\n",
    "model.fit(train_data, padded_sents)"
   ]
  },
  {
   "cell_type": "code",
   "execution_count": 19,
   "metadata": {},
   "outputs": [
    {
     "data": {
      "text/plain": [
       "69916"
      ]
     },
     "execution_count": 19,
     "metadata": {},
     "output_type": "execute_result"
    }
   ],
   "source": [
    "len(model.vocab)"
   ]
  },
  {
   "cell_type": "code",
   "execution_count": 21,
   "metadata": {},
   "outputs": [
    {
     "name": "stdout",
     "output_type": "stream",
     "text": [
      "('They', 'do', 'not', '!')\n"
     ]
    }
   ],
   "source": [
    "print(model.vocab.lookup(movie_corpus[0]))"
   ]
  },
  {
   "cell_type": "code",
   "execution_count": 17,
   "metadata": {},
   "outputs": [],
   "source": [
    "from nltk.tokenize.treebank import TreebankWordDetokenizer\n",
    "\n",
    "detokenize = TreebankWordDetokenizer().detokenize\n",
    "\n",
    "def generate_sent(model, num_words, random_seed=42):\n",
    "\n",
    "    content = []\n",
    "    for token in model.generate(num_words, random_seed=random_seed):\n",
    "        if token == '<s>':\n",
    "            continue\n",
    "        if token == '</s>':\n",
    "            break\n",
    "        content.append(token)\n",
    "    return detokenize(content)"
   ]
  },
  {
   "cell_type": "code",
   "execution_count": 23,
   "metadata": {},
   "outputs": [
    {
     "name": "stdout",
     "output_type": "stream",
     "text": [
      "... and the planet.\n",
      "'s time to break down he'll find something you\n",
      "Don't worry Janet.\n"
     ]
    }
   ],
   "source": [
    "import random\n",
    "\n",
    "for _ in range(3):\n",
    "    print(generate_sent(model, 10, random.randint(1,1000)))"
   ]
  },
  {
   "cell_type": "code",
   "execution_count": null,
   "metadata": {},
   "outputs": [],
   "source": []
  }
 ],
 "metadata": {
  "colab": {
   "name": "과제.ipynb",
   "provenance": []
  },
  "kernelspec": {
   "display_name": "Python 3",
   "language": "python",
   "name": "python3"
  },
  "language_info": {
   "codemirror_mode": {
    "name": "ipython",
    "version": 3
   },
   "file_extension": ".py",
   "mimetype": "text/x-python",
   "name": "python",
   "nbconvert_exporter": "python",
   "pygments_lexer": "ipython3",
   "version": "3.7.6"
  }
 },
 "nbformat": 4,
 "nbformat_minor": 4
}
