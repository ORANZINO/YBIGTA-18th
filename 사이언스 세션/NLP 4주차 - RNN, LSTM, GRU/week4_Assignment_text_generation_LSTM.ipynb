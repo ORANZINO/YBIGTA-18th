{
  "nbformat": 4,
  "nbformat_minor": 0,
  "metadata": {
    "colab": {
      "name": "week4 Assignment_text generation_LSTM.ipynb",
      "provenance": []
    },
    "kernelspec": {
      "name": "python3",
      "display_name": "Python 3"
    },
    "language_info": {
      "name": "python"
    }
  },
  "cells": [
    {
      "cell_type": "markdown",
      "metadata": {
        "id": "kzektc_IoPdp"
      },
      "source": [
        "##Week4 Assignment\n",
        ": text generation using LSTM\n",
        "\n",
        "- 뉴스 파일은 kaggle or 사이언스팀 구글 드라이브에서 다운받으시면 됩니다\n",
        "\n",
        "- text generation using RNN.ipynb파일과 https://wikidocs.net/45101를 참고하세요!\n",
        "\n",
        "- 혹시 다른 파일로 해보고 싶으신 분들은 자유롭게 하시면 됩니다..!\n",
        "\n",
        "- 4/9(금) 23:59 까지 '18기_000_week4.ipynb' 파일명으로 업로드 해주세요!"
      ]
    },
    {
      "cell_type": "markdown",
      "metadata": {
        "id": "Du_YaiexNR_K"
      },
      "source": [
        "1) 데이터 이해/전처리"
      ]
    },
    {
      "cell_type": "code",
      "metadata": {
        "id": "TSYex-8vMyj2"
      },
      "source": [
        "import pandas as pd\n",
        "from string import punctuation\n",
        "from tensorflow.keras.preprocessing.text import Tokenizer\n",
        "from tensorflow.keras.preprocessing.sequence import pad_sequences\n",
        "import numpy as np\n",
        "from tensorflow.keras.utils import to_categorical"
      ],
      "execution_count": null,
      "outputs": []
    },
    {
      "cell_type": "code",
      "metadata": {
        "id": "SVUoedjVNxfq"
      },
      "source": [
        "# ArticlesApril2018.csv 파일 로드\n",
        "df=pd.read_csv('ArticlesApril2018.csv')   # 경로 설정\n",
        "df.head()"
      ],
      "execution_count": null,
      "outputs": []
    },
    {
      "cell_type": "code",
      "metadata": {
        "colab": {
          "base_uri": "https://localhost:8080/"
        },
        "id": "5AHgbXqfOccl",
        "outputId": "20bceec4-2a36-4e20-de15-8211d8c4cbae"
      },
      "source": [
        "print('Number of columns: ', len(df.columns))\n",
        "print(df.columns)"
      ],
      "execution_count": null,
      "outputs": [
        {
          "output_type": "stream",
          "text": [
            "Number of columns:  15\n",
            "Index(['articleID', 'articleWordCount', 'byline', 'documentType', 'headline',\n",
            "       'keywords', 'multimedia', 'newDesk', 'printPage', 'pubDate',\n",
            "       'sectionName', 'snippet', 'source', 'typeOfMaterial', 'webURL'],\n",
            "      dtype='object')\n"
          ],
          "name": "stdout"
        }
      ]
    },
    {
      "cell_type": "code",
      "metadata": {
        "colab": {
          "base_uri": "https://localhost:8080/"
        },
        "id": "4sx9z6bvO6sA",
        "outputId": "26dacedb-00c2-4a99-8776-ccc8ff5033dd"
      },
      "source": [
        "df['headline'].isnull().values.any()"
      ],
      "execution_count": null,
      "outputs": [
        {
          "output_type": "execute_result",
          "data": {
            "text/plain": [
              "False"
            ]
          },
          "metadata": {
            "tags": []
          },
          "execution_count": 6
        }
      ]
    },
    {
      "cell_type": "code",
      "metadata": {
        "colab": {
          "base_uri": "https://localhost:8080/"
        },
        "id": "exTV1hwAPDeQ",
        "outputId": "baa3258e-b682-42db-8c95-2462a55ee0bc"
      },
      "source": [
        "# 모든 기사의 제목 하나의 리스트로 저장\n",
        "headline = []\n",
        "headline.extend(list(df.headline.values))\n",
        "headline[:5]"
      ],
      "execution_count": null,
      "outputs": [
        {
          "output_type": "execute_result",
          "data": {
            "text/plain": [
              "['Former N.F.L. Cheerleaders’ Settlement Offer: $1 and a Meeting With Goodell',\n",
              " 'E.P.A. to Unveil a New Rule. Its Effect: Less Science in Policymaking.',\n",
              " 'The New Noma, Explained',\n",
              " 'Unknown',\n",
              " 'Unknown']"
            ]
          },
          "metadata": {
            "tags": []
          },
          "execution_count": 7
        }
      ]
    },
    {
      "cell_type": "code",
      "metadata": {
        "colab": {
          "base_uri": "https://localhost:8080/"
        },
        "id": "Gv3oi6eRPPH6",
        "outputId": "d5db3a83-5375-4430-c74c-2a0341afb973"
      },
      "source": [
        "# headline 중 unknown 처리\n",
        "\n",
        "print('총 샘플의 개수 : {}'.format(len(headline))) # 현재 샘플의 개수\n",
        "headline = [n for n in headline if n != \"Unknown\"] # Unknown 값을 가진 샘플 제거\n",
        "print('노이즈값 제거 후 샘플의 개수 : {}'.format(len(headline))) # 제거 후 샘플의 개수"
      ],
      "execution_count": null,
      "outputs": [
        {
          "output_type": "stream",
          "text": [
            "총 샘플의 개수 : 1324\n",
            "노이즈값 제거 후 샘플의 개수 : 1214\n"
          ],
          "name": "stdout"
        }
      ]
    },
    {
      "cell_type": "code",
      "metadata": {
        "colab": {
          "base_uri": "https://localhost:8080/"
        },
        "id": "Dh3ZMcdiQCnf",
        "outputId": "de6a85d9-a545-422b-ee6e-3d10fcb09ac3"
      },
      "source": [
        "headline[:5]"
      ],
      "execution_count": null,
      "outputs": [
        {
          "output_type": "execute_result",
          "data": {
            "text/plain": [
              "['Former N.F.L. Cheerleaders’ Settlement Offer: $1 and a Meeting With Goodell',\n",
              " 'E.P.A. to Unveil a New Rule. Its Effect: Less Science in Policymaking.',\n",
              " 'The New Noma, Explained',\n",
              " 'How a Bag of Texas Dirt  Became a Times Tradition',\n",
              " 'Is School a Place for Self-Expression?']"
            ]
          },
          "metadata": {
            "tags": []
          },
          "execution_count": 9
        }
      ]
    },
    {
      "cell_type": "code",
      "metadata": {
        "colab": {
          "base_uri": "https://localhost:8080/"
        },
        "id": "2CpNqC5fQGS5",
        "outputId": "f97ae167-4b53-49de-8ca7-73d59ca2cbcc"
      },
      "source": [
        "# 데이터 전처리: 구두점 제거, lowercase()\n",
        "\n",
        "########### fill in!  ############\n"
      ],
      "execution_count": null,
      "outputs": [
        {
          "output_type": "execute_result",
          "data": {
            "text/plain": [
              "['former nfl cheerleaders settlement offer 1 and a meeting with goodell',\n",
              " 'epa to unveil a new rule its effect less science in policymaking',\n",
              " 'the new noma explained',\n",
              " 'how a bag of texas dirt  became a times tradition',\n",
              " 'is school a place for selfexpression']"
            ]
          },
          "metadata": {
            "tags": []
          },
          "execution_count": 10
        }
      ]
    },
    {
      "cell_type": "code",
      "metadata": {
        "colab": {
          "base_uri": "https://localhost:8080/"
        },
        "id": "P8Kzs9ppQtvq",
        "outputId": "28f11993-7f1f-4655-b9ea-bf8ad7b51410"
      },
      "source": [
        "# 토큰화 및 단어 집합 크기 확인\n",
        "\n",
        "########### fill in!  ############\n"
      ],
      "execution_count": null,
      "outputs": [
        {
          "output_type": "stream",
          "text": [
            "단어 집합의 크기 : 3494\n"
          ],
          "name": "stdout"
        }
      ]
    },
    {
      "cell_type": "code",
      "metadata": {
        "colab": {
          "base_uri": "https://localhost:8080/"
        },
        "id": "k7ZMrgHuQ_jK",
        "outputId": "bbb44515-f780-4377-fa93-deb0d8c9c5fc"
      },
      "source": [
        "# 정수 인코딩 & 하나의 문장을 2 이상 길이의 훈련 데이터로 만들기\"\n",
        "\n",
        "########### fill in!  ############\n"
      ],
      "execution_count": null,
      "outputs": [
        {
          "output_type": "execute_result",
          "data": {
            "text/plain": [
              "[[99, 269],\n",
              " [99, 269, 371],\n",
              " [99, 269, 371, 1115],\n",
              " [99, 269, 371, 1115, 582],\n",
              " [99, 269, 371, 1115, 582, 52],\n",
              " [99, 269, 371, 1115, 582, 52, 7],\n",
              " [99, 269, 371, 1115, 582, 52, 7, 2],\n",
              " [99, 269, 371, 1115, 582, 52, 7, 2, 372],\n",
              " [99, 269, 371, 1115, 582, 52, 7, 2, 372, 10],\n",
              " [99, 269, 371, 1115, 582, 52, 7, 2, 372, 10, 1116],\n",
              " [100, 3]]"
            ]
          },
          "metadata": {
            "tags": []
          },
          "execution_count": 16
        }
      ]
    },
    {
      "cell_type": "code",
      "metadata": {
        "colab": {
          "base_uri": "https://localhost:8080/"
        },
        "id": "6lyi2HhmWgg9",
        "outputId": "07556bab-2693-4317-9470-2e5bce87aef7"
      },
      "source": [
        "# 빈도수 상위 n개 단어 확인\n",
        "\n",
        "########### fill in!  ############\n"
      ],
      "execution_count": null,
      "outputs": [
        {
          "output_type": "stream",
          "text": [
            "빈도수 상위 576번 단어: victims\n"
          ],
          "name": "stdout"
        }
      ]
    },
    {
      "cell_type": "code",
      "metadata": {
        "colab": {
          "base_uri": "https://localhost:8080/"
        },
        "id": "gcHbb8B5XDCK",
        "outputId": "a1db6646-f88f-4dfa-cac0-2766b979ff75"
      },
      "source": [
        "# 패딩 작업\n",
        "\n",
        "########### fill in!  ############\n"
      ],
      "execution_count": null,
      "outputs": [
        {
          "output_type": "stream",
          "text": [
            "샘플의 최대 길이: 24\n"
          ],
          "name": "stdout"
        }
      ]
    },
    {
      "cell_type": "code",
      "metadata": {
        "id": "RMAgzzy8XaWN"
      },
      "source": [
        "# 훈련 데이터에서 레이블 분리 (각 문장의 마지막 단어만 분리해서 y로)\n",
        "\n",
        "########### fill in!  ############\n"
      ],
      "execution_count": null,
      "outputs": []
    },
    {
      "cell_type": "code",
      "metadata": {
        "id": "RrH0aihzX2oD"
      },
      "source": [
        "# 레이블에 대한 one-hot encoding\n",
        "\n",
        "########### fill in!  ############\n"
      ],
      "execution_count": null,
      "outputs": []
    },
    {
      "cell_type": "markdown",
      "metadata": {
        "id": "4MsP48pwa-sV"
      },
      "source": [
        "2) 모델 설계하기"
      ]
    },
    {
      "cell_type": "code",
      "metadata": {
        "id": "QCKBdNa2azzQ"
      },
      "source": [
        "from tensorflow.keras.models import Sequential\n",
        "from tensorflow.keras.layers import Embedding, Dense, LSTM"
      ],
      "execution_count": null,
      "outputs": []
    },
    {
      "cell_type": "code",
      "metadata": {
        "id": "BO-wDx3gbE6u"
      },
      "source": [
        "# LSTM 모델 설계하기\n",
        "\n",
        "########### fill in!  ############\n"
      ],
      "execution_count": null,
      "outputs": []
    },
    {
      "cell_type": "code",
      "metadata": {
        "id": "rgp4wBAnbE4M"
      },
      "source": [
        "# 문장 생성 함수 만들기\n",
        "\n",
        "def sentence_generation(model, t, current_word, n):\n",
        "    init_word = current_word\n",
        "    sentence = ''\n",
        "    \n",
        "    ########### fill in!  ############\n"
      ],
      "execution_count": null,
      "outputs": []
    },
    {
      "cell_type": "code",
      "metadata": {
        "colab": {
          "base_uri": "https://localhost:8080/"
        },
        "id": "IpBCyrMkmvzH",
        "outputId": "81df32b2-0fe8-4ecb-e8e1-51545c4b5abf"
      },
      "source": [
        "print(sentence_generation(model, t, 'i', 10))"
      ],
      "execution_count": null,
      "outputs": [
        {
          "output_type": "stream",
          "text": [
            "/usr/local/lib/python3.7/dist-packages/tensorflow/python/keras/engine/sequential.py:450: UserWarning: `model.predict_classes()` is deprecated and will be removed after 2021-01-01. Please use instead:* `np.argmax(model.predict(x), axis=-1)`,   if your model does multi-class classification   (e.g. if it uses a `softmax` last-layer activation).* `(model.predict(x) > 0.5).astype(\"int32\")`,   if your model does binary classification   (e.g. if it uses a `sigmoid` last-layer activation).\n",
            "  warnings.warn('`model.predict_classes()` is deprecated and '\n"
          ],
          "name": "stderr"
        },
        {
          "output_type": "stream",
          "text": [
            "i disapprove of school vouchers can i still apply for them\n"
          ],
          "name": "stdout"
        }
      ]
    },
    {
      "cell_type": "code",
      "metadata": {
        "colab": {
          "base_uri": "https://localhost:8080/"
        },
        "id": "w38Td-CDnC1b",
        "outputId": "5f3303e1-3d96-45b4-a3af-f3b2e0c7b1e4"
      },
      "source": [
        "print(sentence_generation(model, t, 'how', 10))\n",
        "# 임의의 단어 'how'에 대해서 10개의 단어를 추가 생성"
      ],
      "execution_count": null,
      "outputs": [
        {
          "output_type": "stream",
          "text": [
            "/usr/local/lib/python3.7/dist-packages/tensorflow/python/keras/engine/sequential.py:450: UserWarning: `model.predict_classes()` is deprecated and will be removed after 2021-01-01. Please use instead:* `np.argmax(model.predict(x), axis=-1)`,   if your model does multi-class classification   (e.g. if it uses a `softmax` last-layer activation).* `(model.predict(x) > 0.5).astype(\"int32\")`,   if your model does binary classification   (e.g. if it uses a `sigmoid` last-layer activation).\n",
            "  warnings.warn('`model.predict_classes()` is deprecated and '\n"
          ],
          "name": "stderr"
        },
        {
          "output_type": "stream",
          "text": [
            "how to make a crossword puzzle citizenship becomes in her own\n"
          ],
          "name": "stdout"
        }
      ]
    },
    {
      "cell_type": "markdown",
      "metadata": {
        "id": "as6wzSC3oI2u"
      },
      "source": [
        "#### 수고하셨습니다 👍"
      ]
    }
  ]
}