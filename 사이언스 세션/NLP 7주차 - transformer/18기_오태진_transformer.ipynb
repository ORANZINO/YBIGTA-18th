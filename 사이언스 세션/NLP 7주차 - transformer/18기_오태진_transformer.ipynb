{
  "nbformat": 4,
  "nbformat_minor": 0,
  "metadata": {
    "colab": {
      "name": "assignment.ipynb",
      "provenance": []
    },
    "kernelspec": {
      "name": "python3",
      "display_name": "Python 3"
    },
    "language_info": {
      "name": "python"
    },
    "accelerator": "GPU"
  },
  "cells": [
    {
      "cell_type": "markdown",
      "metadata": {
        "id": "VVnH7NCA3ZhK"
      },
      "source": [
        "# 과제\n",
        "트랜스포머의 인코더 활용해서 리뷰 분류하기\n",
        "\n",
        "*   오늘 실습한 코드를 참고해서 트랜스포머의 인코더(셀프 어텐션)구현\n",
        "*   18기_OOO_transformer.ipynb 형태로 제출해주세요!\n",
        "* Q는 5까지 있습니다!\n",
        "\n"
      ]
    },
    {
      "cell_type": "code",
      "metadata": {
        "id": "kzgoN4Tw2F5H"
      },
      "source": [
        "import tensorflow as tf"
      ],
      "execution_count": 1,
      "outputs": []
    },
    {
      "cell_type": "markdown",
      "metadata": {
        "id": "YWt4DJwF6vNE"
      },
      "source": [
        "## 멀티 헤드 어텐션 구현\n",
        "우선 트랜스포머의 인코더의 첫번째 서브층인 멀티 헤드 어텐션층을 클래스로 구현해 봅시다! transformer.ipynb를 참고하세요! "
      ]
    },
    {
      "cell_type": "code",
      "metadata": {
        "id": "KnHJN2d62ITi"
      },
      "source": [
        "class MultiHeadAttention(tf.keras.layers.Layer):\n",
        "    def __init__(self, embedding_dim, num_heads=8):\n",
        "        super(MultiHeadAttention, self).__init__()\n",
        "        self.embedding_dim = embedding_dim ##### = d_model\n",
        "        self.num_heads = num_heads\n",
        "\n",
        "        assert embedding_dim % self.num_heads == 0\n",
        "\n",
        "\n",
        "        self.projection_dim = embedding_dim // num_heads\n",
        "\n",
        "        \n",
        "\n",
        "\n",
        "        #Q1. ########### WQ, WK, WV, WO에 해당하는 밀집층을 정의하세요 ################\n",
        "        self.query_dense = tf.keras.layers.Dense(units=embedding_dim)\n",
        "        self.key_dense = tf.keras.layers.Dense(units=embedding_dim)\n",
        "        self.value_dense = tf.keras.layers.Dense(units=embedding_dim)\n",
        "        self.dense = tf.keras.layers.Dense(units=embedding_dim)\n",
        "\n",
        "        #######################################################################\n",
        "\n",
        "\n",
        "\n",
        "\n",
        "    #Q2. ############### scaled_dot_product_attention을 구현하세요. 마스킹은 생략합니다. ###############\n",
        "\n",
        "    def scaled_dot_product_attention(self, query, key, value):\n",
        "\n",
        "        # 1. 쿼리와 전치된 키를 곱하기\n",
        "        matmul_qk = tf.matmul(query, key, transpose_b=True)\n",
        "\n",
        "        # 2. 스케일링하기(dk의 루트 값으로 나눠주기)\n",
        "        depth = tf.cast(tf.shape(key)[-1], tf.float32)\n",
        "        logits = matmul_qk / tf.math.sqrt(depth)\n",
        "\n",
        "        # 3. 소프트맥스 함수 취하기\n",
        "        attention_weights = tf.nn.softmax(logits, axis=-1)\n",
        "\n",
        "        output = tf.matmul(attention_weights, value)\n",
        "        return output, attention_weights\n",
        "\n",
        "    #############################################################################################\n",
        "\n",
        "\n",
        "\n",
        "    def split_heads(self, x, batch_size):\n",
        "        x = tf.reshape(x, (batch_size, -1, self.num_heads, self.projection_dim))\n",
        "        return tf.transpose(x, perm=[0, 2, 1, 3])\n",
        "\n",
        "    def call(self, inputs):\n",
        "        # x.shape = [batch_size, seq_len, embedding_dim]\n",
        "        batch_size = tf.shape(inputs)[0]\n",
        "        #WQ, WK, WV에 해당하는 밀집층 지나기.\n",
        "        query = self.query_dense(inputs) \n",
        "        key = self.key_dense(inputs)\n",
        "        value = self.value_dense(inputs)\n",
        "\n",
        "        # Q3. ############# split_heads 함수를 이용해 헤드를 나눠주세요. ################\n",
        "\n",
        "        query = self.split_heads(query, batch_size)\n",
        "        key = self.split_heads(key, batch_size)\n",
        "        value = self.split_heads(value, batch_size)\n",
        "\n",
        "        #########################################################################\n",
        "\n",
        "\n",
        "        scaled_attention, _ = self.scaled_dot_product_attention(query, key, value) #scaled dot product attention.\n",
        "        scaled_attention = tf.transpose(scaled_attention, perm=[0, 2, 1, 3])  \n",
        "\n",
        "\n",
        "        concat_attention = tf.reshape(scaled_attention, (batch_size, -1, self.embedding_dim)) #헤드를 연결합니다.\n",
        "        \n",
        "\n",
        "        \n",
        "        # Q4. ###################### WO에 해당하는 밀집층을 지나게 하세요 ################\n",
        "        \n",
        "        outputs = self.dense(concat_attention)\n",
        "        \n",
        "        #########################################################################\n",
        "\n",
        "        \n",
        "        return outputs"
      ],
      "execution_count": 8,
      "outputs": []
    },
    {
      "cell_type": "markdown",
      "metadata": {
        "id": "js0e4EnB7YOe"
      },
      "source": [
        "## 인코더 클래스 설계하기\n",
        "\n",
        "멀티 헤드 어텐션에 트랜스포머 인코더의 두번째 서브층인 포지션 와이즈 피드 포워드 신경망을 추가하여 인코더 클래스를 설계해봅시다. transformer.ipynb를 참고하세요!"
      ]
    },
    {
      "cell_type": "code",
      "metadata": {
        "id": "ob9ZvDGf2IVp"
      },
      "source": [
        "class TransformerBlock(tf.keras.layers.Layer):\n",
        "    def __init__(self, embedding_dim, num_heads, dff, rate=0.1):\n",
        "        super(TransformerBlock, self).__init__()\n",
        "        self.att = MultiHeadAttention(embedding_dim, num_heads)\n",
        "        self.ffn = tf.keras.Sequential(\n",
        "            [tf.keras.layers.Dense(dff, activation=\"relu\"),\n",
        "             tf.keras.layers.Dense(embedding_dim),]\n",
        "        )\n",
        "        self.layernorm1 = tf.keras.layers.LayerNormalization(epsilon=1e-6)\n",
        "        self.layernorm2 = tf.keras.layers.LayerNormalization(epsilon=1e-6)\n",
        "        self.dropout1 = tf.keras.layers.Dropout(rate)\n",
        "        self.dropout2 = tf.keras.layers.Dropout(rate)\n",
        "\n",
        "    def call(self, inputs, training):\n",
        "        attn_output = self.att(inputs)\n",
        "\n",
        "        attn_output = self.dropout1(attn_output, training=training)\n",
        "\n",
        "        out1 = self.layernorm1(inputs + attn_output)\n",
        "\n",
        "        ffn_output = self.ffn(out1)\n",
        "\n",
        "        ffn_output = self.dropout2(ffn_output, training=training)\n",
        "\n",
        "        return self.layernorm2(out1 + ffn_output)"
      ],
      "execution_count": 3,
      "outputs": []
    },
    {
      "cell_type": "markdown",
      "metadata": {
        "id": "lCMC8ZWHA0X9"
      },
      "source": [
        "######### Q5. 위의 TransformerBlock 클래스 전체를 읽어보고, def__init__을 참조해서\n",
        "\n",
        "\n",
        "    def call(self, inputs, training):\n",
        "        attn_output = self.att(inputs)\n",
        "\n",
        "        attn_output = self.dropout1(attn_output, training=training)\n",
        "\n",
        "        out1 = self.layernorm1(inputs + attn_output)\n",
        "\n",
        "        ffn_output = self.ffn(out1) \n",
        "\n",
        "        ffn_output = self.dropout2(ffn_output, training=training)\n",
        "        \n",
        "        return self.layernorm2(out1 + ffn_output)\n",
        "\n",
        "\n",
        "다음 여섯 줄의 함수에 한 줄 한 줄 주석을 달듯 코드를 설명해 주세요. ex) 층정규화, 서브층 ...\n",
        "\n",
        "답은 아래에 적어주세요.\n",
        "\n",
        "---------------\n"
      ]
    },
    {
      "cell_type": "markdown",
      "metadata": {
        "id": "BKrw4DU2BHKG"
      },
      "source": [
        "1. attn_output = self.att(inputs)\n",
        "\n",
        "설명: 멀티 헤드 어텐션 (Q, K, V)\n",
        "\n",
        "\n",
        "-------\n",
        "\n",
        "2. attn_output = self.dropout1(attn_output, training=training)\n",
        "\n",
        "설명: 드롭아웃\n",
        "\n",
        "\n",
        "-------\n",
        "\n",
        "\n",
        "3. out1 = self.layernorm1(inputs + attn_output)\n",
        "\n",
        "설명: 층 정규화 + 잔차 연결\n",
        "\n",
        "-------\n",
        "\n",
        "\n",
        "\n",
        "4. ffn_output = self.ffn(out1)\n",
        "\n",
        "설명: 피드 포워드\n",
        "\n",
        "-------\n",
        "\n",
        "\n",
        "5. ffn_output = self.dropout2(ffn_output, training=training)\n",
        "\n",
        "설명:\n",
        "\n",
        "-------\n",
        "\n",
        "\n",
        "6. return self.layernorm2(out1 + ffn_output)\n",
        "\n",
        "설명:\n",
        "\n",
        "\n",
        "-------\n",
        "\n"
      ]
    },
    {
      "cell_type": "markdown",
      "metadata": {
        "id": "Ks3W0g4-7l2O"
      },
      "source": [
        "## 포지션 임베딩\n",
        "\n",
        "\n",
        "앞서 트랜스포머를 설명할 때는 포지셔널 인코딩을 사용하였지만, 이번에는 위치 정보 자체를 학습을 하도록 하는 포지션 임베딩이라는 방법을 사용합니다.\n",
        "\n",
        "이는 뒤에서 배우게 될 BERT에서 사용하는 방법이기도 합니다.\n",
        "\n",
        "포지션 임베딩은 임베딩 층(Embedding layer)를 사용하되, 위치 벡터를 학습하도록 하므로 임베딩 층의 첫번째 인자로 단어 집합의 크기가 아니라 문장의 최대 길이를 넣어줍니다.\n",
        "\n",
        "### 이 아래부터는 읽어만 보시고 코드 실행만 하세요!"
      ]
    },
    {
      "cell_type": "code",
      "metadata": {
        "id": "jEnueibn2IYM"
      },
      "source": [
        "class TokenAndPositionEmbedding(tf.keras.layers.Layer):\n",
        "    def __init__(self, max_len, vocab_size, embedding_dim):\n",
        "        super(TokenAndPositionEmbedding, self).__init__()\n",
        "        self.token_emb = tf.keras.layers.Embedding(vocab_size, embedding_dim)\n",
        "        self.pos_emb = tf.keras.layers.Embedding(max_len, embedding_dim)\n",
        "\n",
        "    def call(self, x):\n",
        "        max_len = tf.shape(x)[-1]\n",
        "        positions = tf.range(start=0, limit=max_len, delta=1)\n",
        "        positions = self.pos_emb(positions)\n",
        "        x = self.token_emb(x)\n",
        "        return x + positions"
      ],
      "execution_count": 4,
      "outputs": []
    },
    {
      "cell_type": "markdown",
      "metadata": {
        "id": "ZcFVy7CR7-H6"
      },
      "source": [
        "## 데이터 로드, 전처리"
      ]
    },
    {
      "cell_type": "code",
      "metadata": {
        "colab": {
          "base_uri": "https://localhost:8080/"
        },
        "id": "tczIxzKD2IaI",
        "outputId": "82186ff6-e1d9-4bee-b33a-e9ff01819ebb"
      },
      "source": [
        "vocab_size = 20000  # 빈도수 상위 2만개의 단어만 사용\n",
        "max_len = 200  # 문장의 최대 길이\n",
        "\n",
        "(X_train, y_train), (X_test, y_test) = tf.keras.datasets.imdb.load_data(num_words=vocab_size)\n",
        "print('훈련용 리뷰 개수 : {}'.format(len(X_train)))\n",
        "print('테스트용 리뷰 개수 : {}'.format(len(X_test)))"
      ],
      "execution_count": 9,
      "outputs": [
        {
          "output_type": "stream",
          "text": [
            "<string>:6: VisibleDeprecationWarning: Creating an ndarray from ragged nested sequences (which is a list-or-tuple of lists-or-tuples-or ndarrays with different lengths or shapes) is deprecated. If you meant to do this, you must specify 'dtype=object' when creating the ndarray\n",
            "/usr/local/lib/python3.7/dist-packages/tensorflow/python/keras/datasets/imdb.py:159: VisibleDeprecationWarning: Creating an ndarray from ragged nested sequences (which is a list-or-tuple of lists-or-tuples-or ndarrays with different lengths or shapes) is deprecated. If you meant to do this, you must specify 'dtype=object' when creating the ndarray\n",
            "  x_train, y_train = np.array(xs[:idx]), np.array(labels[:idx])\n"
          ],
          "name": "stderr"
        },
        {
          "output_type": "stream",
          "text": [
            "훈련용 리뷰 개수 : 25000\n",
            "테스트용 리뷰 개수 : 25000\n"
          ],
          "name": "stdout"
        },
        {
          "output_type": "stream",
          "text": [
            "/usr/local/lib/python3.7/dist-packages/tensorflow/python/keras/datasets/imdb.py:160: VisibleDeprecationWarning: Creating an ndarray from ragged nested sequences (which is a list-or-tuple of lists-or-tuples-or ndarrays with different lengths or shapes) is deprecated. If you meant to do this, you must specify 'dtype=object' when creating the ndarray\n",
            "  x_test, y_test = np.array(xs[idx:]), np.array(labels[idx:])\n"
          ],
          "name": "stderr"
        }
      ]
    },
    {
      "cell_type": "code",
      "metadata": {
        "id": "gjgb-mms2IeQ"
      },
      "source": [
        "X_train = tf.keras.preprocessing.sequence.pad_sequences(X_train, maxlen=max_len)\n",
        "X_test = tf.keras.preprocessing.sequence.pad_sequences(X_test, maxlen=max_len)"
      ],
      "execution_count": 10,
      "outputs": []
    },
    {
      "cell_type": "markdown",
      "metadata": {
        "id": "W1UD8VQpDHQ5"
      },
      "source": [
        "## 설계한 트랜스포머를 이용한 리뷰 분류"
      ]
    },
    {
      "cell_type": "code",
      "metadata": {
        "id": "Tl2aNEVU2IgQ"
      },
      "source": [
        "embedding_dim = 32  # 각 단어의 임베딩 벡터의 차원\n",
        "num_heads = 2  # 어텐션 헤드의 수\n",
        "dff = 32  # 포지션 와이즈 피드 포워드 신경망의 은닉층의 크기\n",
        "\n",
        "inputs = tf.keras.layers.Input(shape=(max_len,))\n",
        "embedding_layer = TokenAndPositionEmbedding(max_len, vocab_size, embedding_dim)\n",
        "x = embedding_layer(inputs)\n",
        "transformer_block = TransformerBlock(embedding_dim, num_heads, dff)\n",
        "x = transformer_block(x)\n",
        "x = tf.keras.layers.GlobalAveragePooling1D()(x)\n",
        "x = tf.keras.layers.Dropout(0.1)(x)\n",
        "x = tf.keras.layers.Dense(20, activation=\"relu\")(x)\n",
        "x = tf.keras.layers.Dropout(0.1)(x)\n",
        "outputs = tf.keras.layers.Dense(2, activation=\"softmax\")(x)\n",
        "\n",
        "model = tf.keras.Model(inputs=inputs, outputs=outputs)"
      ],
      "execution_count": 11,
      "outputs": []
    },
    {
      "cell_type": "code",
      "metadata": {
        "colab": {
          "base_uri": "https://localhost:8080/"
        },
        "id": "6bILydDA2IiY",
        "outputId": "6be51bf5-21bf-4f91-9387-a0c6d961e50d"
      },
      "source": [
        "model.compile(\"adam\", \"sparse_categorical_crossentropy\", metrics=[\"accuracy\"])\n",
        "history = model.fit(X_train, y_train, batch_size=32, epochs=2, validation_data=(X_test, y_test))"
      ],
      "execution_count": 12,
      "outputs": [
        {
          "output_type": "stream",
          "text": [
            "Epoch 1/2\n",
            "782/782 [==============================] - 27s 30ms/step - loss: 0.5100 - accuracy: 0.7171 - val_loss: 0.2999 - val_accuracy: 0.8716\n",
            "Epoch 2/2\n",
            "782/782 [==============================] - 23s 29ms/step - loss: 0.2054 - accuracy: 0.9239 - val_loss: 0.3080 - val_accuracy: 0.8722\n"
          ],
          "name": "stdout"
        }
      ]
    },
    {
      "cell_type": "code",
      "metadata": {
        "colab": {
          "base_uri": "https://localhost:8080/"
        },
        "id": "rdGgkknE2Ikc",
        "outputId": "607d62aa-97c0-49cf-95b2-1532a8a6d178"
      },
      "source": [
        "print(\"테스트 정확도: %.4f\" % (model.evaluate(X_test, y_test)[1]))"
      ],
      "execution_count": 13,
      "outputs": [
        {
          "output_type": "stream",
          "text": [
            "782/782 [==============================] - 6s 8ms/step - loss: 0.3080 - accuracy: 0.8722\n",
            "테스트 정확도: 0.8722\n"
          ],
          "name": "stdout"
        }
      ]
    },
    {
      "cell_type": "code",
      "metadata": {
        "id": "4m_QTDh_2Imp"
      },
      "source": [
        ""
      ],
      "execution_count": null,
      "outputs": []
    },
    {
      "cell_type": "code",
      "metadata": {
        "id": "ydssYGRT2Io5"
      },
      "source": [
        ""
      ],
      "execution_count": null,
      "outputs": []
    }
  ]
}